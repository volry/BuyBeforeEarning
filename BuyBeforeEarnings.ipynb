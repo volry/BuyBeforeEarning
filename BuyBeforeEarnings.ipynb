{
 "cells": [
  {
   "cell_type": "code",
   "execution_count": 72,
   "metadata": {},
   "outputs": [],
   "source": [
    "import pandas as pd\n",
    "import os\n",
    "import matplotlib.pyplot as plt\n",
    "import seaborn as sns\n",
    "import yfinance as yf\n",
    "import plotly.express as px\n",
    "\n",
    "#Global var\n",
    "init_cap = 2000\n",
    "price_limit = 5 # don't open position if price exceeded price_limit\n",
    "risk_free_rate = 5.0\n",
    "\n",
    "#directory path\n",
    "dir_path =r'D:\\OneDrive\\stock\\Leleka\\BuyBeforeEarnings\\inputForPython'\n",
    "csv_files = [f for f in os.listdir(dir_path) if f.endswith('.csv')]\n",
    "\n",
    "if not csv_files:\n",
    "    print('No CSV file in directory')\n",
    "\n"
   ]
  },
  {
   "cell_type": "code",
   "execution_count": 73,
   "metadata": {},
   "outputs": [],
   "source": [
    "# add stock list to filter data\n",
    "df_stock = pd.read_excel('InputStocks.xlsx')\n"
   ]
  },
  {
   "cell_type": "code",
   "execution_count": 74,
   "metadata": {},
   "outputs": [],
   "source": [
    "# Using the str.cat() method without the underscore separator\n",
    "df_stock['Y_Symbol'] = df_stock['Year'].astype(str).str.cat(df_stock['Symbol'], sep='')\n",
    "\n",
    "\n"
   ]
  },
  {
   "cell_type": "code",
   "execution_count": 75,
   "metadata": {},
   "outputs": [
    {
     "data": {
      "text/html": [
       "<div>\n",
       "<style scoped>\n",
       "    .dataframe tbody tr th:only-of-type {\n",
       "        vertical-align: middle;\n",
       "    }\n",
       "\n",
       "    .dataframe tbody tr th {\n",
       "        vertical-align: top;\n",
       "    }\n",
       "\n",
       "    .dataframe thead th {\n",
       "        text-align: right;\n",
       "    }\n",
       "</style>\n",
       "<table border=\"1\" class=\"dataframe\">\n",
       "  <thead>\n",
       "    <tr style=\"text-align: right;\">\n",
       "      <th></th>\n",
       "      <th>Year</th>\n",
       "      <th>Symbol</th>\n",
       "      <th>Y_Symbol</th>\n",
       "    </tr>\n",
       "  </thead>\n",
       "  <tbody>\n",
       "    <tr>\n",
       "      <th>0</th>\n",
       "      <td>2007</td>\n",
       "      <td>XOM</td>\n",
       "      <td>2007 XOM</td>\n",
       "    </tr>\n",
       "    <tr>\n",
       "      <th>1</th>\n",
       "      <td>2008</td>\n",
       "      <td>XOM</td>\n",
       "      <td>2008 XOM</td>\n",
       "    </tr>\n",
       "    <tr>\n",
       "      <th>2</th>\n",
       "      <td>2009</td>\n",
       "      <td>XOM</td>\n",
       "      <td>2009 XOM</td>\n",
       "    </tr>\n",
       "    <tr>\n",
       "      <th>3</th>\n",
       "      <td>2010</td>\n",
       "      <td>XOM</td>\n",
       "      <td>2010 XOM</td>\n",
       "    </tr>\n",
       "    <tr>\n",
       "      <th>4</th>\n",
       "      <td>2011</td>\n",
       "      <td>AAPL</td>\n",
       "      <td>2011 AAPL</td>\n",
       "    </tr>\n",
       "    <tr>\n",
       "      <th>...</th>\n",
       "      <td>...</td>\n",
       "      <td>...</td>\n",
       "      <td>...</td>\n",
       "    </tr>\n",
       "    <tr>\n",
       "      <th>145</th>\n",
       "      <td>2017</td>\n",
       "      <td>BAC</td>\n",
       "      <td>2017 BAC</td>\n",
       "    </tr>\n",
       "    <tr>\n",
       "      <th>146</th>\n",
       "      <td>2018</td>\n",
       "      <td>V</td>\n",
       "      <td>2018 V</td>\n",
       "    </tr>\n",
       "    <tr>\n",
       "      <th>147</th>\n",
       "      <td>2019</td>\n",
       "      <td>PG</td>\n",
       "      <td>2019 PG</td>\n",
       "    </tr>\n",
       "    <tr>\n",
       "      <th>148</th>\n",
       "      <td>2020</td>\n",
       "      <td>JPM</td>\n",
       "      <td>2020 JPM</td>\n",
       "    </tr>\n",
       "    <tr>\n",
       "      <th>149</th>\n",
       "      <td>2021</td>\n",
       "      <td>V</td>\n",
       "      <td>2021 V</td>\n",
       "    </tr>\n",
       "  </tbody>\n",
       "</table>\n",
       "<p>150 rows × 3 columns</p>\n",
       "</div>"
      ],
      "text/plain": [
       "     Year Symbol   Y_Symbol\n",
       "0    2007    XOM   2007 XOM\n",
       "1    2008    XOM   2008 XOM\n",
       "2    2009    XOM   2009 XOM\n",
       "3    2010    XOM   2010 XOM\n",
       "4    2011   AAPL  2011 AAPL\n",
       "..    ...    ...        ...\n",
       "145  2017    BAC   2017 BAC\n",
       "146  2018      V     2018 V\n",
       "147  2019     PG    2019 PG\n",
       "148  2020    JPM   2020 JPM\n",
       "149  2021      V     2021 V\n",
       "\n",
       "[150 rows x 3 columns]"
      ]
     },
     "execution_count": 75,
     "metadata": {},
     "output_type": "execute_result"
    }
   ],
   "source": [
    "df_stock"
   ]
  },
  {
   "cell_type": "code",
   "execution_count": 76,
   "metadata": {},
   "outputs": [
    {
     "data": {
      "text/html": [
       "<div>\n",
       "<style scoped>\n",
       "    .dataframe tbody tr th:only-of-type {\n",
       "        vertical-align: middle;\n",
       "    }\n",
       "\n",
       "    .dataframe tbody tr th {\n",
       "        vertical-align: top;\n",
       "    }\n",
       "\n",
       "    .dataframe thead th {\n",
       "        text-align: right;\n",
       "    }\n",
       "</style>\n",
       "<table border=\"1\" class=\"dataframe\">\n",
       "  <thead>\n",
       "    <tr style=\"text-align: right;\">\n",
       "      <th></th>\n",
       "      <th>Year</th>\n",
       "      <th>Symbol</th>\n",
       "      <th>Y_Symbol</th>\n",
       "    </tr>\n",
       "  </thead>\n",
       "  <tbody>\n",
       "    <tr>\n",
       "      <th>0</th>\n",
       "      <td>2007</td>\n",
       "      <td>XOM</td>\n",
       "      <td>2007 XOM</td>\n",
       "    </tr>\n",
       "    <tr>\n",
       "      <th>1</th>\n",
       "      <td>2008</td>\n",
       "      <td>XOM</td>\n",
       "      <td>2008 XOM</td>\n",
       "    </tr>\n",
       "    <tr>\n",
       "      <th>2</th>\n",
       "      <td>2009</td>\n",
       "      <td>XOM</td>\n",
       "      <td>2009 XOM</td>\n",
       "    </tr>\n",
       "    <tr>\n",
       "      <th>3</th>\n",
       "      <td>2010</td>\n",
       "      <td>XOM</td>\n",
       "      <td>2010 XOM</td>\n",
       "    </tr>\n",
       "    <tr>\n",
       "      <th>4</th>\n",
       "      <td>2011</td>\n",
       "      <td>AAPL</td>\n",
       "      <td>2011 AAPL</td>\n",
       "    </tr>\n",
       "    <tr>\n",
       "      <th>...</th>\n",
       "      <td>...</td>\n",
       "      <td>...</td>\n",
       "      <td>...</td>\n",
       "    </tr>\n",
       "    <tr>\n",
       "      <th>145</th>\n",
       "      <td>2017</td>\n",
       "      <td>BAC</td>\n",
       "      <td>2017 BAC</td>\n",
       "    </tr>\n",
       "    <tr>\n",
       "      <th>146</th>\n",
       "      <td>2018</td>\n",
       "      <td>V</td>\n",
       "      <td>2018 V</td>\n",
       "    </tr>\n",
       "    <tr>\n",
       "      <th>147</th>\n",
       "      <td>2019</td>\n",
       "      <td>PG</td>\n",
       "      <td>2019 PG</td>\n",
       "    </tr>\n",
       "    <tr>\n",
       "      <th>148</th>\n",
       "      <td>2020</td>\n",
       "      <td>JPM</td>\n",
       "      <td>2020 JPM</td>\n",
       "    </tr>\n",
       "    <tr>\n",
       "      <th>149</th>\n",
       "      <td>2021</td>\n",
       "      <td>V</td>\n",
       "      <td>2021 V</td>\n",
       "    </tr>\n",
       "  </tbody>\n",
       "</table>\n",
       "<p>150 rows × 3 columns</p>\n",
       "</div>"
      ],
      "text/plain": [
       "     Year Symbol   Y_Symbol\n",
       "0    2007    XOM   2007 XOM\n",
       "1    2008    XOM   2008 XOM\n",
       "2    2009    XOM   2009 XOM\n",
       "3    2010    XOM   2010 XOM\n",
       "4    2011   AAPL  2011 AAPL\n",
       "..    ...    ...        ...\n",
       "145  2017    BAC   2017 BAC\n",
       "146  2018      V     2018 V\n",
       "147  2019     PG    2019 PG\n",
       "148  2020    JPM   2020 JPM\n",
       "149  2021      V     2021 V\n",
       "\n",
       "[150 rows x 3 columns]"
      ]
     },
     "execution_count": 76,
     "metadata": {},
     "output_type": "execute_result"
    }
   ],
   "source": [
    "df_stock"
   ]
  },
  {
   "cell_type": "code",
   "execution_count": 41,
   "metadata": {},
   "outputs": [],
   "source": [
    "#df_stock.to_excel('df_stock_result.xlsx')"
   ]
  },
  {
   "cell_type": "code",
   "execution_count": 77,
   "metadata": {},
   "outputs": [],
   "source": [
    "dataframes={}\n",
    "all_data = []  # List to store all individual dataframes\n",
    "\n",
    "for file in csv_files:\n",
    "    file_path = os.path.join(dir_path, file)\n",
    "    df = pd.read_csv(file_path)\n",
    "    key_name = os.path.splitext(file)[0]\n",
    "    dataframes[key_name] = df\n",
    "    all_data.append(df)\n",
    "\n",
    "# Concatenate all individual dataframes to form a single dataframe\n",
    "combined_df = pd.concat(all_data, ignore_index=True)"
   ]
  },
  {
   "cell_type": "code",
   "execution_count": 20,
   "metadata": {},
   "outputs": [],
   "source": [
    "#combined_df"
   ]
  },
  {
   "cell_type": "code",
   "execution_count": 78,
   "metadata": {},
   "outputs": [],
   "source": [
    "# remove dollar symbol\n",
    "combined_df['Profit/Loss'] = combined_df['Profit/Loss'].str.replace('$','', regex = False)\n",
    "combined_df['Trade Price'] = combined_df['Trade Price'].str.replace('$','', regex = False)\n",
    "combined_df['Stock Price'] = combined_df['Stock Price'].str.replace('$','', regex = False)\n",
    "combined_df['Adjusted Stock Price'] = combined_df['Adjusted Stock Price'].str.replace('$','', regex = False)\n",
    "\n",
    "# convert in numbers\n",
    "combined_df['Profit/Loss']= pd.to_numeric(combined_df['Profit/Loss'],errors='coerce')\n",
    "combined_df['Trade Price']= pd.to_numeric(combined_df['Trade Price'],errors='coerce')\n",
    "\n",
    "# convert date \n",
    "combined_df['Date'] = pd.to_datetime(combined_df['Date'])\n",
    "combined_df = combined_df.reset_index(drop=True)\n"
   ]
  },
  {
   "cell_type": "code",
   "execution_count": 22,
   "metadata": {},
   "outputs": [],
   "source": [
    "#combined_df.to_excel('combined_df.xlsx')\n"
   ]
  },
  {
   "cell_type": "code",
   "execution_count": 79,
   "metadata": {},
   "outputs": [],
   "source": [
    "# calculate CS open price\n",
    "combined_df.loc[combined_df[\"Size\"] == -1, \"Trade Price\"] *= -1  # if size -1 then we sold options it's reduce our calls costs\n",
    "grouped_by_date = combined_df.groupby(['Date','Symbol'])[['Trade Price', 'Profit/Loss']].sum().reset_index()\n"
   ]
  },
  {
   "cell_type": "code",
   "execution_count": 80,
   "metadata": {},
   "outputs": [],
   "source": [
    "# sorf dataframe\n",
    "sorted_df = grouped_by_date.sort_values(by=['Symbol','Date'])\n"
   ]
  },
  {
   "cell_type": "code",
   "execution_count": 81,
   "metadata": {},
   "outputs": [],
   "source": [
    "# delete result values of option\n",
    "sorted_df.loc[sorted_df['Profit/Loss']!=0, 'Trade Price']=0\n"
   ]
  },
  {
   "cell_type": "code",
   "execution_count": 82,
   "metadata": {},
   "outputs": [],
   "source": [
    "# Here I delete rows where price_limit exceed my limit\n",
    "\n",
    "\n",
    "# Identify rows where \"Trade Price\" is greater than price_limit\n",
    "to_drop = sorted_df[sorted_df['Trade Price'] > price_limit]\n",
    "\n",
    "# For each of these rows, identify the next row with the same \"Symbol\" and a subsequent date\n",
    "drop_indices = []\n",
    "for idx, row in to_drop.iterrows():\n",
    "    drop_indices.append(idx)\n",
    "    next_row = sorted_df[(sorted_df['Symbol'] == row['Symbol']) & (sorted_df['Date'] > row['Date'])].head(1)\n",
    "    if not next_row.empty:\n",
    "        drop_indices.append(next_row.index[0])\n",
    "\n",
    "# Drop these rows from the DataFrame\n",
    "sorted_df = sorted_df.drop(drop_indices)\n"
   ]
  },
  {
   "cell_type": "code",
   "execution_count": 83,
   "metadata": {},
   "outputs": [],
   "source": [
    "# sort by date to build chart\n",
    "sorted_df = sorted_df.sort_values(by='Date')"
   ]
  },
  {
   "cell_type": "code",
   "execution_count": 28,
   "metadata": {},
   "outputs": [],
   "source": [
    "#sorted_df.to_excel('sorted.xlsx')"
   ]
  },
  {
   "cell_type": "code",
   "execution_count": 84,
   "metadata": {},
   "outputs": [
    {
     "name": "stdout",
     "output_type": "stream",
     "text": [
      "[*********************100%***********************]  1 of 1 completed\n"
     ]
    }
   ],
   "source": [
    "# making cummulative sum of profit\n",
    "df_chart = sorted_df.copy()\n",
    "df_chart['CumSum'] = df_chart['Profit/Loss'].cumsum()\n",
    "\n",
    "# add SPY price to compare\n",
    "\n",
    "start_date = df_chart['Date'].min()\n",
    "end_date = df_chart['Date'].max()\n",
    "\n",
    "# Fetch SPY data for the given date range\n",
    "spy_data = yf.download('SPY', start=start_date, end=end_date)\n",
    "\n",
    "# Merge the data\n",
    "df_chart = df_chart.merge(spy_data[['Close']], left_on='Date', right_index=True, how='left')\n",
    "df_chart.rename(columns={'Close': 'SPY Price'}, inplace=True)"
   ]
  },
  {
   "cell_type": "code",
   "execution_count": 85,
   "metadata": {},
   "outputs": [
    {
     "data": {
      "text/html": [
       "<div>\n",
       "<style scoped>\n",
       "    .dataframe tbody tr th:only-of-type {\n",
       "        vertical-align: middle;\n",
       "    }\n",
       "\n",
       "    .dataframe tbody tr th {\n",
       "        vertical-align: top;\n",
       "    }\n",
       "\n",
       "    .dataframe thead th {\n",
       "        text-align: right;\n",
       "    }\n",
       "</style>\n",
       "<table border=\"1\" class=\"dataframe\">\n",
       "  <thead>\n",
       "    <tr style=\"text-align: right;\">\n",
       "      <th></th>\n",
       "      <th>Date</th>\n",
       "      <th>Symbol</th>\n",
       "      <th>Trade Price</th>\n",
       "      <th>Profit/Loss</th>\n",
       "      <th>CumSum</th>\n",
       "      <th>SPY Price</th>\n",
       "    </tr>\n",
       "  </thead>\n",
       "  <tbody>\n",
       "    <tr>\n",
       "      <th>0</th>\n",
       "      <td>2013-09-25</td>\n",
       "      <td>WFC</td>\n",
       "      <td>0.26</td>\n",
       "      <td>0.0</td>\n",
       "      <td>0.0</td>\n",
       "      <td>169.039993</td>\n",
       "    </tr>\n",
       "    <tr>\n",
       "      <th>1</th>\n",
       "      <td>2013-09-30</td>\n",
       "      <td>JNJ</td>\n",
       "      <td>0.87</td>\n",
       "      <td>0.0</td>\n",
       "      <td>0.0</td>\n",
       "      <td>168.009995</td>\n",
       "    </tr>\n",
       "    <tr>\n",
       "      <th>2</th>\n",
       "      <td>2013-10-02</td>\n",
       "      <td>GE</td>\n",
       "      <td>0.24</td>\n",
       "      <td>0.0</td>\n",
       "      <td>0.0</td>\n",
       "      <td>169.179993</td>\n",
       "    </tr>\n",
       "    <tr>\n",
       "      <th>4</th>\n",
       "      <td>2013-10-08</td>\n",
       "      <td>MSFT</td>\n",
       "      <td>0.32</td>\n",
       "      <td>0.0</td>\n",
       "      <td>0.0</td>\n",
       "      <td>165.479996</td>\n",
       "    </tr>\n",
       "    <tr>\n",
       "      <th>3</th>\n",
       "      <td>2013-10-08</td>\n",
       "      <td>AMZN</td>\n",
       "      <td>3.20</td>\n",
       "      <td>0.0</td>\n",
       "      <td>0.0</td>\n",
       "      <td>165.479996</td>\n",
       "    </tr>\n",
       "    <tr>\n",
       "      <th>...</th>\n",
       "      <td>...</td>\n",
       "      <td>...</td>\n",
       "      <td>...</td>\n",
       "      <td>...</td>\n",
       "      <td>...</td>\n",
       "      <td>...</td>\n",
       "    </tr>\n",
       "    <tr>\n",
       "      <th>791</th>\n",
       "      <td>2023-07-26</td>\n",
       "      <td>V</td>\n",
       "      <td>0.00</td>\n",
       "      <td>-82.0</td>\n",
       "      <td>11272.0</td>\n",
       "      <td>455.510010</td>\n",
       "    </tr>\n",
       "    <tr>\n",
       "      <th>792</th>\n",
       "      <td>2023-07-27</td>\n",
       "      <td>META</td>\n",
       "      <td>0.00</td>\n",
       "      <td>188.0</td>\n",
       "      <td>11460.0</td>\n",
       "      <td>452.489990</td>\n",
       "    </tr>\n",
       "    <tr>\n",
       "      <th>793</th>\n",
       "      <td>2023-07-31</td>\n",
       "      <td>XOM</td>\n",
       "      <td>0.00</td>\n",
       "      <td>-24.0</td>\n",
       "      <td>11436.0</td>\n",
       "      <td>457.790009</td>\n",
       "    </tr>\n",
       "    <tr>\n",
       "      <th>794</th>\n",
       "      <td>2023-08-04</td>\n",
       "      <td>AAPL</td>\n",
       "      <td>0.00</td>\n",
       "      <td>-137.0</td>\n",
       "      <td>11299.0</td>\n",
       "      <td>NaN</td>\n",
       "    </tr>\n",
       "    <tr>\n",
       "      <th>795</th>\n",
       "      <td>2023-08-04</td>\n",
       "      <td>AMZN</td>\n",
       "      <td>0.00</td>\n",
       "      <td>73.0</td>\n",
       "      <td>11372.0</td>\n",
       "      <td>NaN</td>\n",
       "    </tr>\n",
       "  </tbody>\n",
       "</table>\n",
       "<p>690 rows × 6 columns</p>\n",
       "</div>"
      ],
      "text/plain": [
       "          Date Symbol  Trade Price  Profit/Loss   CumSum   SPY Price\n",
       "0   2013-09-25    WFC         0.26          0.0      0.0  169.039993\n",
       "1   2013-09-30    JNJ         0.87          0.0      0.0  168.009995\n",
       "2   2013-10-02     GE         0.24          0.0      0.0  169.179993\n",
       "4   2013-10-08   MSFT         0.32          0.0      0.0  165.479996\n",
       "3   2013-10-08   AMZN         3.20          0.0      0.0  165.479996\n",
       "..         ...    ...          ...          ...      ...         ...\n",
       "791 2023-07-26      V         0.00        -82.0  11272.0  455.510010\n",
       "792 2023-07-27   META         0.00        188.0  11460.0  452.489990\n",
       "793 2023-07-31    XOM         0.00        -24.0  11436.0  457.790009\n",
       "794 2023-08-04   AAPL         0.00       -137.0  11299.0         NaN\n",
       "795 2023-08-04   AMZN         0.00         73.0  11372.0         NaN\n",
       "\n",
       "[690 rows x 6 columns]"
      ]
     },
     "execution_count": 85,
     "metadata": {},
     "output_type": "execute_result"
    }
   ],
   "source": [
    "df_chart"
   ]
  },
  {
   "cell_type": "code",
   "execution_count": null,
   "metadata": {},
   "outputs": [],
   "source": []
  },
  {
   "cell_type": "code",
   "execution_count": null,
   "metadata": {},
   "outputs": [],
   "source": []
  },
  {
   "cell_type": "code",
   "execution_count": 86,
   "metadata": {},
   "outputs": [],
   "source": [
    "# 1. Determine the price of SPY on the start date\n",
    "start_date = df_chart['Date'].iloc[0]\n",
    "spy_start_price = df_chart.loc[df_chart['Date'] == start_date, 'SPY Price'].iloc[0]\n",
    "\n",
    "# 2. Calculate the number of SPY shares bought with the initial capital\n",
    "num_shares = init_cap / spy_start_price\n",
    "\n",
    "# 3. Calculate the value of those shares for each date in the DataFrame\n",
    "df_chart['SPY_buy_hold'] = num_shares * df_chart['SPY Price']-init_cap\n",
    "df_chart['SPY_buy_hold'] = df_chart['SPY_buy_hold'].round(2)\n",
    "\n",
    "# making cummulative sum of profit of SPY\n",
    "df_chart_comp = df_chart.copy()\n"
   ]
  },
  {
   "cell_type": "code",
   "execution_count": 87,
   "metadata": {},
   "outputs": [],
   "source": [
    "df_chart_comp['Year'] = df_chart_comp['Date'].dt.year\n"
   ]
  },
  {
   "cell_type": "code",
   "execution_count": 88,
   "metadata": {},
   "outputs": [],
   "source": [
    "df_chart_comp['Y_Symbol'] = df_chart_comp['Year'].astype(str).str.cat(df_chart_comp['Symbol'], sep='')\n"
   ]
  },
  {
   "cell_type": "code",
   "execution_count": 92,
   "metadata": {},
   "outputs": [],
   "source": [
    "#df_chart_comp['Y_Symbol'] = df_chart_comp['Y_Symbol'].str.strip()\n",
    "df_stock['Y_Symbol'] = df_stock['Y_Symbol'].str.replace(' ', '')"
   ]
  },
  {
   "cell_type": "code",
   "execution_count": 93,
   "metadata": {},
   "outputs": [
    {
     "data": {
      "text/html": [
       "<div>\n",
       "<style scoped>\n",
       "    .dataframe tbody tr th:only-of-type {\n",
       "        vertical-align: middle;\n",
       "    }\n",
       "\n",
       "    .dataframe tbody tr th {\n",
       "        vertical-align: top;\n",
       "    }\n",
       "\n",
       "    .dataframe thead th {\n",
       "        text-align: right;\n",
       "    }\n",
       "</style>\n",
       "<table border=\"1\" class=\"dataframe\">\n",
       "  <thead>\n",
       "    <tr style=\"text-align: right;\">\n",
       "      <th></th>\n",
       "      <th>Year</th>\n",
       "      <th>Symbol</th>\n",
       "      <th>Y_Symbol</th>\n",
       "    </tr>\n",
       "  </thead>\n",
       "  <tbody>\n",
       "    <tr>\n",
       "      <th>0</th>\n",
       "      <td>2007</td>\n",
       "      <td>XOM</td>\n",
       "      <td>2007XOM</td>\n",
       "    </tr>\n",
       "    <tr>\n",
       "      <th>1</th>\n",
       "      <td>2008</td>\n",
       "      <td>XOM</td>\n",
       "      <td>2008XOM</td>\n",
       "    </tr>\n",
       "    <tr>\n",
       "      <th>2</th>\n",
       "      <td>2009</td>\n",
       "      <td>XOM</td>\n",
       "      <td>2009XOM</td>\n",
       "    </tr>\n",
       "    <tr>\n",
       "      <th>3</th>\n",
       "      <td>2010</td>\n",
       "      <td>XOM</td>\n",
       "      <td>2010XOM</td>\n",
       "    </tr>\n",
       "    <tr>\n",
       "      <th>4</th>\n",
       "      <td>2011</td>\n",
       "      <td>AAPL</td>\n",
       "      <td>2011AAPL</td>\n",
       "    </tr>\n",
       "    <tr>\n",
       "      <th>...</th>\n",
       "      <td>...</td>\n",
       "      <td>...</td>\n",
       "      <td>...</td>\n",
       "    </tr>\n",
       "    <tr>\n",
       "      <th>145</th>\n",
       "      <td>2017</td>\n",
       "      <td>BAC</td>\n",
       "      <td>2017BAC</td>\n",
       "    </tr>\n",
       "    <tr>\n",
       "      <th>146</th>\n",
       "      <td>2018</td>\n",
       "      <td>V</td>\n",
       "      <td>2018V</td>\n",
       "    </tr>\n",
       "    <tr>\n",
       "      <th>147</th>\n",
       "      <td>2019</td>\n",
       "      <td>PG</td>\n",
       "      <td>2019PG</td>\n",
       "    </tr>\n",
       "    <tr>\n",
       "      <th>148</th>\n",
       "      <td>2020</td>\n",
       "      <td>JPM</td>\n",
       "      <td>2020JPM</td>\n",
       "    </tr>\n",
       "    <tr>\n",
       "      <th>149</th>\n",
       "      <td>2021</td>\n",
       "      <td>V</td>\n",
       "      <td>2021V</td>\n",
       "    </tr>\n",
       "  </tbody>\n",
       "</table>\n",
       "<p>150 rows × 3 columns</p>\n",
       "</div>"
      ],
      "text/plain": [
       "     Year Symbol  Y_Symbol\n",
       "0    2007    XOM   2007XOM\n",
       "1    2008    XOM   2008XOM\n",
       "2    2009    XOM   2009XOM\n",
       "3    2010    XOM   2010XOM\n",
       "4    2011   AAPL  2011AAPL\n",
       "..    ...    ...       ...\n",
       "145  2017    BAC   2017BAC\n",
       "146  2018      V     2018V\n",
       "147  2019     PG    2019PG\n",
       "148  2020    JPM   2020JPM\n",
       "149  2021      V     2021V\n",
       "\n",
       "[150 rows x 3 columns]"
      ]
     },
     "execution_count": 93,
     "metadata": {},
     "output_type": "execute_result"
    }
   ],
   "source": [
    "df_stock"
   ]
  },
  {
   "cell_type": "code",
   "execution_count": 94,
   "metadata": {},
   "outputs": [
    {
     "data": {
      "text/html": [
       "<div>\n",
       "<style scoped>\n",
       "    .dataframe tbody tr th:only-of-type {\n",
       "        vertical-align: middle;\n",
       "    }\n",
       "\n",
       "    .dataframe tbody tr th {\n",
       "        vertical-align: top;\n",
       "    }\n",
       "\n",
       "    .dataframe thead th {\n",
       "        text-align: right;\n",
       "    }\n",
       "</style>\n",
       "<table border=\"1\" class=\"dataframe\">\n",
       "  <thead>\n",
       "    <tr style=\"text-align: right;\">\n",
       "      <th></th>\n",
       "      <th>Date</th>\n",
       "      <th>Symbol</th>\n",
       "      <th>Trade Price</th>\n",
       "      <th>Profit/Loss</th>\n",
       "      <th>CumSum</th>\n",
       "      <th>SPY Price</th>\n",
       "      <th>SPY_buy_hold</th>\n",
       "      <th>Year</th>\n",
       "      <th>Y_Symbol</th>\n",
       "    </tr>\n",
       "  </thead>\n",
       "  <tbody>\n",
       "    <tr>\n",
       "      <th>0</th>\n",
       "      <td>2013-09-25</td>\n",
       "      <td>WFC</td>\n",
       "      <td>0.26</td>\n",
       "      <td>0.0</td>\n",
       "      <td>0.0</td>\n",
       "      <td>169.039993</td>\n",
       "      <td>0.00</td>\n",
       "      <td>2013</td>\n",
       "      <td>2013WFC</td>\n",
       "    </tr>\n",
       "    <tr>\n",
       "      <th>1</th>\n",
       "      <td>2013-09-30</td>\n",
       "      <td>JNJ</td>\n",
       "      <td>0.87</td>\n",
       "      <td>0.0</td>\n",
       "      <td>0.0</td>\n",
       "      <td>168.009995</td>\n",
       "      <td>-12.19</td>\n",
       "      <td>2013</td>\n",
       "      <td>2013JNJ</td>\n",
       "    </tr>\n",
       "    <tr>\n",
       "      <th>2</th>\n",
       "      <td>2013-10-02</td>\n",
       "      <td>GE</td>\n",
       "      <td>0.24</td>\n",
       "      <td>0.0</td>\n",
       "      <td>0.0</td>\n",
       "      <td>169.179993</td>\n",
       "      <td>1.66</td>\n",
       "      <td>2013</td>\n",
       "      <td>2013GE</td>\n",
       "    </tr>\n",
       "    <tr>\n",
       "      <th>4</th>\n",
       "      <td>2013-10-08</td>\n",
       "      <td>MSFT</td>\n",
       "      <td>0.32</td>\n",
       "      <td>0.0</td>\n",
       "      <td>0.0</td>\n",
       "      <td>165.479996</td>\n",
       "      <td>-42.12</td>\n",
       "      <td>2013</td>\n",
       "      <td>2013MSFT</td>\n",
       "    </tr>\n",
       "    <tr>\n",
       "      <th>3</th>\n",
       "      <td>2013-10-08</td>\n",
       "      <td>AMZN</td>\n",
       "      <td>3.20</td>\n",
       "      <td>0.0</td>\n",
       "      <td>0.0</td>\n",
       "      <td>165.479996</td>\n",
       "      <td>-42.12</td>\n",
       "      <td>2013</td>\n",
       "      <td>2013AMZN</td>\n",
       "    </tr>\n",
       "    <tr>\n",
       "      <th>...</th>\n",
       "      <td>...</td>\n",
       "      <td>...</td>\n",
       "      <td>...</td>\n",
       "      <td>...</td>\n",
       "      <td>...</td>\n",
       "      <td>...</td>\n",
       "      <td>...</td>\n",
       "      <td>...</td>\n",
       "      <td>...</td>\n",
       "    </tr>\n",
       "    <tr>\n",
       "      <th>791</th>\n",
       "      <td>2023-07-26</td>\n",
       "      <td>V</td>\n",
       "      <td>0.00</td>\n",
       "      <td>-82.0</td>\n",
       "      <td>11272.0</td>\n",
       "      <td>455.510010</td>\n",
       "      <td>3389.38</td>\n",
       "      <td>2023</td>\n",
       "      <td>2023V</td>\n",
       "    </tr>\n",
       "    <tr>\n",
       "      <th>792</th>\n",
       "      <td>2023-07-27</td>\n",
       "      <td>META</td>\n",
       "      <td>0.00</td>\n",
       "      <td>188.0</td>\n",
       "      <td>11460.0</td>\n",
       "      <td>452.489990</td>\n",
       "      <td>3353.64</td>\n",
       "      <td>2023</td>\n",
       "      <td>2023META</td>\n",
       "    </tr>\n",
       "    <tr>\n",
       "      <th>793</th>\n",
       "      <td>2023-07-31</td>\n",
       "      <td>XOM</td>\n",
       "      <td>0.00</td>\n",
       "      <td>-24.0</td>\n",
       "      <td>11436.0</td>\n",
       "      <td>457.790009</td>\n",
       "      <td>3416.35</td>\n",
       "      <td>2023</td>\n",
       "      <td>2023XOM</td>\n",
       "    </tr>\n",
       "    <tr>\n",
       "      <th>794</th>\n",
       "      <td>2023-08-04</td>\n",
       "      <td>AAPL</td>\n",
       "      <td>0.00</td>\n",
       "      <td>-137.0</td>\n",
       "      <td>11299.0</td>\n",
       "      <td>NaN</td>\n",
       "      <td>NaN</td>\n",
       "      <td>2023</td>\n",
       "      <td>2023AAPL</td>\n",
       "    </tr>\n",
       "    <tr>\n",
       "      <th>795</th>\n",
       "      <td>2023-08-04</td>\n",
       "      <td>AMZN</td>\n",
       "      <td>0.00</td>\n",
       "      <td>73.0</td>\n",
       "      <td>11372.0</td>\n",
       "      <td>NaN</td>\n",
       "      <td>NaN</td>\n",
       "      <td>2023</td>\n",
       "      <td>2023AMZN</td>\n",
       "    </tr>\n",
       "  </tbody>\n",
       "</table>\n",
       "<p>690 rows × 9 columns</p>\n",
       "</div>"
      ],
      "text/plain": [
       "          Date Symbol  Trade Price  Profit/Loss   CumSum   SPY Price  \\\n",
       "0   2013-09-25    WFC         0.26          0.0      0.0  169.039993   \n",
       "1   2013-09-30    JNJ         0.87          0.0      0.0  168.009995   \n",
       "2   2013-10-02     GE         0.24          0.0      0.0  169.179993   \n",
       "4   2013-10-08   MSFT         0.32          0.0      0.0  165.479996   \n",
       "3   2013-10-08   AMZN         3.20          0.0      0.0  165.479996   \n",
       "..         ...    ...          ...          ...      ...         ...   \n",
       "791 2023-07-26      V         0.00        -82.0  11272.0  455.510010   \n",
       "792 2023-07-27   META         0.00        188.0  11460.0  452.489990   \n",
       "793 2023-07-31    XOM         0.00        -24.0  11436.0  457.790009   \n",
       "794 2023-08-04   AAPL         0.00       -137.0  11299.0         NaN   \n",
       "795 2023-08-04   AMZN         0.00         73.0  11372.0         NaN   \n",
       "\n",
       "     SPY_buy_hold  Year  Y_Symbol  \n",
       "0            0.00  2013   2013WFC  \n",
       "1          -12.19  2013   2013JNJ  \n",
       "2            1.66  2013    2013GE  \n",
       "4          -42.12  2013  2013MSFT  \n",
       "3          -42.12  2013  2013AMZN  \n",
       "..            ...   ...       ...  \n",
       "791       3389.38  2023     2023V  \n",
       "792       3353.64  2023  2023META  \n",
       "793       3416.35  2023   2023XOM  \n",
       "794           NaN  2023  2023AAPL  \n",
       "795           NaN  2023  2023AMZN  \n",
       "\n",
       "[690 rows x 9 columns]"
      ]
     },
     "execution_count": 94,
     "metadata": {},
     "output_type": "execute_result"
    }
   ],
   "source": [
    "df_chart_comp"
   ]
  },
  {
   "cell_type": "code",
   "execution_count": 40,
   "metadata": {},
   "outputs": [],
   "source": [
    "#df_chart_comp.to_excel('df_chart_comp.xlsx')"
   ]
  },
  {
   "cell_type": "code",
   "execution_count": 95,
   "metadata": {},
   "outputs": [],
   "source": [
    "# select only stocks from file 'InputStocks.xlsx'\n",
    "df_chart_comp = df_chart_comp[df_chart_comp['Y_Symbol'].isin(df_stock['Y_Symbol'])]"
   ]
  },
  {
   "cell_type": "code",
   "execution_count": 96,
   "metadata": {},
   "outputs": [
    {
     "data": {
      "text/html": [
       "<div>\n",
       "<style scoped>\n",
       "    .dataframe tbody tr th:only-of-type {\n",
       "        vertical-align: middle;\n",
       "    }\n",
       "\n",
       "    .dataframe tbody tr th {\n",
       "        vertical-align: top;\n",
       "    }\n",
       "\n",
       "    .dataframe thead th {\n",
       "        text-align: right;\n",
       "    }\n",
       "</style>\n",
       "<table border=\"1\" class=\"dataframe\">\n",
       "  <thead>\n",
       "    <tr style=\"text-align: right;\">\n",
       "      <th></th>\n",
       "      <th>Date</th>\n",
       "      <th>Symbol</th>\n",
       "      <th>Trade Price</th>\n",
       "      <th>Profit/Loss</th>\n",
       "      <th>CumSum</th>\n",
       "      <th>SPY Price</th>\n",
       "      <th>SPY_buy_hold</th>\n",
       "      <th>Year</th>\n",
       "      <th>Y_Symbol</th>\n",
       "    </tr>\n",
       "  </thead>\n",
       "  <tbody>\n",
       "    <tr>\n",
       "      <th>1</th>\n",
       "      <td>2013-09-30</td>\n",
       "      <td>JNJ</td>\n",
       "      <td>0.87</td>\n",
       "      <td>0.0</td>\n",
       "      <td>0.0</td>\n",
       "      <td>168.009995</td>\n",
       "      <td>-12.19</td>\n",
       "      <td>2013</td>\n",
       "      <td>2013JNJ</td>\n",
       "    </tr>\n",
       "    <tr>\n",
       "      <th>2</th>\n",
       "      <td>2013-10-02</td>\n",
       "      <td>GE</td>\n",
       "      <td>0.24</td>\n",
       "      <td>0.0</td>\n",
       "      <td>0.0</td>\n",
       "      <td>169.179993</td>\n",
       "      <td>1.66</td>\n",
       "      <td>2013</td>\n",
       "      <td>2013GE</td>\n",
       "    </tr>\n",
       "    <tr>\n",
       "      <th>4</th>\n",
       "      <td>2013-10-08</td>\n",
       "      <td>MSFT</td>\n",
       "      <td>0.32</td>\n",
       "      <td>0.0</td>\n",
       "      <td>0.0</td>\n",
       "      <td>165.479996</td>\n",
       "      <td>-42.12</td>\n",
       "      <td>2013</td>\n",
       "      <td>2013MSFT</td>\n",
       "    </tr>\n",
       "    <tr>\n",
       "      <th>5</th>\n",
       "      <td>2013-10-14</td>\n",
       "      <td>AAPL</td>\n",
       "      <td>3.15</td>\n",
       "      <td>0.0</td>\n",
       "      <td>-10.0</td>\n",
       "      <td>170.940002</td>\n",
       "      <td>22.48</td>\n",
       "      <td>2013</td>\n",
       "      <td>2013AAPL</td>\n",
       "    </tr>\n",
       "    <tr>\n",
       "      <th>9</th>\n",
       "      <td>2013-10-15</td>\n",
       "      <td>XOM</td>\n",
       "      <td>0.78</td>\n",
       "      <td>0.0</td>\n",
       "      <td>-10.0</td>\n",
       "      <td>169.699997</td>\n",
       "      <td>7.81</td>\n",
       "      <td>2013</td>\n",
       "      <td>2013XOM</td>\n",
       "    </tr>\n",
       "    <tr>\n",
       "      <th>...</th>\n",
       "      <td>...</td>\n",
       "      <td>...</td>\n",
       "      <td>...</td>\n",
       "      <td>...</td>\n",
       "      <td>...</td>\n",
       "      <td>...</td>\n",
       "      <td>...</td>\n",
       "      <td>...</td>\n",
       "      <td>...</td>\n",
       "    </tr>\n",
       "    <tr>\n",
       "      <th>643</th>\n",
       "      <td>2021-10-12</td>\n",
       "      <td>AAPL</td>\n",
       "      <td>1.42</td>\n",
       "      <td>0.0</td>\n",
       "      <td>9407.0</td>\n",
       "      <td>433.619995</td>\n",
       "      <td>3130.38</td>\n",
       "      <td>2021</td>\n",
       "      <td>2021AAPL</td>\n",
       "    </tr>\n",
       "    <tr>\n",
       "      <th>647</th>\n",
       "      <td>2021-10-20</td>\n",
       "      <td>JNJ</td>\n",
       "      <td>0.00</td>\n",
       "      <td>24.0</td>\n",
       "      <td>9463.0</td>\n",
       "      <td>452.410004</td>\n",
       "      <td>3352.70</td>\n",
       "      <td>2021</td>\n",
       "      <td>2021JNJ</td>\n",
       "    </tr>\n",
       "    <tr>\n",
       "      <th>652</th>\n",
       "      <td>2021-10-27</td>\n",
       "      <td>V</td>\n",
       "      <td>0.00</td>\n",
       "      <td>-129.0</td>\n",
       "      <td>9149.0</td>\n",
       "      <td>453.940002</td>\n",
       "      <td>3370.80</td>\n",
       "      <td>2021</td>\n",
       "      <td>2021V</td>\n",
       "    </tr>\n",
       "    <tr>\n",
       "      <th>651</th>\n",
       "      <td>2021-10-27</td>\n",
       "      <td>MSFT</td>\n",
       "      <td>0.00</td>\n",
       "      <td>238.0</td>\n",
       "      <td>9387.0</td>\n",
       "      <td>453.940002</td>\n",
       "      <td>3370.80</td>\n",
       "      <td>2021</td>\n",
       "      <td>2021MSFT</td>\n",
       "    </tr>\n",
       "    <tr>\n",
       "      <th>653</th>\n",
       "      <td>2021-10-29</td>\n",
       "      <td>AAPL</td>\n",
       "      <td>0.00</td>\n",
       "      <td>113.0</td>\n",
       "      <td>9474.0</td>\n",
       "      <td>459.250000</td>\n",
       "      <td>3433.63</td>\n",
       "      <td>2021</td>\n",
       "      <td>2021AAPL</td>\n",
       "    </tr>\n",
       "  </tbody>\n",
       "</table>\n",
       "<p>322 rows × 9 columns</p>\n",
       "</div>"
      ],
      "text/plain": [
       "          Date Symbol  Trade Price  Profit/Loss  CumSum   SPY Price  \\\n",
       "1   2013-09-30    JNJ         0.87          0.0     0.0  168.009995   \n",
       "2   2013-10-02     GE         0.24          0.0     0.0  169.179993   \n",
       "4   2013-10-08   MSFT         0.32          0.0     0.0  165.479996   \n",
       "5   2013-10-14   AAPL         3.15          0.0   -10.0  170.940002   \n",
       "9   2013-10-15    XOM         0.78          0.0   -10.0  169.699997   \n",
       "..         ...    ...          ...          ...     ...         ...   \n",
       "643 2021-10-12   AAPL         1.42          0.0  9407.0  433.619995   \n",
       "647 2021-10-20    JNJ         0.00         24.0  9463.0  452.410004   \n",
       "652 2021-10-27      V         0.00       -129.0  9149.0  453.940002   \n",
       "651 2021-10-27   MSFT         0.00        238.0  9387.0  453.940002   \n",
       "653 2021-10-29   AAPL         0.00        113.0  9474.0  459.250000   \n",
       "\n",
       "     SPY_buy_hold  Year  Y_Symbol  \n",
       "1          -12.19  2013   2013JNJ  \n",
       "2            1.66  2013    2013GE  \n",
       "4          -42.12  2013  2013MSFT  \n",
       "5           22.48  2013  2013AAPL  \n",
       "9            7.81  2013   2013XOM  \n",
       "..            ...   ...       ...  \n",
       "643       3130.38  2021  2021AAPL  \n",
       "647       3352.70  2021   2021JNJ  \n",
       "652       3370.80  2021     2021V  \n",
       "651       3370.80  2021  2021MSFT  \n",
       "653       3433.63  2021  2021AAPL  \n",
       "\n",
       "[322 rows x 9 columns]"
      ]
     },
     "execution_count": 96,
     "metadata": {},
     "output_type": "execute_result"
    }
   ],
   "source": [
    "df_chart_comp"
   ]
  },
  {
   "cell_type": "code",
   "execution_count": 33,
   "metadata": {},
   "outputs": [],
   "source": [
    "#df_chart_comp.to_excel('BuyBeforeEarnings\\output\\BBE_analysis.xlsx')"
   ]
  },
  {
   "cell_type": "code",
   "execution_count": 98,
   "metadata": {},
   "outputs": [
    {
     "data": {
      "text/html": [
       "<div>\n",
       "<style scoped>\n",
       "    .dataframe tbody tr th:only-of-type {\n",
       "        vertical-align: middle;\n",
       "    }\n",
       "\n",
       "    .dataframe tbody tr th {\n",
       "        vertical-align: top;\n",
       "    }\n",
       "\n",
       "    .dataframe thead th {\n",
       "        text-align: right;\n",
       "    }\n",
       "</style>\n",
       "<table border=\"1\" class=\"dataframe\">\n",
       "  <thead>\n",
       "    <tr style=\"text-align: right;\">\n",
       "      <th></th>\n",
       "      <th>Date</th>\n",
       "      <th>Symbol</th>\n",
       "      <th>Trade Price</th>\n",
       "      <th>Profit/Loss</th>\n",
       "      <th>CumSum</th>\n",
       "      <th>SPY Price</th>\n",
       "      <th>SPY_buy_hold</th>\n",
       "      <th>Year</th>\n",
       "      <th>Y_Symbol</th>\n",
       "    </tr>\n",
       "  </thead>\n",
       "  <tbody>\n",
       "    <tr>\n",
       "      <th>1</th>\n",
       "      <td>2013-09-30</td>\n",
       "      <td>JNJ</td>\n",
       "      <td>0.87</td>\n",
       "      <td>0.0</td>\n",
       "      <td>0.0</td>\n",
       "      <td>168.009995</td>\n",
       "      <td>-12.19</td>\n",
       "      <td>2013</td>\n",
       "      <td>2013JNJ</td>\n",
       "    </tr>\n",
       "    <tr>\n",
       "      <th>2</th>\n",
       "      <td>2013-10-02</td>\n",
       "      <td>GE</td>\n",
       "      <td>0.24</td>\n",
       "      <td>0.0</td>\n",
       "      <td>0.0</td>\n",
       "      <td>169.179993</td>\n",
       "      <td>1.66</td>\n",
       "      <td>2013</td>\n",
       "      <td>2013GE</td>\n",
       "    </tr>\n",
       "    <tr>\n",
       "      <th>4</th>\n",
       "      <td>2013-10-08</td>\n",
       "      <td>MSFT</td>\n",
       "      <td>0.32</td>\n",
       "      <td>0.0</td>\n",
       "      <td>0.0</td>\n",
       "      <td>165.479996</td>\n",
       "      <td>-42.12</td>\n",
       "      <td>2013</td>\n",
       "      <td>2013MSFT</td>\n",
       "    </tr>\n",
       "    <tr>\n",
       "      <th>5</th>\n",
       "      <td>2013-10-14</td>\n",
       "      <td>AAPL</td>\n",
       "      <td>3.15</td>\n",
       "      <td>0.0</td>\n",
       "      <td>-10.0</td>\n",
       "      <td>170.940002</td>\n",
       "      <td>22.48</td>\n",
       "      <td>2013</td>\n",
       "      <td>2013AAPL</td>\n",
       "    </tr>\n",
       "    <tr>\n",
       "      <th>9</th>\n",
       "      <td>2013-10-15</td>\n",
       "      <td>XOM</td>\n",
       "      <td>0.78</td>\n",
       "      <td>0.0</td>\n",
       "      <td>-10.0</td>\n",
       "      <td>169.699997</td>\n",
       "      <td>7.81</td>\n",
       "      <td>2013</td>\n",
       "      <td>2013XOM</td>\n",
       "    </tr>\n",
       "    <tr>\n",
       "      <th>...</th>\n",
       "      <td>...</td>\n",
       "      <td>...</td>\n",
       "      <td>...</td>\n",
       "      <td>...</td>\n",
       "      <td>...</td>\n",
       "      <td>...</td>\n",
       "      <td>...</td>\n",
       "      <td>...</td>\n",
       "      <td>...</td>\n",
       "    </tr>\n",
       "    <tr>\n",
       "      <th>643</th>\n",
       "      <td>2021-10-12</td>\n",
       "      <td>AAPL</td>\n",
       "      <td>1.42</td>\n",
       "      <td>0.0</td>\n",
       "      <td>9407.0</td>\n",
       "      <td>433.619995</td>\n",
       "      <td>3130.38</td>\n",
       "      <td>2021</td>\n",
       "      <td>2021AAPL</td>\n",
       "    </tr>\n",
       "    <tr>\n",
       "      <th>647</th>\n",
       "      <td>2021-10-20</td>\n",
       "      <td>JNJ</td>\n",
       "      <td>0.00</td>\n",
       "      <td>24.0</td>\n",
       "      <td>9463.0</td>\n",
       "      <td>452.410004</td>\n",
       "      <td>3352.70</td>\n",
       "      <td>2021</td>\n",
       "      <td>2021JNJ</td>\n",
       "    </tr>\n",
       "    <tr>\n",
       "      <th>651</th>\n",
       "      <td>2021-10-27</td>\n",
       "      <td>MSFT</td>\n",
       "      <td>0.00</td>\n",
       "      <td>238.0</td>\n",
       "      <td>9387.0</td>\n",
       "      <td>453.940002</td>\n",
       "      <td>3370.80</td>\n",
       "      <td>2021</td>\n",
       "      <td>2021MSFT</td>\n",
       "    </tr>\n",
       "    <tr>\n",
       "      <th>652</th>\n",
       "      <td>2021-10-27</td>\n",
       "      <td>V</td>\n",
       "      <td>0.00</td>\n",
       "      <td>-129.0</td>\n",
       "      <td>9149.0</td>\n",
       "      <td>453.940002</td>\n",
       "      <td>3370.80</td>\n",
       "      <td>2021</td>\n",
       "      <td>2021V</td>\n",
       "    </tr>\n",
       "    <tr>\n",
       "      <th>653</th>\n",
       "      <td>2021-10-29</td>\n",
       "      <td>AAPL</td>\n",
       "      <td>0.00</td>\n",
       "      <td>113.0</td>\n",
       "      <td>9474.0</td>\n",
       "      <td>459.250000</td>\n",
       "      <td>3433.63</td>\n",
       "      <td>2021</td>\n",
       "      <td>2021AAPL</td>\n",
       "    </tr>\n",
       "  </tbody>\n",
       "</table>\n",
       "<p>322 rows × 9 columns</p>\n",
       "</div>"
      ],
      "text/plain": [
       "          Date Symbol  Trade Price  Profit/Loss  CumSum   SPY Price  \\\n",
       "1   2013-09-30    JNJ         0.87          0.0     0.0  168.009995   \n",
       "2   2013-10-02     GE         0.24          0.0     0.0  169.179993   \n",
       "4   2013-10-08   MSFT         0.32          0.0     0.0  165.479996   \n",
       "5   2013-10-14   AAPL         3.15          0.0   -10.0  170.940002   \n",
       "9   2013-10-15    XOM         0.78          0.0   -10.0  169.699997   \n",
       "..         ...    ...          ...          ...     ...         ...   \n",
       "643 2021-10-12   AAPL         1.42          0.0  9407.0  433.619995   \n",
       "647 2021-10-20    JNJ         0.00         24.0  9463.0  452.410004   \n",
       "651 2021-10-27   MSFT         0.00        238.0  9387.0  453.940002   \n",
       "652 2021-10-27      V         0.00       -129.0  9149.0  453.940002   \n",
       "653 2021-10-29   AAPL         0.00        113.0  9474.0  459.250000   \n",
       "\n",
       "     SPY_buy_hold  Year  Y_Symbol  \n",
       "1          -12.19  2013   2013JNJ  \n",
       "2            1.66  2013    2013GE  \n",
       "4          -42.12  2013  2013MSFT  \n",
       "5           22.48  2013  2013AAPL  \n",
       "9            7.81  2013   2013XOM  \n",
       "..            ...   ...       ...  \n",
       "643       3130.38  2021  2021AAPL  \n",
       "647       3352.70  2021   2021JNJ  \n",
       "651       3370.80  2021  2021MSFT  \n",
       "652       3370.80  2021     2021V  \n",
       "653       3433.63  2021  2021AAPL  \n",
       "\n",
       "[322 rows x 9 columns]"
      ]
     },
     "execution_count": 98,
     "metadata": {},
     "output_type": "execute_result"
    }
   ],
   "source": [
    "# sort again to restore order\n",
    "df_chart_comp.sort_values(by=\"Date\")"
   ]
  },
  {
   "cell_type": "code",
   "execution_count": 100,
   "metadata": {},
   "outputs": [],
   "source": [
    "df_chart_comp.to_excel('df_chart_comp.xlsx')"
   ]
  },
  {
   "cell_type": "code",
   "execution_count": 104,
   "metadata": {},
   "outputs": [
    {
     "data": {
      "application/vnd.plotly.v1+json": {
       "config": {
        "plotlyServerURL": "https://plot.ly"
       },
       "data": [
        {
         "hovertemplate": "Date=%{x}<br>CumSum=%{y}<extra></extra>",
         "legendgroup": "",
         "line": {
          "color": "#636efa",
          "dash": "solid"
         },
         "marker": {
          "symbol": "circle"
         },
         "mode": "lines",
         "name": "",
         "orientation": "v",
         "showlegend": false,
         "type": "scatter",
         "x": [
          "2013-09-30T00:00:00",
          "2013-10-02T00:00:00",
          "2013-10-08T00:00:00",
          "2013-10-14T00:00:00",
          "2013-10-15T00:00:00",
          "2013-10-16T00:00:00",
          "2013-10-21T00:00:00",
          "2013-10-25T00:00:00",
          "2013-10-29T00:00:00",
          "2013-11-01T00:00:00",
          "2014-01-02T00:00:00",
          "2014-01-06T00:00:00",
          "2014-01-07T00:00:00",
          "2014-01-13T00:00:00",
          "2014-01-14T00:00:00",
          "2014-01-15T00:00:00",
          "2014-01-21T00:00:00",
          "2014-01-22T00:00:00",
          "2014-01-24T00:00:00",
          "2014-01-28T00:00:00",
          "2014-01-31T00:00:00",
          "2014-03-26T00:00:00",
          "2014-03-31T00:00:00",
          "2014-04-01T00:00:00",
          "2014-04-07T00:00:00",
          "2014-04-08T00:00:00",
          "2014-04-14T00:00:00",
          "2014-04-15T00:00:00",
          "2014-04-16T00:00:00",
          "2014-04-21T00:00:00",
          "2014-04-24T00:00:00",
          "2014-04-25T00:00:00",
          "2014-05-02T00:00:00",
          "2014-06-25T00:00:00",
          "2014-06-30T00:00:00",
          "2014-07-02T00:00:00",
          "2014-07-07T00:00:00",
          "2014-07-07T00:00:00",
          "2014-07-14T00:00:00",
          "2014-07-15T00:00:00",
          "2014-07-16T00:00:00",
          "2014-07-21T00:00:00",
          "2014-07-23T00:00:00",
          "2014-07-23T00:00:00",
          "2014-08-01T00:00:00",
          "2014-09-29T00:00:00",
          "2014-09-29T00:00:00",
          "2014-10-01T00:00:00",
          "2014-10-06T00:00:00",
          "2014-10-07T00:00:00",
          "2014-10-15T00:00:00",
          "2014-10-15T00:00:00",
          "2014-10-15T00:00:00",
          "2014-10-20T00:00:00",
          "2014-10-21T00:00:00",
          "2014-10-24T00:00:00",
          "2014-11-03T00:00:00",
          "2014-12-29T00:00:00",
          "2015-01-05T00:00:00",
          "2015-01-07T00:00:00",
          "2015-01-12T00:00:00",
          "2015-01-12T00:00:00",
          "2015-01-13T00:00:00",
          "2015-01-15T00:00:00",
          "2015-01-20T00:00:00",
          "2015-01-21T00:00:00",
          "2015-01-26T00:00:00",
          "2015-01-27T00:00:00",
          "2015-01-28T00:00:00",
          "2015-01-30T00:00:00",
          "2015-02-03T00:00:00",
          "2015-03-30T00:00:00",
          "2015-03-30T00:00:00",
          "2015-04-01T00:00:00",
          "2015-04-07T00:00:00",
          "2015-04-07T00:00:00",
          "2015-04-13T00:00:00",
          "2015-04-14T00:00:00",
          "2015-04-15T00:00:00",
          "2015-04-15T00:00:00",
          "2015-04-20T00:00:00",
          "2015-04-24T00:00:00",
          "2015-04-24T00:00:00",
          "2015-04-28T00:00:00",
          "2015-05-01T00:00:00",
          "2015-06-29T00:00:00",
          "2015-06-29T00:00:00",
          "2015-07-01T00:00:00",
          "2015-07-06T00:00:00",
          "2015-07-06T00:00:00",
          "2015-07-07T00:00:00",
          "2015-07-15T00:00:00",
          "2015-07-15T00:00:00",
          "2015-07-15T00:00:00",
          "2015-07-20T00:00:00",
          "2015-07-22T00:00:00",
          "2015-07-22T00:00:00",
          "2015-07-24T00:00:00",
          "2015-08-03T00:00:00",
          "2015-09-28T00:00:00",
          "2015-09-28T00:00:00",
          "2015-09-30T00:00:00",
          "2015-10-06T00:00:00",
          "2015-10-12T00:00:00",
          "2015-10-14T00:00:00",
          "2015-10-14T00:00:00",
          "2015-10-15T00:00:00",
          "2015-10-19T00:00:00",
          "2015-10-23T00:00:00",
          "2015-10-28T00:00:00",
          "2015-11-02T00:00:00",
          "2015-12-30T00:00:00",
          "2016-01-06T00:00:00",
          "2016-01-11T00:00:00",
          "2016-01-11T00:00:00",
          "2016-01-12T00:00:00",
          "2016-01-19T00:00:00",
          "2016-01-25T00:00:00",
          "2016-01-27T00:00:00",
          "2016-01-27T00:00:00",
          "2016-01-29T00:00:00",
          "2016-02-03T00:00:00",
          "2016-04-04T00:00:00",
          "2016-04-05T00:00:00",
          "2016-04-06T00:00:00",
          "2016-04-11T00:00:00",
          "2016-04-13T00:00:00",
          "2016-04-20T00:00:00",
          "2016-04-22T00:00:00",
          "2016-04-25T00:00:00",
          "2016-04-27T00:00:00",
          "2016-05-02T00:00:00",
          "2016-07-05T00:00:00",
          "2016-07-05T00:00:00",
          "2016-07-06T00:00:00",
          "2016-07-11T00:00:00",
          "2016-07-13T00:00:00",
          "2016-07-20T00:00:00",
          "2016-07-20T00:00:00",
          "2016-07-25T00:00:00",
          "2016-07-27T00:00:00",
          "2016-08-01T00:00:00",
          "2016-10-03T00:00:00",
          "2016-10-04T00:00:00",
          "2016-10-05T00:00:00",
          "2016-10-10T00:00:00",
          "2016-10-12T00:00:00",
          "2016-10-19T00:00:00",
          "2016-10-21T00:00:00",
          "2016-10-24T00:00:00",
          "2016-10-26T00:00:00",
          "2016-10-31T00:00:00",
          "2017-01-09T00:00:00",
          "2017-01-10T00:00:00",
          "2017-01-17T00:00:00",
          "2017-01-17T00:00:00",
          "2017-01-19T00:00:00",
          "2017-01-25T00:00:00",
          "2017-01-27T00:00:00",
          "2017-02-01T00:00:00",
          "2017-02-01T00:00:00",
          "2017-02-03T00:00:00",
          "2017-04-03T00:00:00",
          "2017-04-11T00:00:00",
          "2017-04-12T00:00:00",
          "2017-04-17T00:00:00",
          "2017-04-19T00:00:00",
          "2017-04-28T00:00:00",
          "2017-05-01T00:00:00",
          "2017-05-03T00:00:00",
          "2017-07-03T00:00:00",
          "2017-07-05T00:00:00",
          "2017-07-12T00:00:00",
          "2017-07-17T00:00:00",
          "2017-07-19T00:00:00",
          "2017-07-21T00:00:00",
          "2017-07-31T00:00:00",
          "2017-08-02T00:00:00",
          "2017-10-02T00:00:00",
          "2017-10-10T00:00:00",
          "2017-10-11T00:00:00",
          "2017-10-17T00:00:00",
          "2017-10-18T00:00:00",
          "2017-10-27T00:00:00",
          "2017-10-30T00:00:00",
          "2017-11-03T00:00:00",
          "2018-01-08T00:00:00",
          "2018-01-16T00:00:00",
          "2018-01-16T00:00:00",
          "2018-01-16T00:00:00",
          "2018-01-17T00:00:00",
          "2018-01-24T00:00:00",
          "2018-02-01T00:00:00",
          "2018-02-02T00:00:00",
          "2018-02-02T00:00:00",
          "2018-02-05T00:00:00",
          "2018-04-02T00:00:00",
          "2018-04-09T00:00:00",
          "2018-04-10T00:00:00",
          "2018-04-11T00:00:00",
          "2018-04-16T00:00:00",
          "2018-04-18T00:00:00",
          "2018-04-26T00:00:00",
          "2018-04-27T00:00:00",
          "2018-04-30T00:00:00",
          "2018-05-02T00:00:00",
          "2018-07-02T00:00:00",
          "2018-07-03T00:00:00",
          "2018-07-09T00:00:00",
          "2018-07-11T00:00:00",
          "2018-07-16T00:00:00",
          "2018-07-18T00:00:00",
          "2018-07-20T00:00:00",
          "2018-07-26T00:00:00",
          "2018-07-30T00:00:00",
          "2018-08-01T00:00:00",
          "2018-10-01T00:00:00",
          "2018-10-08T00:00:00",
          "2018-10-08T00:00:00",
          "2018-10-16T00:00:00",
          "2018-10-17T00:00:00",
          "2018-10-17T00:00:00",
          "2018-10-25T00:00:00",
          "2018-10-25T00:00:00",
          "2018-11-02T00:00:00",
          "2018-11-05T00:00:00",
          "2019-01-07T00:00:00",
          "2019-01-14T00:00:00",
          "2019-01-14T00:00:00",
          "2019-01-14T00:00:00",
          "2019-01-23T00:00:00",
          "2019-01-30T00:00:00",
          "2019-01-31T00:00:00",
          "2019-01-31T00:00:00",
          "2019-04-01T00:00:00",
          "2019-04-08T00:00:00",
          "2019-04-08T00:00:00",
          "2019-04-15T00:00:00",
          "2019-04-17T00:00:00",
          "2019-04-25T00:00:00",
          "2019-04-25T00:00:00",
          "2019-05-01T00:00:00",
          "2019-07-01T00:00:00",
          "2019-07-02T00:00:00",
          "2019-07-08T00:00:00",
          "2019-07-15T00:00:00",
          "2019-07-17T00:00:00",
          "2019-07-19T00:00:00",
          "2019-07-24T00:00:00",
          "2019-07-31T00:00:00",
          "2019-09-30T00:00:00",
          "2019-10-07T00:00:00",
          "2019-10-08T00:00:00",
          "2019-10-14T00:00:00",
          "2019-10-16T00:00:00",
          "2019-10-24T00:00:00",
          "2019-10-25T00:00:00",
          "2019-10-31T00:00:00",
          "2020-01-06T00:00:00",
          "2020-01-13T00:00:00",
          "2020-01-13T00:00:00",
          "2020-01-14T00:00:00",
          "2020-01-23T00:00:00",
          "2020-01-29T00:00:00",
          "2020-01-30T00:00:00",
          "2020-01-31T00:00:00",
          "2020-03-30T00:00:00",
          "2020-04-13T00:00:00",
          "2020-04-14T00:00:00",
          "2020-04-14T00:00:00",
          "2020-04-15T00:00:00",
          "2020-04-30T00:00:00",
          "2020-05-01T00:00:00",
          "2020-05-01T00:00:00",
          "2020-06-30T00:00:00",
          "2020-07-06T00:00:00",
          "2020-07-13T00:00:00",
          "2020-07-14T00:00:00",
          "2020-07-17T00:00:00",
          "2020-07-23T00:00:00",
          "2020-07-29T00:00:00",
          "2020-07-31T00:00:00",
          "2020-09-28T00:00:00",
          "2020-10-12T00:00:00",
          "2020-10-12T00:00:00",
          "2020-10-13T00:00:00",
          "2020-10-14T00:00:00",
          "2020-10-28T00:00:00",
          "2020-10-29T00:00:00",
          "2020-10-30T00:00:00",
          "2021-01-11T00:00:00",
          "2021-01-11T00:00:00",
          "2021-01-11T00:00:00",
          "2021-01-12T00:00:00",
          "2021-01-27T00:00:00",
          "2021-01-27T00:00:00",
          "2021-01-28T00:00:00",
          "2021-01-29T00:00:00",
          "2021-04-05T00:00:00",
          "2021-04-12T00:00:00",
          "2021-04-12T00:00:00",
          "2021-04-12T00:00:00",
          "2021-04-21T00:00:00",
          "2021-04-28T00:00:00",
          "2021-04-28T00:00:00",
          "2021-04-29T00:00:00",
          "2021-07-06T00:00:00",
          "2021-07-12T00:00:00",
          "2021-07-12T00:00:00",
          "2021-07-12T00:00:00",
          "2021-07-22T00:00:00",
          "2021-07-28T00:00:00",
          "2021-07-28T00:00:00",
          "2021-07-28T00:00:00",
          "2021-10-04T00:00:00",
          "2021-10-11T00:00:00",
          "2021-10-11T00:00:00",
          "2021-10-12T00:00:00",
          "2021-10-20T00:00:00",
          "2021-10-27T00:00:00",
          "2021-10-27T00:00:00",
          "2021-10-29T00:00:00"
         ],
         "xaxis": "x",
         "y": [
          0,
          0,
          0,
          -10,
          -10,
          96,
          145,
          797,
          965,
          1113,
          1113,
          1113,
          1113,
          1113,
          1113,
          1124,
          1096,
          1151,
          1152,
          727,
          562,
          234,
          234,
          234,
          234,
          234,
          219,
          219,
          203,
          19,
          678,
          311,
          237,
          237,
          237,
          237,
          237,
          237,
          164,
          164,
          54,
          30,
          25,
          49,
          48,
          48,
          48,
          48,
          48,
          48,
          48,
          15,
          -1,
          -440,
          -373,
          -667,
          -291,
          -291,
          -291,
          -291,
          -291,
          -291,
          -291,
          -303,
          -303,
          -404,
          -409,
          -444,
          -368,
          966,
          888,
          888,
          888,
          888,
          888,
          888,
          888,
          888,
          860,
          809,
          863,
          1235,
          2017,
          2037,
          2059,
          2049,
          2049,
          2049,
          2049,
          2049,
          2049,
          2049,
          2073,
          2103,
          2756,
          2764,
          2695,
          3820,
          3833,
          3833,
          3833,
          3833,
          3833,
          3833,
          3833,
          3863,
          3887,
          3948,
          4008,
          4086,
          4153,
          4243,
          4243,
          4243,
          4243,
          4243,
          4148,
          4121,
          4042,
          4114,
          4236,
          4210,
          4210,
          4210,
          4210,
          4210,
          4210,
          4385,
          4334,
          4319,
          4220,
          4323,
          4323,
          4323,
          4323,
          4323,
          4323,
          4470,
          4514,
          4591,
          4674,
          5159,
          5159,
          5159,
          5159,
          5159,
          5159,
          5011,
          5085,
          5058,
          5006,
          4969,
          4847,
          4847,
          4847,
          4847,
          4802,
          4700,
          4753,
          4857,
          4821,
          4704,
          4730,
          4730,
          4730,
          4670,
          4539,
          4614,
          5341,
          5408,
          5528,
          5528,
          5528,
          5510,
          5529,
          5753,
          5961,
          6048,
          6048,
          6048,
          6048,
          6009,
          6315,
          6402,
          6405,
          6524,
          6524,
          6524,
          6524,
          6545,
          6545,
          6537,
          6575,
          6610,
          6671,
          6659,
          6659,
          6659,
          6659,
          6659,
          6659,
          6622,
          6960,
          6989,
          6974,
          6954,
          6954,
          6954,
          6954,
          6954,
          7040,
          7193,
          7414,
          7332,
          7298,
          7382,
          7382,
          7382,
          7382,
          7377,
          7377,
          7358,
          7332,
          7305,
          6997,
          6989,
          6989,
          6989,
          6989,
          6989,
          7051,
          7273,
          7559,
          7494,
          7532,
          7532,
          7532,
          7472,
          7431,
          7424,
          7738,
          7873,
          7873,
          7873,
          7873,
          7873,
          7662,
          7616,
          7692,
          7807,
          7764,
          7764,
          7764,
          7764,
          7883,
          7888,
          7919,
          8046,
          8180,
          8180,
          8180,
          8180,
          8251,
          8301,
          8269,
          8269,
          8231,
          8231,
          8231,
          8231,
          8393,
          8546,
          8713,
          8689,
          8719,
          8719,
          8719,
          8719,
          8849,
          8657,
          8717,
          9170,
          9254,
          9254,
          9254,
          9254,
          9226,
          9072,
          8966,
          8534,
          8518,
          8518,
          8518,
          8518,
          8675,
          8813,
          8900,
          8814,
          8787,
          8787,
          8787,
          8787,
          8904,
          9114,
          9058,
          9269,
          9276,
          9276,
          9276,
          9276,
          9288,
          9384,
          9476,
          9466,
          9407,
          9407,
          9407,
          9407,
          9463,
          9149,
          9387,
          9474
         ],
         "yaxis": "y"
        }
       ],
       "layout": {
        "legend": {
         "tracegroupgap": 0
        },
        "template": {
         "data": {
          "bar": [
           {
            "error_x": {
             "color": "#2a3f5f"
            },
            "error_y": {
             "color": "#2a3f5f"
            },
            "marker": {
             "line": {
              "color": "#E5ECF6",
              "width": 0.5
             },
             "pattern": {
              "fillmode": "overlay",
              "size": 10,
              "solidity": 0.2
             }
            },
            "type": "bar"
           }
          ],
          "barpolar": [
           {
            "marker": {
             "line": {
              "color": "#E5ECF6",
              "width": 0.5
             },
             "pattern": {
              "fillmode": "overlay",
              "size": 10,
              "solidity": 0.2
             }
            },
            "type": "barpolar"
           }
          ],
          "carpet": [
           {
            "aaxis": {
             "endlinecolor": "#2a3f5f",
             "gridcolor": "white",
             "linecolor": "white",
             "minorgridcolor": "white",
             "startlinecolor": "#2a3f5f"
            },
            "baxis": {
             "endlinecolor": "#2a3f5f",
             "gridcolor": "white",
             "linecolor": "white",
             "minorgridcolor": "white",
             "startlinecolor": "#2a3f5f"
            },
            "type": "carpet"
           }
          ],
          "choropleth": [
           {
            "colorbar": {
             "outlinewidth": 0,
             "ticks": ""
            },
            "type": "choropleth"
           }
          ],
          "contour": [
           {
            "colorbar": {
             "outlinewidth": 0,
             "ticks": ""
            },
            "colorscale": [
             [
              0,
              "#0d0887"
             ],
             [
              0.1111111111111111,
              "#46039f"
             ],
             [
              0.2222222222222222,
              "#7201a8"
             ],
             [
              0.3333333333333333,
              "#9c179e"
             ],
             [
              0.4444444444444444,
              "#bd3786"
             ],
             [
              0.5555555555555556,
              "#d8576b"
             ],
             [
              0.6666666666666666,
              "#ed7953"
             ],
             [
              0.7777777777777778,
              "#fb9f3a"
             ],
             [
              0.8888888888888888,
              "#fdca26"
             ],
             [
              1,
              "#f0f921"
             ]
            ],
            "type": "contour"
           }
          ],
          "contourcarpet": [
           {
            "colorbar": {
             "outlinewidth": 0,
             "ticks": ""
            },
            "type": "contourcarpet"
           }
          ],
          "heatmap": [
           {
            "colorbar": {
             "outlinewidth": 0,
             "ticks": ""
            },
            "colorscale": [
             [
              0,
              "#0d0887"
             ],
             [
              0.1111111111111111,
              "#46039f"
             ],
             [
              0.2222222222222222,
              "#7201a8"
             ],
             [
              0.3333333333333333,
              "#9c179e"
             ],
             [
              0.4444444444444444,
              "#bd3786"
             ],
             [
              0.5555555555555556,
              "#d8576b"
             ],
             [
              0.6666666666666666,
              "#ed7953"
             ],
             [
              0.7777777777777778,
              "#fb9f3a"
             ],
             [
              0.8888888888888888,
              "#fdca26"
             ],
             [
              1,
              "#f0f921"
             ]
            ],
            "type": "heatmap"
           }
          ],
          "heatmapgl": [
           {
            "colorbar": {
             "outlinewidth": 0,
             "ticks": ""
            },
            "colorscale": [
             [
              0,
              "#0d0887"
             ],
             [
              0.1111111111111111,
              "#46039f"
             ],
             [
              0.2222222222222222,
              "#7201a8"
             ],
             [
              0.3333333333333333,
              "#9c179e"
             ],
             [
              0.4444444444444444,
              "#bd3786"
             ],
             [
              0.5555555555555556,
              "#d8576b"
             ],
             [
              0.6666666666666666,
              "#ed7953"
             ],
             [
              0.7777777777777778,
              "#fb9f3a"
             ],
             [
              0.8888888888888888,
              "#fdca26"
             ],
             [
              1,
              "#f0f921"
             ]
            ],
            "type": "heatmapgl"
           }
          ],
          "histogram": [
           {
            "marker": {
             "pattern": {
              "fillmode": "overlay",
              "size": 10,
              "solidity": 0.2
             }
            },
            "type": "histogram"
           }
          ],
          "histogram2d": [
           {
            "colorbar": {
             "outlinewidth": 0,
             "ticks": ""
            },
            "colorscale": [
             [
              0,
              "#0d0887"
             ],
             [
              0.1111111111111111,
              "#46039f"
             ],
             [
              0.2222222222222222,
              "#7201a8"
             ],
             [
              0.3333333333333333,
              "#9c179e"
             ],
             [
              0.4444444444444444,
              "#bd3786"
             ],
             [
              0.5555555555555556,
              "#d8576b"
             ],
             [
              0.6666666666666666,
              "#ed7953"
             ],
             [
              0.7777777777777778,
              "#fb9f3a"
             ],
             [
              0.8888888888888888,
              "#fdca26"
             ],
             [
              1,
              "#f0f921"
             ]
            ],
            "type": "histogram2d"
           }
          ],
          "histogram2dcontour": [
           {
            "colorbar": {
             "outlinewidth": 0,
             "ticks": ""
            },
            "colorscale": [
             [
              0,
              "#0d0887"
             ],
             [
              0.1111111111111111,
              "#46039f"
             ],
             [
              0.2222222222222222,
              "#7201a8"
             ],
             [
              0.3333333333333333,
              "#9c179e"
             ],
             [
              0.4444444444444444,
              "#bd3786"
             ],
             [
              0.5555555555555556,
              "#d8576b"
             ],
             [
              0.6666666666666666,
              "#ed7953"
             ],
             [
              0.7777777777777778,
              "#fb9f3a"
             ],
             [
              0.8888888888888888,
              "#fdca26"
             ],
             [
              1,
              "#f0f921"
             ]
            ],
            "type": "histogram2dcontour"
           }
          ],
          "mesh3d": [
           {
            "colorbar": {
             "outlinewidth": 0,
             "ticks": ""
            },
            "type": "mesh3d"
           }
          ],
          "parcoords": [
           {
            "line": {
             "colorbar": {
              "outlinewidth": 0,
              "ticks": ""
             }
            },
            "type": "parcoords"
           }
          ],
          "pie": [
           {
            "automargin": true,
            "type": "pie"
           }
          ],
          "scatter": [
           {
            "fillpattern": {
             "fillmode": "overlay",
             "size": 10,
             "solidity": 0.2
            },
            "type": "scatter"
           }
          ],
          "scatter3d": [
           {
            "line": {
             "colorbar": {
              "outlinewidth": 0,
              "ticks": ""
             }
            },
            "marker": {
             "colorbar": {
              "outlinewidth": 0,
              "ticks": ""
             }
            },
            "type": "scatter3d"
           }
          ],
          "scattercarpet": [
           {
            "marker": {
             "colorbar": {
              "outlinewidth": 0,
              "ticks": ""
             }
            },
            "type": "scattercarpet"
           }
          ],
          "scattergeo": [
           {
            "marker": {
             "colorbar": {
              "outlinewidth": 0,
              "ticks": ""
             }
            },
            "type": "scattergeo"
           }
          ],
          "scattergl": [
           {
            "marker": {
             "colorbar": {
              "outlinewidth": 0,
              "ticks": ""
             }
            },
            "type": "scattergl"
           }
          ],
          "scattermapbox": [
           {
            "marker": {
             "colorbar": {
              "outlinewidth": 0,
              "ticks": ""
             }
            },
            "type": "scattermapbox"
           }
          ],
          "scatterpolar": [
           {
            "marker": {
             "colorbar": {
              "outlinewidth": 0,
              "ticks": ""
             }
            },
            "type": "scatterpolar"
           }
          ],
          "scatterpolargl": [
           {
            "marker": {
             "colorbar": {
              "outlinewidth": 0,
              "ticks": ""
             }
            },
            "type": "scatterpolargl"
           }
          ],
          "scatterternary": [
           {
            "marker": {
             "colorbar": {
              "outlinewidth": 0,
              "ticks": ""
             }
            },
            "type": "scatterternary"
           }
          ],
          "surface": [
           {
            "colorbar": {
             "outlinewidth": 0,
             "ticks": ""
            },
            "colorscale": [
             [
              0,
              "#0d0887"
             ],
             [
              0.1111111111111111,
              "#46039f"
             ],
             [
              0.2222222222222222,
              "#7201a8"
             ],
             [
              0.3333333333333333,
              "#9c179e"
             ],
             [
              0.4444444444444444,
              "#bd3786"
             ],
             [
              0.5555555555555556,
              "#d8576b"
             ],
             [
              0.6666666666666666,
              "#ed7953"
             ],
             [
              0.7777777777777778,
              "#fb9f3a"
             ],
             [
              0.8888888888888888,
              "#fdca26"
             ],
             [
              1,
              "#f0f921"
             ]
            ],
            "type": "surface"
           }
          ],
          "table": [
           {
            "cells": {
             "fill": {
              "color": "#EBF0F8"
             },
             "line": {
              "color": "white"
             }
            },
            "header": {
             "fill": {
              "color": "#C8D4E3"
             },
             "line": {
              "color": "white"
             }
            },
            "type": "table"
           }
          ]
         },
         "layout": {
          "annotationdefaults": {
           "arrowcolor": "#2a3f5f",
           "arrowhead": 0,
           "arrowwidth": 1
          },
          "autotypenumbers": "strict",
          "coloraxis": {
           "colorbar": {
            "outlinewidth": 0,
            "ticks": ""
           }
          },
          "colorscale": {
           "diverging": [
            [
             0,
             "#8e0152"
            ],
            [
             0.1,
             "#c51b7d"
            ],
            [
             0.2,
             "#de77ae"
            ],
            [
             0.3,
             "#f1b6da"
            ],
            [
             0.4,
             "#fde0ef"
            ],
            [
             0.5,
             "#f7f7f7"
            ],
            [
             0.6,
             "#e6f5d0"
            ],
            [
             0.7,
             "#b8e186"
            ],
            [
             0.8,
             "#7fbc41"
            ],
            [
             0.9,
             "#4d9221"
            ],
            [
             1,
             "#276419"
            ]
           ],
           "sequential": [
            [
             0,
             "#0d0887"
            ],
            [
             0.1111111111111111,
             "#46039f"
            ],
            [
             0.2222222222222222,
             "#7201a8"
            ],
            [
             0.3333333333333333,
             "#9c179e"
            ],
            [
             0.4444444444444444,
             "#bd3786"
            ],
            [
             0.5555555555555556,
             "#d8576b"
            ],
            [
             0.6666666666666666,
             "#ed7953"
            ],
            [
             0.7777777777777778,
             "#fb9f3a"
            ],
            [
             0.8888888888888888,
             "#fdca26"
            ],
            [
             1,
             "#f0f921"
            ]
           ],
           "sequentialminus": [
            [
             0,
             "#0d0887"
            ],
            [
             0.1111111111111111,
             "#46039f"
            ],
            [
             0.2222222222222222,
             "#7201a8"
            ],
            [
             0.3333333333333333,
             "#9c179e"
            ],
            [
             0.4444444444444444,
             "#bd3786"
            ],
            [
             0.5555555555555556,
             "#d8576b"
            ],
            [
             0.6666666666666666,
             "#ed7953"
            ],
            [
             0.7777777777777778,
             "#fb9f3a"
            ],
            [
             0.8888888888888888,
             "#fdca26"
            ],
            [
             1,
             "#f0f921"
            ]
           ]
          },
          "colorway": [
           "#636efa",
           "#EF553B",
           "#00cc96",
           "#ab63fa",
           "#FFA15A",
           "#19d3f3",
           "#FF6692",
           "#B6E880",
           "#FF97FF",
           "#FECB52"
          ],
          "font": {
           "color": "#2a3f5f"
          },
          "geo": {
           "bgcolor": "white",
           "lakecolor": "white",
           "landcolor": "#E5ECF6",
           "showlakes": true,
           "showland": true,
           "subunitcolor": "white"
          },
          "hoverlabel": {
           "align": "left"
          },
          "hovermode": "closest",
          "mapbox": {
           "style": "light"
          },
          "paper_bgcolor": "white",
          "plot_bgcolor": "#E5ECF6",
          "polar": {
           "angularaxis": {
            "gridcolor": "white",
            "linecolor": "white",
            "ticks": ""
           },
           "bgcolor": "#E5ECF6",
           "radialaxis": {
            "gridcolor": "white",
            "linecolor": "white",
            "ticks": ""
           }
          },
          "scene": {
           "xaxis": {
            "backgroundcolor": "#E5ECF6",
            "gridcolor": "white",
            "gridwidth": 2,
            "linecolor": "white",
            "showbackground": true,
            "ticks": "",
            "zerolinecolor": "white"
           },
           "yaxis": {
            "backgroundcolor": "#E5ECF6",
            "gridcolor": "white",
            "gridwidth": 2,
            "linecolor": "white",
            "showbackground": true,
            "ticks": "",
            "zerolinecolor": "white"
           },
           "zaxis": {
            "backgroundcolor": "#E5ECF6",
            "gridcolor": "white",
            "gridwidth": 2,
            "linecolor": "white",
            "showbackground": true,
            "ticks": "",
            "zerolinecolor": "white"
           }
          },
          "shapedefaults": {
           "line": {
            "color": "#2a3f5f"
           }
          },
          "ternary": {
           "aaxis": {
            "gridcolor": "white",
            "linecolor": "white",
            "ticks": ""
           },
           "baxis": {
            "gridcolor": "white",
            "linecolor": "white",
            "ticks": ""
           },
           "bgcolor": "#E5ECF6",
           "caxis": {
            "gridcolor": "white",
            "linecolor": "white",
            "ticks": ""
           }
          },
          "title": {
           "x": 0.05
          },
          "xaxis": {
           "automargin": true,
           "gridcolor": "white",
           "linecolor": "white",
           "ticks": "",
           "title": {
            "standoff": 15
           },
           "zerolinecolor": "white",
           "zerolinewidth": 2
          },
          "yaxis": {
           "automargin": true,
           "gridcolor": "white",
           "linecolor": "white",
           "ticks": "",
           "title": {
            "standoff": 15
           },
           "zerolinecolor": "white",
           "zerolinewidth": 2
          }
         }
        },
        "title": {
         "text": "Cumulative Sum over Date"
        },
        "xaxis": {
         "anchor": "y",
         "domain": [
          0,
          1
         ],
         "title": {
          "text": "Date"
         }
        },
        "yaxis": {
         "anchor": "x",
         "domain": [
          0,
          1
         ],
         "title": {
          "text": "CumSum"
         }
        }
       }
      }
     },
     "metadata": {},
     "output_type": "display_data"
    }
   ],
   "source": [
    "# Load the provided dataframe\n",
    "\n",
    "# Plot using plotly.express\n",
    "fig = px.line(df_chart_comp, x='Date', y='CumSum', title='Cumulative Sum over Date')\n",
    "\n",
    "fig.show()\n",
    "\n"
   ]
  },
  {
   "attachments": {},
   "cell_type": "markdown",
   "metadata": {},
   "source": [
    "## Metrics"
   ]
  },
  {
   "attachments": {},
   "cell_type": "markdown",
   "metadata": {},
   "source": [
    "### Annualized return"
   ]
  },
  {
   "cell_type": "code",
   "execution_count": 35,
   "metadata": {},
   "outputs": [],
   "source": [
    "# # calculations for SPY\n",
    "# # Drop rows with NaN values in 'SPY Price' column\n",
    "# spy_starting_price = df_chart_comp['SPY Price'].iloc[0]\n",
    "# df_chart_comp_cleaned = df_chart_comp.dropna(subset=['SPY Price'])\n",
    "\n",
    "# # Get the new ending price of SPY\n",
    "# spy_ending_price_cleaned = df_chart_comp_cleaned['SPY Price'].iloc[-1]\n",
    "\n",
    "# # Recalculate the total return for SPY\n",
    "# spy_total_return_cleaned = (spy_ending_price_cleaned / spy_starting_price) - 1\n",
    "\n",
    "# spy_total_return_cleaned\n"
   ]
  },
  {
   "cell_type": "code",
   "execution_count": 36,
   "metadata": {},
   "outputs": [],
   "source": [
    "# ### Annualized return\n",
    "# total_return = df_chart_comp['Profit/Loss'].sum()\n",
    "# # Calculate the total number of days the strategy ran\n",
    "# num_days = (df_chart_comp['Date'].iloc[-1] - df_chart_comp['Date'].iloc[0]).days\n",
    "\n",
    "# # Calculate the annualized return using the total return and number of days\n",
    "# annualized_return = ((1 + total_return / df_chart_comp['CumSum'].iloc[0]) ** (365.0 / num_days)) - 1\n",
    "\n",
    "# annualized_return = round(annualized_return*100,2)\n",
    "# annualized_return"
   ]
  },
  {
   "cell_type": "code",
   "execution_count": 37,
   "metadata": {},
   "outputs": [],
   "source": [
    "# ### Annualized return SPY\n",
    "# # Calculate the total number of days the data covers (for the cleaned data)\n",
    "# num_days_spy = (df_chart_comp_cleaned['Date'].iloc[-1] - df_chart_comp_cleaned['Date'].iloc[0]).days\n",
    "\n",
    "# # Calculate the annualized return for SPY using the total return and number of days\n",
    "# spy_annualized_return = ((1 + spy_total_return_cleaned) ** (365.0 / num_days_spy)) - 1\n",
    "\n",
    "# spy_annualized_return =round(spy_annualized_return*100,2)\n",
    "# spy_annualized_return\n"
   ]
  },
  {
   "attachments": {},
   "cell_type": "markdown",
   "metadata": {},
   "source": [
    "### Volatility (Standard Deviation):"
   ]
  },
  {
   "cell_type": "code",
   "execution_count": 38,
   "metadata": {},
   "outputs": [],
   "source": [
    "# # 1. Compute the daily returns\n",
    "# df_chart_comp['Daily Returns'] = df_chart_comp['CumSum'].pct_change()\n",
    "\n",
    "# # 2. Calculate the standard deviation of these daily returns\n",
    "# daily_volatility = df_chart_comp['Daily Returns'].std()\n",
    "\n",
    "# # 3. Annualize the standard deviation\n",
    "# annualized_volatility = round(daily_volatility * (252**0.5),2)  # Using 252 trading days in a year\n",
    "\n",
    "# annualized_volatility\n"
   ]
  },
  {
   "attachments": {},
   "cell_type": "markdown",
   "metadata": {},
   "source": [
    "### Drawdown"
   ]
  },
  {
   "cell_type": "code",
   "execution_count": 39,
   "metadata": {},
   "outputs": [
    {
     "data": {
      "text/plain": [
       "-0.5786802030456852"
      ]
     },
     "execution_count": 39,
     "metadata": {},
     "output_type": "execute_result"
    }
   ],
   "source": [
    "# 1. Create a new column for cumulative balance\n",
    "df_chart_comp['Cumulative Balance'] = init_cap + df_chart_comp['Profit/Loss'].cumsum()\n",
    "\n",
    "# 2. Calculate running max for the cumulative balance\n",
    "running_max_balance = df_chart_comp['Cumulative Balance'].cummax()\n",
    "\n",
    "# 3. Calculate drawdowns as the decline from the running max balance\n",
    "drawdowns_balance = (df_chart_comp['Cumulative Balance'] - running_max_balance) / running_max_balance\n",
    "\n",
    "# 4. Identify the maximum drawdown\n",
    "max_drawdown_balance = drawdowns_balance.min()\n",
    "\n",
    "max_drawdown_balance\n"
   ]
  },
  {
   "attachments": {},
   "cell_type": "markdown",
   "metadata": {},
   "source": [
    "### consecutive loss trades\n",
    " "
   ]
  },
  {
   "cell_type": "code",
   "execution_count": 40,
   "metadata": {},
   "outputs": [
    {
     "data": {
      "text/plain": [
       "7"
      ]
     },
     "execution_count": 40,
     "metadata": {},
     "output_type": "execute_result"
    }
   ],
   "source": [
    "# 1. Create a binary column for loss days\n",
    "df_chart_comp['Loss Day'] = (df_chart_comp['Profit/Loss'] < 0).astype(int)\n",
    "\n",
    "# 2. Calculate the cumulative sum of loss days, but reset to zero whenever a non-loss day is encountered\n",
    "df_chart_comp['Consecutive Loss Days'] = df_chart_comp['Loss Day'].groupby((df_chart_comp['Loss Day'] == 0).cumsum()).cumsum()\n",
    "\n",
    "# 3. Find the maximum number of consecutive loss days\n",
    "max_consecutive_loss_days = df_chart_comp['Consecutive Loss Days'].max()\n",
    "\n",
    "max_consecutive_loss_days\n"
   ]
  },
  {
   "cell_type": "code",
   "execution_count": null,
   "metadata": {},
   "outputs": [],
   "source": []
  },
  {
   "cell_type": "code",
   "execution_count": null,
   "metadata": {},
   "outputs": [],
   "source": []
  },
  {
   "cell_type": "code",
   "execution_count": null,
   "metadata": {},
   "outputs": [],
   "source": []
  },
  {
   "cell_type": "code",
   "execution_count": null,
   "metadata": {},
   "outputs": [],
   "source": []
  },
  {
   "cell_type": "code",
   "execution_count": 41,
   "metadata": {},
   "outputs": [],
   "source": [
    "#df_chart_comp_cleaned"
   ]
  },
  {
   "attachments": {},
   "cell_type": "markdown",
   "metadata": {},
   "source": [
    "## sharpe ratio"
   ]
  },
  {
   "cell_type": "code",
   "execution_count": null,
   "metadata": {},
   "outputs": [],
   "source": []
  },
  {
   "cell_type": "code",
   "execution_count": null,
   "metadata": {},
   "outputs": [],
   "source": []
  },
  {
   "cell_type": "code",
   "execution_count": 42,
   "metadata": {},
   "outputs": [],
   "source": [
    "#average_annual = df_annual['Annual Profit'].mean()"
   ]
  },
  {
   "cell_type": "code",
   "execution_count": null,
   "metadata": {},
   "outputs": [],
   "source": []
  },
  {
   "cell_type": "code",
   "execution_count": null,
   "metadata": {},
   "outputs": [],
   "source": []
  },
  {
   "cell_type": "code",
   "execution_count": null,
   "metadata": {},
   "outputs": [],
   "source": []
  },
  {
   "cell_type": "code",
   "execution_count": null,
   "metadata": {},
   "outputs": [],
   "source": []
  },
  {
   "attachments": {},
   "cell_type": "markdown",
   "metadata": {},
   "source": [
    "## Sortino Ratio"
   ]
  },
  {
   "cell_type": "code",
   "execution_count": null,
   "metadata": {},
   "outputs": [],
   "source": []
  }
 ],
 "metadata": {
  "kernelspec": {
   "display_name": "Python 3",
   "language": "python",
   "name": "python3"
  },
  "language_info": {
   "codemirror_mode": {
    "name": "ipython",
    "version": 3
   },
   "file_extension": ".py",
   "mimetype": "text/x-python",
   "name": "python",
   "nbconvert_exporter": "python",
   "pygments_lexer": "ipython3",
   "version": "3.10.4"
  },
  "orig_nbformat": 4
 },
 "nbformat": 4,
 "nbformat_minor": 2
}
