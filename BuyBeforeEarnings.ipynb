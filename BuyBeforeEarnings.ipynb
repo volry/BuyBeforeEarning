{
 "cells": [
  {
   "cell_type": "code",
   "execution_count": 130,
   "metadata": {},
   "outputs": [],
   "source": [
    "import pandas as pd\n",
    "import os\n",
    "import matplotlib.pyplot as plt\n",
    "import seaborn as sns\n",
    "import yfinance as yf\n",
    "import plotly.express as px\n",
    "\n",
    "\n",
    "#directory path\n",
    "dir_path =r'D:\\OneDrive\\stock\\Leleka\\BuyBeforeEarnings\\inputForPython'\n",
    "csv_files = [f for f in os.listdir(dir_path) if f.endswith('.csv')]\n",
    "\n",
    "if not csv_files:\n",
    "    print('No CSV file in directory')\n",
    "\n"
   ]
  },
  {
   "cell_type": "code",
   "execution_count": 110,
   "metadata": {},
   "outputs": [],
   "source": [
    "dataframes={}\n",
    "for file in csv_files:\n",
    "    file_path = os.path.join(dir_path,file)\n",
    "    df = pd.read_csv(file_path)\n",
    "    key_name = os.path.splitext(file)[0]\n",
    "    dataframes[key_name] = df"
   ]
  },
  {
   "cell_type": "code",
   "execution_count": 111,
   "metadata": {},
   "outputs": [],
   "source": [
    "df1 = dataframes['CML TM Trades Buy 40 Delta Call 20230908 MSFT']"
   ]
  },
  {
   "cell_type": "code",
   "execution_count": 112,
   "metadata": {},
   "outputs": [],
   "source": [
    "# забираємо долар\n",
    "df1['Profit/Loss'] = df1['Profit/Loss'].str.replace('$','', regex = False)\n",
    "df1['Trade Price'] = df1['Trade Price'].str.replace('$','', regex = False)\n",
    "df1['Stock Price'] = df1['Stock Price'].str.replace('$','', regex = False)\n",
    "df1['Adjusted Stock Price'] = df1['Adjusted Stock Price'].str.replace('$','', regex = False)\n",
    "\n",
    "# convert in numbers\n",
    "df1['Profit/Loss']= pd.to_numeric(df1['Profit/Loss'],errors='coerce')\n",
    "df1['Date'] = pd.to_datetime(df1['Date'])\n"
   ]
  },
  {
   "cell_type": "code",
   "execution_count": 113,
   "metadata": {},
   "outputs": [
    {
     "data": {
      "text/html": [
       "<div>\n",
       "<style scoped>\n",
       "    .dataframe tbody tr th:only-of-type {\n",
       "        vertical-align: middle;\n",
       "    }\n",
       "\n",
       "    .dataframe tbody tr th {\n",
       "        vertical-align: top;\n",
       "    }\n",
       "\n",
       "    .dataframe thead th {\n",
       "        text-align: right;\n",
       "    }\n",
       "</style>\n",
       "<table border=\"1\" class=\"dataframe\">\n",
       "  <thead>\n",
       "    <tr style=\"text-align: right;\">\n",
       "      <th></th>\n",
       "      <th>Date</th>\n",
       "      <th>Description</th>\n",
       "      <th>Size</th>\n",
       "      <th>Symbol</th>\n",
       "      <th>Expiration</th>\n",
       "      <th>Strike</th>\n",
       "      <th>Type</th>\n",
       "      <th>Trade Price</th>\n",
       "      <th>Profit/Loss</th>\n",
       "      <th>Stock Price</th>\n",
       "      <th>Adjusted Stock Price</th>\n",
       "    </tr>\n",
       "  </thead>\n",
       "  <tbody>\n",
       "    <tr>\n",
       "      <th>0</th>\n",
       "      <td>2013-10-08</td>\n",
       "      <td>Open 16DaysBeforeEarnings:Long Calls</td>\n",
       "      <td>1</td>\n",
       "      <td>MSFT</td>\n",
       "      <td>21-Dec-13</td>\n",
       "      <td>34.0</td>\n",
       "      <td>Call</td>\n",
       "      <td>0.98</td>\n",
       "      <td>NaN</td>\n",
       "      <td>33.01</td>\n",
       "      <td>27.64</td>\n",
       "    </tr>\n",
       "    <tr>\n",
       "      <th>1</th>\n",
       "      <td>2013-10-28</td>\n",
       "      <td>Close 2DaysAfterEarnings:Long Calls</td>\n",
       "      <td>-1</td>\n",
       "      <td>MSFT</td>\n",
       "      <td>21-Dec-13</td>\n",
       "      <td>34.0</td>\n",
       "      <td>Call</td>\n",
       "      <td>1.88</td>\n",
       "      <td>89.0</td>\n",
       "      <td>35.57</td>\n",
       "      <td>29.79</td>\n",
       "    </tr>\n",
       "    <tr>\n",
       "      <th>2</th>\n",
       "      <td>2014-01-07</td>\n",
       "      <td>Open 16DaysBeforeEarnings:Long Calls</td>\n",
       "      <td>1</td>\n",
       "      <td>MSFT</td>\n",
       "      <td>22-Mar-14</td>\n",
       "      <td>37.0</td>\n",
       "      <td>Call</td>\n",
       "      <td>1.15</td>\n",
       "      <td>NaN</td>\n",
       "      <td>36.41</td>\n",
       "      <td>30.72</td>\n",
       "    </tr>\n",
       "    <tr>\n",
       "      <th>3</th>\n",
       "      <td>2014-01-27</td>\n",
       "      <td>Close 2DaysAfterEarnings:Long Calls</td>\n",
       "      <td>-1</td>\n",
       "      <td>MSFT</td>\n",
       "      <td>22-Mar-14</td>\n",
       "      <td>37.0</td>\n",
       "      <td>Call</td>\n",
       "      <td>0.78</td>\n",
       "      <td>-38.0</td>\n",
       "      <td>36.03</td>\n",
       "      <td>30.40</td>\n",
       "    </tr>\n",
       "    <tr>\n",
       "      <th>4</th>\n",
       "      <td>2014-04-08</td>\n",
       "      <td>Open 16DaysBeforeEarnings:Long Calls</td>\n",
       "      <td>1</td>\n",
       "      <td>MSFT</td>\n",
       "      <td>21-Jun-14</td>\n",
       "      <td>41.0</td>\n",
       "      <td>Call</td>\n",
       "      <td>1</td>\n",
       "      <td>NaN</td>\n",
       "      <td>39.82</td>\n",
       "      <td>33.85</td>\n",
       "    </tr>\n",
       "    <tr>\n",
       "      <th>...</th>\n",
       "      <td>...</td>\n",
       "      <td>...</td>\n",
       "      <td>...</td>\n",
       "      <td>...</td>\n",
       "      <td>...</td>\n",
       "      <td>...</td>\n",
       "      <td>...</td>\n",
       "      <td>...</td>\n",
       "      <td>...</td>\n",
       "      <td>...</td>\n",
       "      <td>...</td>\n",
       "    </tr>\n",
       "    <tr>\n",
       "      <th>75</th>\n",
       "      <td>2023-01-26</td>\n",
       "      <td>Close 2DaysAfterEarnings:Long Calls</td>\n",
       "      <td>-1</td>\n",
       "      <td>MSFT</td>\n",
       "      <td>17-Mar-23</td>\n",
       "      <td>240.0</td>\n",
       "      <td>Call</td>\n",
       "      <td>14.25</td>\n",
       "      <td>714.0</td>\n",
       "      <td>248</td>\n",
       "      <td>246.32</td>\n",
       "    </tr>\n",
       "    <tr>\n",
       "      <th>76</th>\n",
       "      <td>2023-04-10</td>\n",
       "      <td>Open 16DaysBeforeEarnings:Long Calls</td>\n",
       "      <td>1</td>\n",
       "      <td>MSFT</td>\n",
       "      <td>16-Jun-23</td>\n",
       "      <td>300.0</td>\n",
       "      <td>Call</td>\n",
       "      <td>9.55</td>\n",
       "      <td>NaN</td>\n",
       "      <td>289.39</td>\n",
       "      <td>288.15</td>\n",
       "    </tr>\n",
       "    <tr>\n",
       "      <th>77</th>\n",
       "      <td>2023-04-27</td>\n",
       "      <td>Close 2DaysAfterEarnings:Long Calls</td>\n",
       "      <td>-1</td>\n",
       "      <td>MSFT</td>\n",
       "      <td>16-Jun-23</td>\n",
       "      <td>300.0</td>\n",
       "      <td>Call</td>\n",
       "      <td>14</td>\n",
       "      <td>444.0</td>\n",
       "      <td>304.83</td>\n",
       "      <td>303.53</td>\n",
       "    </tr>\n",
       "    <tr>\n",
       "      <th>78</th>\n",
       "      <td>2023-07-10</td>\n",
       "      <td>Open 16DaysBeforeEarnings:Long Calls</td>\n",
       "      <td>1</td>\n",
       "      <td>MSFT</td>\n",
       "      <td>15-Sep-23</td>\n",
       "      <td>345.0</td>\n",
       "      <td>Call</td>\n",
       "      <td>9.85</td>\n",
       "      <td>NaN</td>\n",
       "      <td>331.83</td>\n",
       "      <td>331.13</td>\n",
       "    </tr>\n",
       "    <tr>\n",
       "      <th>79</th>\n",
       "      <td>2023-07-27</td>\n",
       "      <td>Close 2DaysAfterEarnings:Long Calls</td>\n",
       "      <td>-1</td>\n",
       "      <td>MSFT</td>\n",
       "      <td>15-Sep-23</td>\n",
       "      <td>345.0</td>\n",
       "      <td>Call</td>\n",
       "      <td>6.88</td>\n",
       "      <td>-298.0</td>\n",
       "      <td>330.72</td>\n",
       "      <td>330.02</td>\n",
       "    </tr>\n",
       "  </tbody>\n",
       "</table>\n",
       "<p>80 rows × 11 columns</p>\n",
       "</div>"
      ],
      "text/plain": [
       "         Date                           Description  Size Symbol Expiration  \\\n",
       "0  2013-10-08  Open 16DaysBeforeEarnings:Long Calls     1   MSFT  21-Dec-13   \n",
       "1  2013-10-28   Close 2DaysAfterEarnings:Long Calls    -1   MSFT  21-Dec-13   \n",
       "2  2014-01-07  Open 16DaysBeforeEarnings:Long Calls     1   MSFT  22-Mar-14   \n",
       "3  2014-01-27   Close 2DaysAfterEarnings:Long Calls    -1   MSFT  22-Mar-14   \n",
       "4  2014-04-08  Open 16DaysBeforeEarnings:Long Calls     1   MSFT  21-Jun-14   \n",
       "..        ...                                   ...   ...    ...        ...   \n",
       "75 2023-01-26   Close 2DaysAfterEarnings:Long Calls    -1   MSFT  17-Mar-23   \n",
       "76 2023-04-10  Open 16DaysBeforeEarnings:Long Calls     1   MSFT  16-Jun-23   \n",
       "77 2023-04-27   Close 2DaysAfterEarnings:Long Calls    -1   MSFT  16-Jun-23   \n",
       "78 2023-07-10  Open 16DaysBeforeEarnings:Long Calls     1   MSFT  15-Sep-23   \n",
       "79 2023-07-27   Close 2DaysAfterEarnings:Long Calls    -1   MSFT  15-Sep-23   \n",
       "\n",
       "    Strike  Type Trade Price  Profit/Loss Stock Price Adjusted Stock Price  \n",
       "0     34.0  Call        0.98          NaN       33.01                27.64  \n",
       "1     34.0  Call        1.88         89.0       35.57                29.79  \n",
       "2     37.0  Call        1.15          NaN       36.41                30.72  \n",
       "3     37.0  Call        0.78        -38.0       36.03                30.40  \n",
       "4     41.0  Call           1          NaN       39.82                33.85  \n",
       "..     ...   ...         ...          ...         ...                  ...  \n",
       "75   240.0  Call       14.25        714.0         248               246.32  \n",
       "76   300.0  Call        9.55          NaN      289.39               288.15  \n",
       "77   300.0  Call          14        444.0      304.83               303.53  \n",
       "78   345.0  Call        9.85          NaN      331.83               331.13  \n",
       "79   345.0  Call        6.88       -298.0      330.72               330.02  \n",
       "\n",
       "[80 rows x 11 columns]"
      ]
     },
     "execution_count": 113,
     "metadata": {},
     "output_type": "execute_result"
    }
   ],
   "source": [
    "df1\n"
   ]
  },
  {
   "cell_type": "code",
   "execution_count": 114,
   "metadata": {},
   "outputs": [],
   "source": [
    "# delete Nan\n",
    "df_total = df1.dropna(subset=['Profit/Loss'])"
   ]
  },
  {
   "cell_type": "code",
   "execution_count": null,
   "metadata": {},
   "outputs": [],
   "source": []
  },
  {
   "cell_type": "code",
   "execution_count": 115,
   "metadata": {},
   "outputs": [
    {
     "name": "stdout",
     "output_type": "stream",
     "text": [
      "[*********************100%***********************]  1 of 1 completed\n"
     ]
    }
   ],
   "source": [
    "# making cummulative sum of profit\n",
    "df_chart = df_total.copy()\n",
    "df_chart['CumSum'] = df_total['Profit/Loss'].cumsum()\n",
    "\n",
    "# add SPY price to compare\n",
    "\n",
    "start_date = df_chart['Date'].min()\n",
    "end_date = df_chart['Date'].max()\n",
    "\n",
    "# Fetch SPY data for the given date range\n",
    "spy_data = yf.download('SPY', start=start_date, end=end_date)\n",
    "\n",
    "# Merge the data\n",
    "df_chart = df_chart.merge(spy_data[['Close']], left_on='Date', right_index=True, how='left')\n",
    "df_chart.rename(columns={'Close': 'SPY Price'}, inplace=True)"
   ]
  },
  {
   "cell_type": "code",
   "execution_count": 116,
   "metadata": {},
   "outputs": [
    {
     "data": {
      "text/html": [
       "<div>\n",
       "<style scoped>\n",
       "    .dataframe tbody tr th:only-of-type {\n",
       "        vertical-align: middle;\n",
       "    }\n",
       "\n",
       "    .dataframe tbody tr th {\n",
       "        vertical-align: top;\n",
       "    }\n",
       "\n",
       "    .dataframe thead th {\n",
       "        text-align: right;\n",
       "    }\n",
       "</style>\n",
       "<table border=\"1\" class=\"dataframe\">\n",
       "  <thead>\n",
       "    <tr style=\"text-align: right;\">\n",
       "      <th></th>\n",
       "      <th>Date</th>\n",
       "      <th>Description</th>\n",
       "      <th>Size</th>\n",
       "      <th>Symbol</th>\n",
       "      <th>Expiration</th>\n",
       "      <th>Strike</th>\n",
       "      <th>Type</th>\n",
       "      <th>Trade Price</th>\n",
       "      <th>Profit/Loss</th>\n",
       "      <th>Stock Price</th>\n",
       "      <th>Adjusted Stock Price</th>\n",
       "      <th>CumSum</th>\n",
       "      <th>SPY Price</th>\n",
       "    </tr>\n",
       "  </thead>\n",
       "  <tbody>\n",
       "    <tr>\n",
       "      <th>1</th>\n",
       "      <td>2013-10-28</td>\n",
       "      <td>Close 2DaysAfterEarnings:Long Calls</td>\n",
       "      <td>-1</td>\n",
       "      <td>MSFT</td>\n",
       "      <td>21-Dec-13</td>\n",
       "      <td>34.0</td>\n",
       "      <td>Call</td>\n",
       "      <td>1.88</td>\n",
       "      <td>89.0</td>\n",
       "      <td>35.57</td>\n",
       "      <td>29.79</td>\n",
       "      <td>89.0</td>\n",
       "      <td>176.229996</td>\n",
       "    </tr>\n",
       "    <tr>\n",
       "      <th>3</th>\n",
       "      <td>2014-01-27</td>\n",
       "      <td>Close 2DaysAfterEarnings:Long Calls</td>\n",
       "      <td>-1</td>\n",
       "      <td>MSFT</td>\n",
       "      <td>22-Mar-14</td>\n",
       "      <td>37.0</td>\n",
       "      <td>Call</td>\n",
       "      <td>0.78</td>\n",
       "      <td>-38.0</td>\n",
       "      <td>36.03</td>\n",
       "      <td>30.40</td>\n",
       "      <td>51.0</td>\n",
       "      <td>178.009995</td>\n",
       "    </tr>\n",
       "    <tr>\n",
       "      <th>5</th>\n",
       "      <td>2014-04-28</td>\n",
       "      <td>Close 2DaysAfterEarnings:Long Calls</td>\n",
       "      <td>-1</td>\n",
       "      <td>MSFT</td>\n",
       "      <td>21-Jun-14</td>\n",
       "      <td>41.0</td>\n",
       "      <td>Call</td>\n",
       "      <td>1.02</td>\n",
       "      <td>1.0</td>\n",
       "      <td>40.87</td>\n",
       "      <td>34.75</td>\n",
       "      <td>52.0</td>\n",
       "      <td>186.880005</td>\n",
       "    </tr>\n",
       "    <tr>\n",
       "      <th>7</th>\n",
       "      <td>2014-07-24</td>\n",
       "      <td>Close 2DaysAfterEarnings:Long Calls</td>\n",
       "      <td>-1</td>\n",
       "      <td>MSFT</td>\n",
       "      <td>22-Aug-14</td>\n",
       "      <td>43.0</td>\n",
       "      <td>Call</td>\n",
       "      <td>1.72</td>\n",
       "      <td>102.0</td>\n",
       "      <td>44.40</td>\n",
       "      <td>38.01</td>\n",
       "      <td>154.0</td>\n",
       "      <td>198.649994</td>\n",
       "    </tr>\n",
       "    <tr>\n",
       "      <th>9</th>\n",
       "      <td>2014-10-27</td>\n",
       "      <td>Close 2DaysAfterEarnings:Long Calls</td>\n",
       "      <td>-1</td>\n",
       "      <td>MSFT</td>\n",
       "      <td>20-Dec-14</td>\n",
       "      <td>47.0</td>\n",
       "      <td>Call</td>\n",
       "      <td>0.64</td>\n",
       "      <td>-27.0</td>\n",
       "      <td>45.91</td>\n",
       "      <td>39.54</td>\n",
       "      <td>127.0</td>\n",
       "      <td>196.160004</td>\n",
       "    </tr>\n",
       "    <tr>\n",
       "      <th>11</th>\n",
       "      <td>2015-01-28</td>\n",
       "      <td>Close 2DaysAfterEarnings:Long Calls</td>\n",
       "      <td>-1</td>\n",
       "      <td>MSFT</td>\n",
       "      <td>20-Mar-15</td>\n",
       "      <td>48.0</td>\n",
       "      <td>Call</td>\n",
       "      <td>0.06</td>\n",
       "      <td>-101.0</td>\n",
       "      <td>41.19</td>\n",
       "      <td>35.70</td>\n",
       "      <td>26.0</td>\n",
       "      <td>200.139999</td>\n",
       "    </tr>\n",
       "    <tr>\n",
       "      <th>13</th>\n",
       "      <td>2015-04-27</td>\n",
       "      <td>Close 2DaysAfterEarnings:Long Calls</td>\n",
       "      <td>-1</td>\n",
       "      <td>MSFT</td>\n",
       "      <td>19-Jun-15</td>\n",
       "      <td>42.0</td>\n",
       "      <td>Call</td>\n",
       "      <td>5.92</td>\n",
       "      <td>472.0</td>\n",
       "      <td>48.03</td>\n",
       "      <td>41.93</td>\n",
       "      <td>498.0</td>\n",
       "      <td>210.770004</td>\n",
       "    </tr>\n",
       "    <tr>\n",
       "      <th>15</th>\n",
       "      <td>2015-07-23</td>\n",
       "      <td>Close 2DaysAfterEarnings:Long Calls</td>\n",
       "      <td>-1</td>\n",
       "      <td>MSFT</td>\n",
       "      <td>18-Sep-15</td>\n",
       "      <td>46.0</td>\n",
       "      <td>Call</td>\n",
       "      <td>1.27</td>\n",
       "      <td>24.0</td>\n",
       "      <td>46.11</td>\n",
       "      <td>40.52</td>\n",
       "      <td>522.0</td>\n",
       "      <td>210.179993</td>\n",
       "    </tr>\n",
       "    <tr>\n",
       "      <th>17</th>\n",
       "      <td>2015-10-26</td>\n",
       "      <td>Close 2DaysAfterEarnings:Long Calls</td>\n",
       "      <td>-1</td>\n",
       "      <td>MSFT</td>\n",
       "      <td>18-Dec-15</td>\n",
       "      <td>48.0</td>\n",
       "      <td>Call</td>\n",
       "      <td>6.35</td>\n",
       "      <td>506.0</td>\n",
       "      <td>54.25</td>\n",
       "      <td>47.98</td>\n",
       "      <td>1028.0</td>\n",
       "      <td>207.000000</td>\n",
       "    </tr>\n",
       "    <tr>\n",
       "      <th>19</th>\n",
       "      <td>2016-02-01</td>\n",
       "      <td>Close 2DaysAfterEarnings:Long Calls</td>\n",
       "      <td>-1</td>\n",
       "      <td>MSFT</td>\n",
       "      <td>18-Mar-16</td>\n",
       "      <td>55.0</td>\n",
       "      <td>Call</td>\n",
       "      <td>1.52</td>\n",
       "      <td>13.0</td>\n",
       "      <td>54.71</td>\n",
       "      <td>48.72</td>\n",
       "      <td>1041.0</td>\n",
       "      <td>193.649994</td>\n",
       "    </tr>\n",
       "    <tr>\n",
       "      <th>21</th>\n",
       "      <td>2016-04-25</td>\n",
       "      <td>Close 2DaysAfterEarnings:Long Calls</td>\n",
       "      <td>-1</td>\n",
       "      <td>MSFT</td>\n",
       "      <td>17-Jun-16</td>\n",
       "      <td>55.0</td>\n",
       "      <td>Call</td>\n",
       "      <td>0.34</td>\n",
       "      <td>-157.0</td>\n",
       "      <td>52.11</td>\n",
       "      <td>46.73</td>\n",
       "      <td>884.0</td>\n",
       "      <td>208.610001</td>\n",
       "    </tr>\n",
       "    <tr>\n",
       "      <th>23</th>\n",
       "      <td>2016-07-21</td>\n",
       "      <td>Close 2DaysAfterEarnings:Long Calls</td>\n",
       "      <td>-1</td>\n",
       "      <td>MSFT</td>\n",
       "      <td>16-Sep-16</td>\n",
       "      <td>52.5</td>\n",
       "      <td>Call</td>\n",
       "      <td>3.62</td>\n",
       "      <td>225.0</td>\n",
       "      <td>55.80</td>\n",
       "      <td>50.39</td>\n",
       "      <td>1109.0</td>\n",
       "      <td>216.270004</td>\n",
       "    </tr>\n",
       "    <tr>\n",
       "      <th>25</th>\n",
       "      <td>2016-10-24</td>\n",
       "      <td>Close 2DaysAfterEarnings:Long Calls</td>\n",
       "      <td>-1</td>\n",
       "      <td>MSFT</td>\n",
       "      <td>16-Dec-16</td>\n",
       "      <td>57.5</td>\n",
       "      <td>Call</td>\n",
       "      <td>3.75</td>\n",
       "      <td>191.0</td>\n",
       "      <td>61</td>\n",
       "      <td>55.43</td>\n",
       "      <td>1300.0</td>\n",
       "      <td>214.889999</td>\n",
       "    </tr>\n",
       "    <tr>\n",
       "      <th>27</th>\n",
       "      <td>2017-01-30</td>\n",
       "      <td>Close 2DaysAfterEarnings:Long Calls</td>\n",
       "      <td>-1</td>\n",
       "      <td>MSFT</td>\n",
       "      <td>17-Mar-17</td>\n",
       "      <td>65.0</td>\n",
       "      <td>Call</td>\n",
       "      <td>1.32</td>\n",
       "      <td>19.0</td>\n",
       "      <td>65.13</td>\n",
       "      <td>59.58</td>\n",
       "      <td>1319.0</td>\n",
       "      <td>227.550003</td>\n",
       "    </tr>\n",
       "    <tr>\n",
       "      <th>29</th>\n",
       "      <td>2017-05-01</td>\n",
       "      <td>Close 2DaysAfterEarnings:Long Calls</td>\n",
       "      <td>-1</td>\n",
       "      <td>MSFT</td>\n",
       "      <td>16-Jun-17</td>\n",
       "      <td>67.5</td>\n",
       "      <td>Call</td>\n",
       "      <td>2.43</td>\n",
       "      <td>138.0</td>\n",
       "      <td>69.41</td>\n",
       "      <td>63.88</td>\n",
       "      <td>1457.0</td>\n",
       "      <td>238.679993</td>\n",
       "    </tr>\n",
       "    <tr>\n",
       "      <th>31</th>\n",
       "      <td>2017-07-24</td>\n",
       "      <td>Close 2DaysAfterEarnings:Long Calls</td>\n",
       "      <td>-1</td>\n",
       "      <td>MSFT</td>\n",
       "      <td>15-Sep-17</td>\n",
       "      <td>70.0</td>\n",
       "      <td>Call</td>\n",
       "      <td>4.20</td>\n",
       "      <td>213.0</td>\n",
       "      <td>73.60</td>\n",
       "      <td>68.12</td>\n",
       "      <td>1670.0</td>\n",
       "      <td>246.820007</td>\n",
       "    </tr>\n",
       "    <tr>\n",
       "      <th>33</th>\n",
       "      <td>2017-10-30</td>\n",
       "      <td>Close 2DaysAfterEarnings:Long Calls</td>\n",
       "      <td>-1</td>\n",
       "      <td>MSFT</td>\n",
       "      <td>15-Dec-17</td>\n",
       "      <td>77.5</td>\n",
       "      <td>Call</td>\n",
       "      <td>6.62</td>\n",
       "      <td>497.0</td>\n",
       "      <td>83.89</td>\n",
       "      <td>78.05</td>\n",
       "      <td>2167.0</td>\n",
       "      <td>256.750000</td>\n",
       "    </tr>\n",
       "    <tr>\n",
       "      <th>35</th>\n",
       "      <td>2018-02-02</td>\n",
       "      <td>Close 2DaysAfterEarnings:Long Calls</td>\n",
       "      <td>-1</td>\n",
       "      <td>MSFT</td>\n",
       "      <td>16-Mar-18</td>\n",
       "      <td>90.0</td>\n",
       "      <td>Call</td>\n",
       "      <td>3.72</td>\n",
       "      <td>159.0</td>\n",
       "      <td>91.78</td>\n",
       "      <td>85.83</td>\n",
       "      <td>2326.0</td>\n",
       "      <td>275.450012</td>\n",
       "    </tr>\n",
       "    <tr>\n",
       "      <th>37</th>\n",
       "      <td>2018-04-30</td>\n",
       "      <td>Close 2DaysAfterEarnings:Long Calls</td>\n",
       "      <td>-1</td>\n",
       "      <td>MSFT</td>\n",
       "      <td>15-Jun-18</td>\n",
       "      <td>95.0</td>\n",
       "      <td>Call</td>\n",
       "      <td>2.21</td>\n",
       "      <td>-100.0</td>\n",
       "      <td>93.52</td>\n",
       "      <td>87.86</td>\n",
       "      <td>2226.0</td>\n",
       "      <td>264.510010</td>\n",
       "    </tr>\n",
       "    <tr>\n",
       "      <th>39</th>\n",
       "      <td>2018-07-23</td>\n",
       "      <td>Close 2DaysAfterEarnings:Long Calls</td>\n",
       "      <td>-1</td>\n",
       "      <td>MSFT</td>\n",
       "      <td>17-Aug-18</td>\n",
       "      <td>100.0</td>\n",
       "      <td>Call</td>\n",
       "      <td>8.32</td>\n",
       "      <td>535.0</td>\n",
       "      <td>107.97</td>\n",
       "      <td>101.87</td>\n",
       "      <td>2761.0</td>\n",
       "      <td>280.200012</td>\n",
       "    </tr>\n",
       "    <tr>\n",
       "      <th>41</th>\n",
       "      <td>2018-10-26</td>\n",
       "      <td>Close 2DaysAfterEarnings:Long Calls</td>\n",
       "      <td>-1</td>\n",
       "      <td>MSFT</td>\n",
       "      <td>21-Dec-18</td>\n",
       "      <td>115.0</td>\n",
       "      <td>Call</td>\n",
       "      <td>1.44</td>\n",
       "      <td>-139.0</td>\n",
       "      <td>106.96</td>\n",
       "      <td>101.31</td>\n",
       "      <td>2622.0</td>\n",
       "      <td>265.329987</td>\n",
       "    </tr>\n",
       "    <tr>\n",
       "      <th>43</th>\n",
       "      <td>2019-02-01</td>\n",
       "      <td>Close 2DaysAfterEarnings:Long Calls</td>\n",
       "      <td>-1</td>\n",
       "      <td>MSFT</td>\n",
       "      <td>15-Mar-19</td>\n",
       "      <td>105.0</td>\n",
       "      <td>Call</td>\n",
       "      <td>1.92</td>\n",
       "      <td>-141.0</td>\n",
       "      <td>102.78</td>\n",
       "      <td>97.78</td>\n",
       "      <td>2481.0</td>\n",
       "      <td>270.059998</td>\n",
       "    </tr>\n",
       "    <tr>\n",
       "      <th>45</th>\n",
       "      <td>2019-04-26</td>\n",
       "      <td>Close 2DaysAfterEarnings:Long Calls</td>\n",
       "      <td>-1</td>\n",
       "      <td>MSFT</td>\n",
       "      <td>21-Jun-19</td>\n",
       "      <td>125.0</td>\n",
       "      <td>Call</td>\n",
       "      <td>6.45</td>\n",
       "      <td>425.0</td>\n",
       "      <td>129.89</td>\n",
       "      <td>124.10</td>\n",
       "      <td>2906.0</td>\n",
       "      <td>293.410004</td>\n",
       "    </tr>\n",
       "    <tr>\n",
       "      <th>47</th>\n",
       "      <td>2019-07-22</td>\n",
       "      <td>Close 2DaysAfterEarnings:Long Calls</td>\n",
       "      <td>-1</td>\n",
       "      <td>MSFT</td>\n",
       "      <td>16-Aug-19</td>\n",
       "      <td>140.0</td>\n",
       "      <td>Call</td>\n",
       "      <td>1.77</td>\n",
       "      <td>-66.0</td>\n",
       "      <td>138.43</td>\n",
       "      <td>132.74</td>\n",
       "      <td>2840.0</td>\n",
       "      <td>297.899994</td>\n",
       "    </tr>\n",
       "    <tr>\n",
       "      <th>49</th>\n",
       "      <td>2019-10-25</td>\n",
       "      <td>Close 2DaysAfterEarnings:Long Calls</td>\n",
       "      <td>-1</td>\n",
       "      <td>MSFT</td>\n",
       "      <td>20-Dec-19</td>\n",
       "      <td>140.0</td>\n",
       "      <td>Call</td>\n",
       "      <td>4.18</td>\n",
       "      <td>-43.0</td>\n",
       "      <td>140.73</td>\n",
       "      <td>135.41</td>\n",
       "      <td>2797.0</td>\n",
       "      <td>301.600006</td>\n",
       "    </tr>\n",
       "    <tr>\n",
       "      <th>51</th>\n",
       "      <td>2020-01-31</td>\n",
       "      <td>Close 2DaysAfterEarnings:Long Calls</td>\n",
       "      <td>-1</td>\n",
       "      <td>MSFT</td>\n",
       "      <td>20-Mar-20</td>\n",
       "      <td>165.0</td>\n",
       "      <td>Call</td>\n",
       "      <td>8.88</td>\n",
       "      <td>434.0</td>\n",
       "      <td>170.23</td>\n",
       "      <td>164.35</td>\n",
       "      <td>3231.0</td>\n",
       "      <td>321.730011</td>\n",
       "    </tr>\n",
       "    <tr>\n",
       "      <th>53</th>\n",
       "      <td>2020-05-01</td>\n",
       "      <td>Close 2DaysAfterEarnings:Long Calls</td>\n",
       "      <td>-1</td>\n",
       "      <td>MSFT</td>\n",
       "      <td>19-Jun-20</td>\n",
       "      <td>175.0</td>\n",
       "      <td>Call</td>\n",
       "      <td>8.50</td>\n",
       "      <td>274.0</td>\n",
       "      <td>174.57</td>\n",
       "      <td>169</td>\n",
       "      <td>3505.0</td>\n",
       "      <td>282.790009</td>\n",
       "    </tr>\n",
       "    <tr>\n",
       "      <th>55</th>\n",
       "      <td>2020-07-24</td>\n",
       "      <td>Close 2DaysAfterEarnings:Long Calls</td>\n",
       "      <td>-1</td>\n",
       "      <td>MSFT</td>\n",
       "      <td>18-Sep-20</td>\n",
       "      <td>220.0</td>\n",
       "      <td>Call</td>\n",
       "      <td>3.30</td>\n",
       "      <td>-353.0</td>\n",
       "      <td>201.30</td>\n",
       "      <td>195.42</td>\n",
       "      <td>3152.0</td>\n",
       "      <td>320.880005</td>\n",
       "    </tr>\n",
       "    <tr>\n",
       "      <th>57</th>\n",
       "      <td>2020-10-29</td>\n",
       "      <td>Close 2DaysAfterEarnings:Long Calls</td>\n",
       "      <td>-1</td>\n",
       "      <td>MSFT</td>\n",
       "      <td>18-Dec-20</td>\n",
       "      <td>230.0</td>\n",
       "      <td>Call</td>\n",
       "      <td>2.51</td>\n",
       "      <td>-610.0</td>\n",
       "      <td>204.72</td>\n",
       "      <td>199.22</td>\n",
       "      <td>2542.0</td>\n",
       "      <td>329.980011</td>\n",
       "    </tr>\n",
       "    <tr>\n",
       "      <th>59</th>\n",
       "      <td>2021-01-28</td>\n",
       "      <td>Close 2DaysAfterEarnings:Long Calls</td>\n",
       "      <td>-1</td>\n",
       "      <td>MSFT</td>\n",
       "      <td>19-Mar-21</td>\n",
       "      <td>225.0</td>\n",
       "      <td>Call</td>\n",
       "      <td>19</td>\n",
       "      <td>1131.0</td>\n",
       "      <td>238.93</td>\n",
       "      <td>233.13</td>\n",
       "      <td>3673.0</td>\n",
       "      <td>377.630005</td>\n",
       "    </tr>\n",
       "    <tr>\n",
       "      <th>61</th>\n",
       "      <td>2021-04-29</td>\n",
       "      <td>Close 2DaysAfterEarnings:Long Calls</td>\n",
       "      <td>-1</td>\n",
       "      <td>MSFT</td>\n",
       "      <td>18-Jun-21</td>\n",
       "      <td>265.0</td>\n",
       "      <td>Call</td>\n",
       "      <td>3.05</td>\n",
       "      <td>-318.0</td>\n",
       "      <td>252.51</td>\n",
       "      <td>246.94</td>\n",
       "      <td>3355.0</td>\n",
       "      <td>420.059998</td>\n",
       "    </tr>\n",
       "    <tr>\n",
       "      <th>63</th>\n",
       "      <td>2021-07-29</td>\n",
       "      <td>Close 2DaysAfterEarnings:Long Calls</td>\n",
       "      <td>-1</td>\n",
       "      <td>MSFT</td>\n",
       "      <td>17-Sep-21</td>\n",
       "      <td>285.0</td>\n",
       "      <td>Call</td>\n",
       "      <td>8.35</td>\n",
       "      <td>227.0</td>\n",
       "      <td>286.50</td>\n",
       "      <td>280.83</td>\n",
       "      <td>3582.0</td>\n",
       "      <td>440.649994</td>\n",
       "    </tr>\n",
       "    <tr>\n",
       "      <th>65</th>\n",
       "      <td>2021-10-28</td>\n",
       "      <td>Close 2DaysAfterEarnings:Long Calls</td>\n",
       "      <td>-1</td>\n",
       "      <td>MSFT</td>\n",
       "      <td>17-Dec-21</td>\n",
       "      <td>305.0</td>\n",
       "      <td>Call</td>\n",
       "      <td>22.60</td>\n",
       "      <td>1557.0</td>\n",
       "      <td>324.35</td>\n",
       "      <td>318.54</td>\n",
       "      <td>5139.0</td>\n",
       "      <td>458.320007</td>\n",
       "    </tr>\n",
       "    <tr>\n",
       "      <th>67</th>\n",
       "      <td>2022-01-27</td>\n",
       "      <td>Close 2DaysAfterEarnings:Long Calls</td>\n",
       "      <td>-1</td>\n",
       "      <td>MSFT</td>\n",
       "      <td>18-Mar-22</td>\n",
       "      <td>325.0</td>\n",
       "      <td>Call</td>\n",
       "      <td>5.12</td>\n",
       "      <td>-539.0</td>\n",
       "      <td>299.84</td>\n",
       "      <td>295.01</td>\n",
       "      <td>4600.0</td>\n",
       "      <td>431.239990</td>\n",
       "    </tr>\n",
       "    <tr>\n",
       "      <th>69</th>\n",
       "      <td>2022-04-28</td>\n",
       "      <td>Close 2DaysAfterEarnings:Long Calls</td>\n",
       "      <td>-1</td>\n",
       "      <td>MSFT</td>\n",
       "      <td>17-Jun-22</td>\n",
       "      <td>295.0</td>\n",
       "      <td>Call</td>\n",
       "      <td>10.32</td>\n",
       "      <td>-31.0</td>\n",
       "      <td>289.63</td>\n",
       "      <td>285.55</td>\n",
       "      <td>4569.0</td>\n",
       "      <td>427.809998</td>\n",
       "    </tr>\n",
       "    <tr>\n",
       "      <th>71</th>\n",
       "      <td>2022-07-28</td>\n",
       "      <td>Close 2DaysAfterEarnings:Long Calls</td>\n",
       "      <td>-1</td>\n",
       "      <td>MSFT</td>\n",
       "      <td>16-Sep-22</td>\n",
       "      <td>275.0</td>\n",
       "      <td>Call</td>\n",
       "      <td>11.73</td>\n",
       "      <td>222.0</td>\n",
       "      <td>276.41</td>\n",
       "      <td>273.18</td>\n",
       "      <td>4791.0</td>\n",
       "      <td>406.070007</td>\n",
       "    </tr>\n",
       "    <tr>\n",
       "      <th>73</th>\n",
       "      <td>2022-10-27</td>\n",
       "      <td>Close 2DaysAfterEarnings:Long Calls</td>\n",
       "      <td>-1</td>\n",
       "      <td>MSFT</td>\n",
       "      <td>16-Dec-22</td>\n",
       "      <td>240.0</td>\n",
       "      <td>Call</td>\n",
       "      <td>5.75</td>\n",
       "      <td>-416.0</td>\n",
       "      <td>226.75</td>\n",
       "      <td>224.58</td>\n",
       "      <td>4375.0</td>\n",
       "      <td>379.980011</td>\n",
       "    </tr>\n",
       "    <tr>\n",
       "      <th>75</th>\n",
       "      <td>2023-01-26</td>\n",
       "      <td>Close 2DaysAfterEarnings:Long Calls</td>\n",
       "      <td>-1</td>\n",
       "      <td>MSFT</td>\n",
       "      <td>17-Mar-23</td>\n",
       "      <td>240.0</td>\n",
       "      <td>Call</td>\n",
       "      <td>14.25</td>\n",
       "      <td>714.0</td>\n",
       "      <td>248</td>\n",
       "      <td>246.32</td>\n",
       "      <td>5089.0</td>\n",
       "      <td>404.750000</td>\n",
       "    </tr>\n",
       "    <tr>\n",
       "      <th>77</th>\n",
       "      <td>2023-04-27</td>\n",
       "      <td>Close 2DaysAfterEarnings:Long Calls</td>\n",
       "      <td>-1</td>\n",
       "      <td>MSFT</td>\n",
       "      <td>16-Jun-23</td>\n",
       "      <td>300.0</td>\n",
       "      <td>Call</td>\n",
       "      <td>14</td>\n",
       "      <td>444.0</td>\n",
       "      <td>304.83</td>\n",
       "      <td>303.53</td>\n",
       "      <td>5533.0</td>\n",
       "      <td>412.410004</td>\n",
       "    </tr>\n",
       "    <tr>\n",
       "      <th>79</th>\n",
       "      <td>2023-07-27</td>\n",
       "      <td>Close 2DaysAfterEarnings:Long Calls</td>\n",
       "      <td>-1</td>\n",
       "      <td>MSFT</td>\n",
       "      <td>15-Sep-23</td>\n",
       "      <td>345.0</td>\n",
       "      <td>Call</td>\n",
       "      <td>6.88</td>\n",
       "      <td>-298.0</td>\n",
       "      <td>330.72</td>\n",
       "      <td>330.02</td>\n",
       "      <td>5235.0</td>\n",
       "      <td>NaN</td>\n",
       "    </tr>\n",
       "  </tbody>\n",
       "</table>\n",
       "</div>"
      ],
      "text/plain": [
       "         Date                          Description  Size Symbol Expiration  \\\n",
       "1  2013-10-28  Close 2DaysAfterEarnings:Long Calls    -1   MSFT  21-Dec-13   \n",
       "3  2014-01-27  Close 2DaysAfterEarnings:Long Calls    -1   MSFT  22-Mar-14   \n",
       "5  2014-04-28  Close 2DaysAfterEarnings:Long Calls    -1   MSFT  21-Jun-14   \n",
       "7  2014-07-24  Close 2DaysAfterEarnings:Long Calls    -1   MSFT  22-Aug-14   \n",
       "9  2014-10-27  Close 2DaysAfterEarnings:Long Calls    -1   MSFT  20-Dec-14   \n",
       "11 2015-01-28  Close 2DaysAfterEarnings:Long Calls    -1   MSFT  20-Mar-15   \n",
       "13 2015-04-27  Close 2DaysAfterEarnings:Long Calls    -1   MSFT  19-Jun-15   \n",
       "15 2015-07-23  Close 2DaysAfterEarnings:Long Calls    -1   MSFT  18-Sep-15   \n",
       "17 2015-10-26  Close 2DaysAfterEarnings:Long Calls    -1   MSFT  18-Dec-15   \n",
       "19 2016-02-01  Close 2DaysAfterEarnings:Long Calls    -1   MSFT  18-Mar-16   \n",
       "21 2016-04-25  Close 2DaysAfterEarnings:Long Calls    -1   MSFT  17-Jun-16   \n",
       "23 2016-07-21  Close 2DaysAfterEarnings:Long Calls    -1   MSFT  16-Sep-16   \n",
       "25 2016-10-24  Close 2DaysAfterEarnings:Long Calls    -1   MSFT  16-Dec-16   \n",
       "27 2017-01-30  Close 2DaysAfterEarnings:Long Calls    -1   MSFT  17-Mar-17   \n",
       "29 2017-05-01  Close 2DaysAfterEarnings:Long Calls    -1   MSFT  16-Jun-17   \n",
       "31 2017-07-24  Close 2DaysAfterEarnings:Long Calls    -1   MSFT  15-Sep-17   \n",
       "33 2017-10-30  Close 2DaysAfterEarnings:Long Calls    -1   MSFT  15-Dec-17   \n",
       "35 2018-02-02  Close 2DaysAfterEarnings:Long Calls    -1   MSFT  16-Mar-18   \n",
       "37 2018-04-30  Close 2DaysAfterEarnings:Long Calls    -1   MSFT  15-Jun-18   \n",
       "39 2018-07-23  Close 2DaysAfterEarnings:Long Calls    -1   MSFT  17-Aug-18   \n",
       "41 2018-10-26  Close 2DaysAfterEarnings:Long Calls    -1   MSFT  21-Dec-18   \n",
       "43 2019-02-01  Close 2DaysAfterEarnings:Long Calls    -1   MSFT  15-Mar-19   \n",
       "45 2019-04-26  Close 2DaysAfterEarnings:Long Calls    -1   MSFT  21-Jun-19   \n",
       "47 2019-07-22  Close 2DaysAfterEarnings:Long Calls    -1   MSFT  16-Aug-19   \n",
       "49 2019-10-25  Close 2DaysAfterEarnings:Long Calls    -1   MSFT  20-Dec-19   \n",
       "51 2020-01-31  Close 2DaysAfterEarnings:Long Calls    -1   MSFT  20-Mar-20   \n",
       "53 2020-05-01  Close 2DaysAfterEarnings:Long Calls    -1   MSFT  19-Jun-20   \n",
       "55 2020-07-24  Close 2DaysAfterEarnings:Long Calls    -1   MSFT  18-Sep-20   \n",
       "57 2020-10-29  Close 2DaysAfterEarnings:Long Calls    -1   MSFT  18-Dec-20   \n",
       "59 2021-01-28  Close 2DaysAfterEarnings:Long Calls    -1   MSFT  19-Mar-21   \n",
       "61 2021-04-29  Close 2DaysAfterEarnings:Long Calls    -1   MSFT  18-Jun-21   \n",
       "63 2021-07-29  Close 2DaysAfterEarnings:Long Calls    -1   MSFT  17-Sep-21   \n",
       "65 2021-10-28  Close 2DaysAfterEarnings:Long Calls    -1   MSFT  17-Dec-21   \n",
       "67 2022-01-27  Close 2DaysAfterEarnings:Long Calls    -1   MSFT  18-Mar-22   \n",
       "69 2022-04-28  Close 2DaysAfterEarnings:Long Calls    -1   MSFT  17-Jun-22   \n",
       "71 2022-07-28  Close 2DaysAfterEarnings:Long Calls    -1   MSFT  16-Sep-22   \n",
       "73 2022-10-27  Close 2DaysAfterEarnings:Long Calls    -1   MSFT  16-Dec-22   \n",
       "75 2023-01-26  Close 2DaysAfterEarnings:Long Calls    -1   MSFT  17-Mar-23   \n",
       "77 2023-04-27  Close 2DaysAfterEarnings:Long Calls    -1   MSFT  16-Jun-23   \n",
       "79 2023-07-27  Close 2DaysAfterEarnings:Long Calls    -1   MSFT  15-Sep-23   \n",
       "\n",
       "    Strike  Type Trade Price  Profit/Loss Stock Price Adjusted Stock Price  \\\n",
       "1     34.0  Call        1.88         89.0       35.57                29.79   \n",
       "3     37.0  Call        0.78        -38.0       36.03                30.40   \n",
       "5     41.0  Call        1.02          1.0       40.87                34.75   \n",
       "7     43.0  Call        1.72        102.0       44.40                38.01   \n",
       "9     47.0  Call        0.64        -27.0       45.91                39.54   \n",
       "11    48.0  Call        0.06       -101.0       41.19                35.70   \n",
       "13    42.0  Call        5.92        472.0       48.03                41.93   \n",
       "15    46.0  Call        1.27         24.0       46.11                40.52   \n",
       "17    48.0  Call        6.35        506.0       54.25                47.98   \n",
       "19    55.0  Call        1.52         13.0       54.71                48.72   \n",
       "21    55.0  Call        0.34       -157.0       52.11                46.73   \n",
       "23    52.5  Call        3.62        225.0       55.80                50.39   \n",
       "25    57.5  Call        3.75        191.0          61                55.43   \n",
       "27    65.0  Call        1.32         19.0       65.13                59.58   \n",
       "29    67.5  Call        2.43        138.0       69.41                63.88   \n",
       "31    70.0  Call        4.20        213.0       73.60                68.12   \n",
       "33    77.5  Call        6.62        497.0       83.89                78.05   \n",
       "35    90.0  Call        3.72        159.0       91.78                85.83   \n",
       "37    95.0  Call        2.21       -100.0       93.52                87.86   \n",
       "39   100.0  Call        8.32        535.0      107.97               101.87   \n",
       "41   115.0  Call        1.44       -139.0      106.96               101.31   \n",
       "43   105.0  Call        1.92       -141.0      102.78                97.78   \n",
       "45   125.0  Call        6.45        425.0      129.89               124.10   \n",
       "47   140.0  Call        1.77        -66.0      138.43               132.74   \n",
       "49   140.0  Call        4.18        -43.0      140.73               135.41   \n",
       "51   165.0  Call        8.88        434.0      170.23               164.35   \n",
       "53   175.0  Call        8.50        274.0      174.57                  169   \n",
       "55   220.0  Call        3.30       -353.0      201.30               195.42   \n",
       "57   230.0  Call        2.51       -610.0      204.72               199.22   \n",
       "59   225.0  Call          19       1131.0      238.93               233.13   \n",
       "61   265.0  Call        3.05       -318.0      252.51               246.94   \n",
       "63   285.0  Call        8.35        227.0      286.50               280.83   \n",
       "65   305.0  Call       22.60       1557.0      324.35               318.54   \n",
       "67   325.0  Call        5.12       -539.0      299.84               295.01   \n",
       "69   295.0  Call       10.32        -31.0      289.63               285.55   \n",
       "71   275.0  Call       11.73        222.0      276.41               273.18   \n",
       "73   240.0  Call        5.75       -416.0      226.75               224.58   \n",
       "75   240.0  Call       14.25        714.0         248               246.32   \n",
       "77   300.0  Call          14        444.0      304.83               303.53   \n",
       "79   345.0  Call        6.88       -298.0      330.72               330.02   \n",
       "\n",
       "    CumSum   SPY Price  \n",
       "1     89.0  176.229996  \n",
       "3     51.0  178.009995  \n",
       "5     52.0  186.880005  \n",
       "7    154.0  198.649994  \n",
       "9    127.0  196.160004  \n",
       "11    26.0  200.139999  \n",
       "13   498.0  210.770004  \n",
       "15   522.0  210.179993  \n",
       "17  1028.0  207.000000  \n",
       "19  1041.0  193.649994  \n",
       "21   884.0  208.610001  \n",
       "23  1109.0  216.270004  \n",
       "25  1300.0  214.889999  \n",
       "27  1319.0  227.550003  \n",
       "29  1457.0  238.679993  \n",
       "31  1670.0  246.820007  \n",
       "33  2167.0  256.750000  \n",
       "35  2326.0  275.450012  \n",
       "37  2226.0  264.510010  \n",
       "39  2761.0  280.200012  \n",
       "41  2622.0  265.329987  \n",
       "43  2481.0  270.059998  \n",
       "45  2906.0  293.410004  \n",
       "47  2840.0  297.899994  \n",
       "49  2797.0  301.600006  \n",
       "51  3231.0  321.730011  \n",
       "53  3505.0  282.790009  \n",
       "55  3152.0  320.880005  \n",
       "57  2542.0  329.980011  \n",
       "59  3673.0  377.630005  \n",
       "61  3355.0  420.059998  \n",
       "63  3582.0  440.649994  \n",
       "65  5139.0  458.320007  \n",
       "67  4600.0  431.239990  \n",
       "69  4569.0  427.809998  \n",
       "71  4791.0  406.070007  \n",
       "73  4375.0  379.980011  \n",
       "75  5089.0  404.750000  \n",
       "77  5533.0  412.410004  \n",
       "79  5235.0         NaN  "
      ]
     },
     "execution_count": 116,
     "metadata": {},
     "output_type": "execute_result"
    }
   ],
   "source": [
    "df_chart"
   ]
  },
  {
   "cell_type": "code",
   "execution_count": null,
   "metadata": {},
   "outputs": [],
   "source": []
  },
  {
   "cell_type": "code",
   "execution_count": 117,
   "metadata": {},
   "outputs": [],
   "source": [
    "init_cap = 2000"
   ]
  },
  {
   "cell_type": "code",
   "execution_count": 126,
   "metadata": {},
   "outputs": [],
   "source": [
    "# 1. Determine the price of SPY on the start date\n",
    "start_date = df_chart['Date'].iloc[0]\n",
    "spy_start_price = df_chart.loc[df_chart['Date'] == start_date, 'SPY Price'].iloc[0]\n",
    "\n",
    "# 2. Calculate the number of SPY shares bought with the initial capital\n",
    "num_shares = init_cap / spy_start_price\n",
    "\n",
    "# 3. Calculate the value of those shares for each date in the DataFrame\n",
    "df_chart['SPY_buy_hold'] = num_shares * df_chart['SPY Price']-init_cap\n",
    "df_chart['SPY_buy_hold'] = df_chart['SPY_buy_hold'].round(2)\n",
    "\n",
    "# making cummulative sum of profit of SPY\n",
    "df_chart_comp = df_chart.copy()\n"
   ]
  },
  {
   "cell_type": "code",
   "execution_count": 127,
   "metadata": {},
   "outputs": [
    {
     "data": {
      "text/html": [
       "<div>\n",
       "<style scoped>\n",
       "    .dataframe tbody tr th:only-of-type {\n",
       "        vertical-align: middle;\n",
       "    }\n",
       "\n",
       "    .dataframe tbody tr th {\n",
       "        vertical-align: top;\n",
       "    }\n",
       "\n",
       "    .dataframe thead th {\n",
       "        text-align: right;\n",
       "    }\n",
       "</style>\n",
       "<table border=\"1\" class=\"dataframe\">\n",
       "  <thead>\n",
       "    <tr style=\"text-align: right;\">\n",
       "      <th></th>\n",
       "      <th>Date</th>\n",
       "      <th>Description</th>\n",
       "      <th>Size</th>\n",
       "      <th>Symbol</th>\n",
       "      <th>Expiration</th>\n",
       "      <th>Strike</th>\n",
       "      <th>Type</th>\n",
       "      <th>Trade Price</th>\n",
       "      <th>Profit/Loss</th>\n",
       "      <th>Stock Price</th>\n",
       "      <th>Adjusted Stock Price</th>\n",
       "      <th>CumSum</th>\n",
       "      <th>SPY Price</th>\n",
       "      <th>SPY_buy_hold</th>\n",
       "    </tr>\n",
       "  </thead>\n",
       "  <tbody>\n",
       "    <tr>\n",
       "      <th>1</th>\n",
       "      <td>2013-10-28</td>\n",
       "      <td>Close 2DaysAfterEarnings:Long Calls</td>\n",
       "      <td>-1</td>\n",
       "      <td>MSFT</td>\n",
       "      <td>21-Dec-13</td>\n",
       "      <td>34.0</td>\n",
       "      <td>Call</td>\n",
       "      <td>1.88</td>\n",
       "      <td>89.0</td>\n",
       "      <td>35.57</td>\n",
       "      <td>29.79</td>\n",
       "      <td>89.0</td>\n",
       "      <td>176.229996</td>\n",
       "      <td>0.00</td>\n",
       "    </tr>\n",
       "    <tr>\n",
       "      <th>3</th>\n",
       "      <td>2014-01-27</td>\n",
       "      <td>Close 2DaysAfterEarnings:Long Calls</td>\n",
       "      <td>-1</td>\n",
       "      <td>MSFT</td>\n",
       "      <td>22-Mar-14</td>\n",
       "      <td>37.0</td>\n",
       "      <td>Call</td>\n",
       "      <td>0.78</td>\n",
       "      <td>-38.0</td>\n",
       "      <td>36.03</td>\n",
       "      <td>30.40</td>\n",
       "      <td>51.0</td>\n",
       "      <td>178.009995</td>\n",
       "      <td>20.20</td>\n",
       "    </tr>\n",
       "    <tr>\n",
       "      <th>5</th>\n",
       "      <td>2014-04-28</td>\n",
       "      <td>Close 2DaysAfterEarnings:Long Calls</td>\n",
       "      <td>-1</td>\n",
       "      <td>MSFT</td>\n",
       "      <td>21-Jun-14</td>\n",
       "      <td>41.0</td>\n",
       "      <td>Call</td>\n",
       "      <td>1.02</td>\n",
       "      <td>1.0</td>\n",
       "      <td>40.87</td>\n",
       "      <td>34.75</td>\n",
       "      <td>52.0</td>\n",
       "      <td>186.880005</td>\n",
       "      <td>120.86</td>\n",
       "    </tr>\n",
       "    <tr>\n",
       "      <th>7</th>\n",
       "      <td>2014-07-24</td>\n",
       "      <td>Close 2DaysAfterEarnings:Long Calls</td>\n",
       "      <td>-1</td>\n",
       "      <td>MSFT</td>\n",
       "      <td>22-Aug-14</td>\n",
       "      <td>43.0</td>\n",
       "      <td>Call</td>\n",
       "      <td>1.72</td>\n",
       "      <td>102.0</td>\n",
       "      <td>44.40</td>\n",
       "      <td>38.01</td>\n",
       "      <td>154.0</td>\n",
       "      <td>198.649994</td>\n",
       "      <td>254.44</td>\n",
       "    </tr>\n",
       "    <tr>\n",
       "      <th>9</th>\n",
       "      <td>2014-10-27</td>\n",
       "      <td>Close 2DaysAfterEarnings:Long Calls</td>\n",
       "      <td>-1</td>\n",
       "      <td>MSFT</td>\n",
       "      <td>20-Dec-14</td>\n",
       "      <td>47.0</td>\n",
       "      <td>Call</td>\n",
       "      <td>0.64</td>\n",
       "      <td>-27.0</td>\n",
       "      <td>45.91</td>\n",
       "      <td>39.54</td>\n",
       "      <td>127.0</td>\n",
       "      <td>196.160004</td>\n",
       "      <td>226.18</td>\n",
       "    </tr>\n",
       "    <tr>\n",
       "      <th>11</th>\n",
       "      <td>2015-01-28</td>\n",
       "      <td>Close 2DaysAfterEarnings:Long Calls</td>\n",
       "      <td>-1</td>\n",
       "      <td>MSFT</td>\n",
       "      <td>20-Mar-15</td>\n",
       "      <td>48.0</td>\n",
       "      <td>Call</td>\n",
       "      <td>0.06</td>\n",
       "      <td>-101.0</td>\n",
       "      <td>41.19</td>\n",
       "      <td>35.70</td>\n",
       "      <td>26.0</td>\n",
       "      <td>200.139999</td>\n",
       "      <td>271.35</td>\n",
       "    </tr>\n",
       "    <tr>\n",
       "      <th>13</th>\n",
       "      <td>2015-04-27</td>\n",
       "      <td>Close 2DaysAfterEarnings:Long Calls</td>\n",
       "      <td>-1</td>\n",
       "      <td>MSFT</td>\n",
       "      <td>19-Jun-15</td>\n",
       "      <td>42.0</td>\n",
       "      <td>Call</td>\n",
       "      <td>5.92</td>\n",
       "      <td>472.0</td>\n",
       "      <td>48.03</td>\n",
       "      <td>41.93</td>\n",
       "      <td>498.0</td>\n",
       "      <td>210.770004</td>\n",
       "      <td>391.99</td>\n",
       "    </tr>\n",
       "    <tr>\n",
       "      <th>15</th>\n",
       "      <td>2015-07-23</td>\n",
       "      <td>Close 2DaysAfterEarnings:Long Calls</td>\n",
       "      <td>-1</td>\n",
       "      <td>MSFT</td>\n",
       "      <td>18-Sep-15</td>\n",
       "      <td>46.0</td>\n",
       "      <td>Call</td>\n",
       "      <td>1.27</td>\n",
       "      <td>24.0</td>\n",
       "      <td>46.11</td>\n",
       "      <td>40.52</td>\n",
       "      <td>522.0</td>\n",
       "      <td>210.179993</td>\n",
       "      <td>385.29</td>\n",
       "    </tr>\n",
       "    <tr>\n",
       "      <th>17</th>\n",
       "      <td>2015-10-26</td>\n",
       "      <td>Close 2DaysAfterEarnings:Long Calls</td>\n",
       "      <td>-1</td>\n",
       "      <td>MSFT</td>\n",
       "      <td>18-Dec-15</td>\n",
       "      <td>48.0</td>\n",
       "      <td>Call</td>\n",
       "      <td>6.35</td>\n",
       "      <td>506.0</td>\n",
       "      <td>54.25</td>\n",
       "      <td>47.98</td>\n",
       "      <td>1028.0</td>\n",
       "      <td>207.000000</td>\n",
       "      <td>349.20</td>\n",
       "    </tr>\n",
       "    <tr>\n",
       "      <th>19</th>\n",
       "      <td>2016-02-01</td>\n",
       "      <td>Close 2DaysAfterEarnings:Long Calls</td>\n",
       "      <td>-1</td>\n",
       "      <td>MSFT</td>\n",
       "      <td>18-Mar-16</td>\n",
       "      <td>55.0</td>\n",
       "      <td>Call</td>\n",
       "      <td>1.52</td>\n",
       "      <td>13.0</td>\n",
       "      <td>54.71</td>\n",
       "      <td>48.72</td>\n",
       "      <td>1041.0</td>\n",
       "      <td>193.649994</td>\n",
       "      <td>197.70</td>\n",
       "    </tr>\n",
       "    <tr>\n",
       "      <th>21</th>\n",
       "      <td>2016-04-25</td>\n",
       "      <td>Close 2DaysAfterEarnings:Long Calls</td>\n",
       "      <td>-1</td>\n",
       "      <td>MSFT</td>\n",
       "      <td>17-Jun-16</td>\n",
       "      <td>55.0</td>\n",
       "      <td>Call</td>\n",
       "      <td>0.34</td>\n",
       "      <td>-157.0</td>\n",
       "      <td>52.11</td>\n",
       "      <td>46.73</td>\n",
       "      <td>884.0</td>\n",
       "      <td>208.610001</td>\n",
       "      <td>367.47</td>\n",
       "    </tr>\n",
       "    <tr>\n",
       "      <th>23</th>\n",
       "      <td>2016-07-21</td>\n",
       "      <td>Close 2DaysAfterEarnings:Long Calls</td>\n",
       "      <td>-1</td>\n",
       "      <td>MSFT</td>\n",
       "      <td>16-Sep-16</td>\n",
       "      <td>52.5</td>\n",
       "      <td>Call</td>\n",
       "      <td>3.62</td>\n",
       "      <td>225.0</td>\n",
       "      <td>55.80</td>\n",
       "      <td>50.39</td>\n",
       "      <td>1109.0</td>\n",
       "      <td>216.270004</td>\n",
       "      <td>454.41</td>\n",
       "    </tr>\n",
       "    <tr>\n",
       "      <th>25</th>\n",
       "      <td>2016-10-24</td>\n",
       "      <td>Close 2DaysAfterEarnings:Long Calls</td>\n",
       "      <td>-1</td>\n",
       "      <td>MSFT</td>\n",
       "      <td>16-Dec-16</td>\n",
       "      <td>57.5</td>\n",
       "      <td>Call</td>\n",
       "      <td>3.75</td>\n",
       "      <td>191.0</td>\n",
       "      <td>61</td>\n",
       "      <td>55.43</td>\n",
       "      <td>1300.0</td>\n",
       "      <td>214.889999</td>\n",
       "      <td>438.74</td>\n",
       "    </tr>\n",
       "    <tr>\n",
       "      <th>27</th>\n",
       "      <td>2017-01-30</td>\n",
       "      <td>Close 2DaysAfterEarnings:Long Calls</td>\n",
       "      <td>-1</td>\n",
       "      <td>MSFT</td>\n",
       "      <td>17-Mar-17</td>\n",
       "      <td>65.0</td>\n",
       "      <td>Call</td>\n",
       "      <td>1.32</td>\n",
       "      <td>19.0</td>\n",
       "      <td>65.13</td>\n",
       "      <td>59.58</td>\n",
       "      <td>1319.0</td>\n",
       "      <td>227.550003</td>\n",
       "      <td>582.42</td>\n",
       "    </tr>\n",
       "    <tr>\n",
       "      <th>29</th>\n",
       "      <td>2017-05-01</td>\n",
       "      <td>Close 2DaysAfterEarnings:Long Calls</td>\n",
       "      <td>-1</td>\n",
       "      <td>MSFT</td>\n",
       "      <td>16-Jun-17</td>\n",
       "      <td>67.5</td>\n",
       "      <td>Call</td>\n",
       "      <td>2.43</td>\n",
       "      <td>138.0</td>\n",
       "      <td>69.41</td>\n",
       "      <td>63.88</td>\n",
       "      <td>1457.0</td>\n",
       "      <td>238.679993</td>\n",
       "      <td>708.73</td>\n",
       "    </tr>\n",
       "    <tr>\n",
       "      <th>31</th>\n",
       "      <td>2017-07-24</td>\n",
       "      <td>Close 2DaysAfterEarnings:Long Calls</td>\n",
       "      <td>-1</td>\n",
       "      <td>MSFT</td>\n",
       "      <td>15-Sep-17</td>\n",
       "      <td>70.0</td>\n",
       "      <td>Call</td>\n",
       "      <td>4.20</td>\n",
       "      <td>213.0</td>\n",
       "      <td>73.60</td>\n",
       "      <td>68.12</td>\n",
       "      <td>1670.0</td>\n",
       "      <td>246.820007</td>\n",
       "      <td>801.11</td>\n",
       "    </tr>\n",
       "    <tr>\n",
       "      <th>33</th>\n",
       "      <td>2017-10-30</td>\n",
       "      <td>Close 2DaysAfterEarnings:Long Calls</td>\n",
       "      <td>-1</td>\n",
       "      <td>MSFT</td>\n",
       "      <td>15-Dec-17</td>\n",
       "      <td>77.5</td>\n",
       "      <td>Call</td>\n",
       "      <td>6.62</td>\n",
       "      <td>497.0</td>\n",
       "      <td>83.89</td>\n",
       "      <td>78.05</td>\n",
       "      <td>2167.0</td>\n",
       "      <td>256.750000</td>\n",
       "      <td>913.81</td>\n",
       "    </tr>\n",
       "    <tr>\n",
       "      <th>35</th>\n",
       "      <td>2018-02-02</td>\n",
       "      <td>Close 2DaysAfterEarnings:Long Calls</td>\n",
       "      <td>-1</td>\n",
       "      <td>MSFT</td>\n",
       "      <td>16-Mar-18</td>\n",
       "      <td>90.0</td>\n",
       "      <td>Call</td>\n",
       "      <td>3.72</td>\n",
       "      <td>159.0</td>\n",
       "      <td>91.78</td>\n",
       "      <td>85.83</td>\n",
       "      <td>2326.0</td>\n",
       "      <td>275.450012</td>\n",
       "      <td>1126.03</td>\n",
       "    </tr>\n",
       "    <tr>\n",
       "      <th>37</th>\n",
       "      <td>2018-04-30</td>\n",
       "      <td>Close 2DaysAfterEarnings:Long Calls</td>\n",
       "      <td>-1</td>\n",
       "      <td>MSFT</td>\n",
       "      <td>15-Jun-18</td>\n",
       "      <td>95.0</td>\n",
       "      <td>Call</td>\n",
       "      <td>2.21</td>\n",
       "      <td>-100.0</td>\n",
       "      <td>93.52</td>\n",
       "      <td>87.86</td>\n",
       "      <td>2226.0</td>\n",
       "      <td>264.510010</td>\n",
       "      <td>1001.87</td>\n",
       "    </tr>\n",
       "    <tr>\n",
       "      <th>39</th>\n",
       "      <td>2018-07-23</td>\n",
       "      <td>Close 2DaysAfterEarnings:Long Calls</td>\n",
       "      <td>-1</td>\n",
       "      <td>MSFT</td>\n",
       "      <td>17-Aug-18</td>\n",
       "      <td>100.0</td>\n",
       "      <td>Call</td>\n",
       "      <td>8.32</td>\n",
       "      <td>535.0</td>\n",
       "      <td>107.97</td>\n",
       "      <td>101.87</td>\n",
       "      <td>2761.0</td>\n",
       "      <td>280.200012</td>\n",
       "      <td>1179.94</td>\n",
       "    </tr>\n",
       "    <tr>\n",
       "      <th>41</th>\n",
       "      <td>2018-10-26</td>\n",
       "      <td>Close 2DaysAfterEarnings:Long Calls</td>\n",
       "      <td>-1</td>\n",
       "      <td>MSFT</td>\n",
       "      <td>21-Dec-18</td>\n",
       "      <td>115.0</td>\n",
       "      <td>Call</td>\n",
       "      <td>1.44</td>\n",
       "      <td>-139.0</td>\n",
       "      <td>106.96</td>\n",
       "      <td>101.31</td>\n",
       "      <td>2622.0</td>\n",
       "      <td>265.329987</td>\n",
       "      <td>1011.18</td>\n",
       "    </tr>\n",
       "    <tr>\n",
       "      <th>43</th>\n",
       "      <td>2019-02-01</td>\n",
       "      <td>Close 2DaysAfterEarnings:Long Calls</td>\n",
       "      <td>-1</td>\n",
       "      <td>MSFT</td>\n",
       "      <td>15-Mar-19</td>\n",
       "      <td>105.0</td>\n",
       "      <td>Call</td>\n",
       "      <td>1.92</td>\n",
       "      <td>-141.0</td>\n",
       "      <td>102.78</td>\n",
       "      <td>97.78</td>\n",
       "      <td>2481.0</td>\n",
       "      <td>270.059998</td>\n",
       "      <td>1064.86</td>\n",
       "    </tr>\n",
       "    <tr>\n",
       "      <th>45</th>\n",
       "      <td>2019-04-26</td>\n",
       "      <td>Close 2DaysAfterEarnings:Long Calls</td>\n",
       "      <td>-1</td>\n",
       "      <td>MSFT</td>\n",
       "      <td>21-Jun-19</td>\n",
       "      <td>125.0</td>\n",
       "      <td>Call</td>\n",
       "      <td>6.45</td>\n",
       "      <td>425.0</td>\n",
       "      <td>129.89</td>\n",
       "      <td>124.10</td>\n",
       "      <td>2906.0</td>\n",
       "      <td>293.410004</td>\n",
       "      <td>1329.85</td>\n",
       "    </tr>\n",
       "    <tr>\n",
       "      <th>47</th>\n",
       "      <td>2019-07-22</td>\n",
       "      <td>Close 2DaysAfterEarnings:Long Calls</td>\n",
       "      <td>-1</td>\n",
       "      <td>MSFT</td>\n",
       "      <td>16-Aug-19</td>\n",
       "      <td>140.0</td>\n",
       "      <td>Call</td>\n",
       "      <td>1.77</td>\n",
       "      <td>-66.0</td>\n",
       "      <td>138.43</td>\n",
       "      <td>132.74</td>\n",
       "      <td>2840.0</td>\n",
       "      <td>297.899994</td>\n",
       "      <td>1380.81</td>\n",
       "    </tr>\n",
       "    <tr>\n",
       "      <th>49</th>\n",
       "      <td>2019-10-25</td>\n",
       "      <td>Close 2DaysAfterEarnings:Long Calls</td>\n",
       "      <td>-1</td>\n",
       "      <td>MSFT</td>\n",
       "      <td>20-Dec-19</td>\n",
       "      <td>140.0</td>\n",
       "      <td>Call</td>\n",
       "      <td>4.18</td>\n",
       "      <td>-43.0</td>\n",
       "      <td>140.73</td>\n",
       "      <td>135.41</td>\n",
       "      <td>2797.0</td>\n",
       "      <td>301.600006</td>\n",
       "      <td>1422.80</td>\n",
       "    </tr>\n",
       "    <tr>\n",
       "      <th>51</th>\n",
       "      <td>2020-01-31</td>\n",
       "      <td>Close 2DaysAfterEarnings:Long Calls</td>\n",
       "      <td>-1</td>\n",
       "      <td>MSFT</td>\n",
       "      <td>20-Mar-20</td>\n",
       "      <td>165.0</td>\n",
       "      <td>Call</td>\n",
       "      <td>8.88</td>\n",
       "      <td>434.0</td>\n",
       "      <td>170.23</td>\n",
       "      <td>164.35</td>\n",
       "      <td>3231.0</td>\n",
       "      <td>321.730011</td>\n",
       "      <td>1651.25</td>\n",
       "    </tr>\n",
       "    <tr>\n",
       "      <th>53</th>\n",
       "      <td>2020-05-01</td>\n",
       "      <td>Close 2DaysAfterEarnings:Long Calls</td>\n",
       "      <td>-1</td>\n",
       "      <td>MSFT</td>\n",
       "      <td>19-Jun-20</td>\n",
       "      <td>175.0</td>\n",
       "      <td>Call</td>\n",
       "      <td>8.50</td>\n",
       "      <td>274.0</td>\n",
       "      <td>174.57</td>\n",
       "      <td>169</td>\n",
       "      <td>3505.0</td>\n",
       "      <td>282.790009</td>\n",
       "      <td>1209.33</td>\n",
       "    </tr>\n",
       "    <tr>\n",
       "      <th>55</th>\n",
       "      <td>2020-07-24</td>\n",
       "      <td>Close 2DaysAfterEarnings:Long Calls</td>\n",
       "      <td>-1</td>\n",
       "      <td>MSFT</td>\n",
       "      <td>18-Sep-20</td>\n",
       "      <td>220.0</td>\n",
       "      <td>Call</td>\n",
       "      <td>3.30</td>\n",
       "      <td>-353.0</td>\n",
       "      <td>201.30</td>\n",
       "      <td>195.42</td>\n",
       "      <td>3152.0</td>\n",
       "      <td>320.880005</td>\n",
       "      <td>1641.60</td>\n",
       "    </tr>\n",
       "    <tr>\n",
       "      <th>57</th>\n",
       "      <td>2020-10-29</td>\n",
       "      <td>Close 2DaysAfterEarnings:Long Calls</td>\n",
       "      <td>-1</td>\n",
       "      <td>MSFT</td>\n",
       "      <td>18-Dec-20</td>\n",
       "      <td>230.0</td>\n",
       "      <td>Call</td>\n",
       "      <td>2.51</td>\n",
       "      <td>-610.0</td>\n",
       "      <td>204.72</td>\n",
       "      <td>199.22</td>\n",
       "      <td>2542.0</td>\n",
       "      <td>329.980011</td>\n",
       "      <td>1744.88</td>\n",
       "    </tr>\n",
       "    <tr>\n",
       "      <th>59</th>\n",
       "      <td>2021-01-28</td>\n",
       "      <td>Close 2DaysAfterEarnings:Long Calls</td>\n",
       "      <td>-1</td>\n",
       "      <td>MSFT</td>\n",
       "      <td>19-Mar-21</td>\n",
       "      <td>225.0</td>\n",
       "      <td>Call</td>\n",
       "      <td>19</td>\n",
       "      <td>1131.0</td>\n",
       "      <td>238.93</td>\n",
       "      <td>233.13</td>\n",
       "      <td>3673.0</td>\n",
       "      <td>377.630005</td>\n",
       "      <td>2285.65</td>\n",
       "    </tr>\n",
       "    <tr>\n",
       "      <th>61</th>\n",
       "      <td>2021-04-29</td>\n",
       "      <td>Close 2DaysAfterEarnings:Long Calls</td>\n",
       "      <td>-1</td>\n",
       "      <td>MSFT</td>\n",
       "      <td>18-Jun-21</td>\n",
       "      <td>265.0</td>\n",
       "      <td>Call</td>\n",
       "      <td>3.05</td>\n",
       "      <td>-318.0</td>\n",
       "      <td>252.51</td>\n",
       "      <td>246.94</td>\n",
       "      <td>3355.0</td>\n",
       "      <td>420.059998</td>\n",
       "      <td>2767.18</td>\n",
       "    </tr>\n",
       "    <tr>\n",
       "      <th>63</th>\n",
       "      <td>2021-07-29</td>\n",
       "      <td>Close 2DaysAfterEarnings:Long Calls</td>\n",
       "      <td>-1</td>\n",
       "      <td>MSFT</td>\n",
       "      <td>17-Sep-21</td>\n",
       "      <td>285.0</td>\n",
       "      <td>Call</td>\n",
       "      <td>8.35</td>\n",
       "      <td>227.0</td>\n",
       "      <td>286.50</td>\n",
       "      <td>280.83</td>\n",
       "      <td>3582.0</td>\n",
       "      <td>440.649994</td>\n",
       "      <td>3000.85</td>\n",
       "    </tr>\n",
       "    <tr>\n",
       "      <th>65</th>\n",
       "      <td>2021-10-28</td>\n",
       "      <td>Close 2DaysAfterEarnings:Long Calls</td>\n",
       "      <td>-1</td>\n",
       "      <td>MSFT</td>\n",
       "      <td>17-Dec-21</td>\n",
       "      <td>305.0</td>\n",
       "      <td>Call</td>\n",
       "      <td>22.60</td>\n",
       "      <td>1557.0</td>\n",
       "      <td>324.35</td>\n",
       "      <td>318.54</td>\n",
       "      <td>5139.0</td>\n",
       "      <td>458.320007</td>\n",
       "      <td>3201.38</td>\n",
       "    </tr>\n",
       "    <tr>\n",
       "      <th>67</th>\n",
       "      <td>2022-01-27</td>\n",
       "      <td>Close 2DaysAfterEarnings:Long Calls</td>\n",
       "      <td>-1</td>\n",
       "      <td>MSFT</td>\n",
       "      <td>18-Mar-22</td>\n",
       "      <td>325.0</td>\n",
       "      <td>Call</td>\n",
       "      <td>5.12</td>\n",
       "      <td>-539.0</td>\n",
       "      <td>299.84</td>\n",
       "      <td>295.01</td>\n",
       "      <td>4600.0</td>\n",
       "      <td>431.239990</td>\n",
       "      <td>2894.06</td>\n",
       "    </tr>\n",
       "    <tr>\n",
       "      <th>69</th>\n",
       "      <td>2022-04-28</td>\n",
       "      <td>Close 2DaysAfterEarnings:Long Calls</td>\n",
       "      <td>-1</td>\n",
       "      <td>MSFT</td>\n",
       "      <td>17-Jun-22</td>\n",
       "      <td>295.0</td>\n",
       "      <td>Call</td>\n",
       "      <td>10.32</td>\n",
       "      <td>-31.0</td>\n",
       "      <td>289.63</td>\n",
       "      <td>285.55</td>\n",
       "      <td>4569.0</td>\n",
       "      <td>427.809998</td>\n",
       "      <td>2855.13</td>\n",
       "    </tr>\n",
       "    <tr>\n",
       "      <th>71</th>\n",
       "      <td>2022-07-28</td>\n",
       "      <td>Close 2DaysAfterEarnings:Long Calls</td>\n",
       "      <td>-1</td>\n",
       "      <td>MSFT</td>\n",
       "      <td>16-Sep-22</td>\n",
       "      <td>275.0</td>\n",
       "      <td>Call</td>\n",
       "      <td>11.73</td>\n",
       "      <td>222.0</td>\n",
       "      <td>276.41</td>\n",
       "      <td>273.18</td>\n",
       "      <td>4791.0</td>\n",
       "      <td>406.070007</td>\n",
       "      <td>2608.41</td>\n",
       "    </tr>\n",
       "    <tr>\n",
       "      <th>73</th>\n",
       "      <td>2022-10-27</td>\n",
       "      <td>Close 2DaysAfterEarnings:Long Calls</td>\n",
       "      <td>-1</td>\n",
       "      <td>MSFT</td>\n",
       "      <td>16-Dec-22</td>\n",
       "      <td>240.0</td>\n",
       "      <td>Call</td>\n",
       "      <td>5.75</td>\n",
       "      <td>-416.0</td>\n",
       "      <td>226.75</td>\n",
       "      <td>224.58</td>\n",
       "      <td>4375.0</td>\n",
       "      <td>379.980011</td>\n",
       "      <td>2312.32</td>\n",
       "    </tr>\n",
       "    <tr>\n",
       "      <th>75</th>\n",
       "      <td>2023-01-26</td>\n",
       "      <td>Close 2DaysAfterEarnings:Long Calls</td>\n",
       "      <td>-1</td>\n",
       "      <td>MSFT</td>\n",
       "      <td>17-Mar-23</td>\n",
       "      <td>240.0</td>\n",
       "      <td>Call</td>\n",
       "      <td>14.25</td>\n",
       "      <td>714.0</td>\n",
       "      <td>248</td>\n",
       "      <td>246.32</td>\n",
       "      <td>5089.0</td>\n",
       "      <td>404.750000</td>\n",
       "      <td>2593.43</td>\n",
       "    </tr>\n",
       "    <tr>\n",
       "      <th>77</th>\n",
       "      <td>2023-04-27</td>\n",
       "      <td>Close 2DaysAfterEarnings:Long Calls</td>\n",
       "      <td>-1</td>\n",
       "      <td>MSFT</td>\n",
       "      <td>16-Jun-23</td>\n",
       "      <td>300.0</td>\n",
       "      <td>Call</td>\n",
       "      <td>14</td>\n",
       "      <td>444.0</td>\n",
       "      <td>304.83</td>\n",
       "      <td>303.53</td>\n",
       "      <td>5533.0</td>\n",
       "      <td>412.410004</td>\n",
       "      <td>2680.36</td>\n",
       "    </tr>\n",
       "    <tr>\n",
       "      <th>79</th>\n",
       "      <td>2023-07-27</td>\n",
       "      <td>Close 2DaysAfterEarnings:Long Calls</td>\n",
       "      <td>-1</td>\n",
       "      <td>MSFT</td>\n",
       "      <td>15-Sep-23</td>\n",
       "      <td>345.0</td>\n",
       "      <td>Call</td>\n",
       "      <td>6.88</td>\n",
       "      <td>-298.0</td>\n",
       "      <td>330.72</td>\n",
       "      <td>330.02</td>\n",
       "      <td>5235.0</td>\n",
       "      <td>NaN</td>\n",
       "      <td>NaN</td>\n",
       "    </tr>\n",
       "  </tbody>\n",
       "</table>\n",
       "</div>"
      ],
      "text/plain": [
       "         Date                          Description  Size Symbol Expiration  \\\n",
       "1  2013-10-28  Close 2DaysAfterEarnings:Long Calls    -1   MSFT  21-Dec-13   \n",
       "3  2014-01-27  Close 2DaysAfterEarnings:Long Calls    -1   MSFT  22-Mar-14   \n",
       "5  2014-04-28  Close 2DaysAfterEarnings:Long Calls    -1   MSFT  21-Jun-14   \n",
       "7  2014-07-24  Close 2DaysAfterEarnings:Long Calls    -1   MSFT  22-Aug-14   \n",
       "9  2014-10-27  Close 2DaysAfterEarnings:Long Calls    -1   MSFT  20-Dec-14   \n",
       "11 2015-01-28  Close 2DaysAfterEarnings:Long Calls    -1   MSFT  20-Mar-15   \n",
       "13 2015-04-27  Close 2DaysAfterEarnings:Long Calls    -1   MSFT  19-Jun-15   \n",
       "15 2015-07-23  Close 2DaysAfterEarnings:Long Calls    -1   MSFT  18-Sep-15   \n",
       "17 2015-10-26  Close 2DaysAfterEarnings:Long Calls    -1   MSFT  18-Dec-15   \n",
       "19 2016-02-01  Close 2DaysAfterEarnings:Long Calls    -1   MSFT  18-Mar-16   \n",
       "21 2016-04-25  Close 2DaysAfterEarnings:Long Calls    -1   MSFT  17-Jun-16   \n",
       "23 2016-07-21  Close 2DaysAfterEarnings:Long Calls    -1   MSFT  16-Sep-16   \n",
       "25 2016-10-24  Close 2DaysAfterEarnings:Long Calls    -1   MSFT  16-Dec-16   \n",
       "27 2017-01-30  Close 2DaysAfterEarnings:Long Calls    -1   MSFT  17-Mar-17   \n",
       "29 2017-05-01  Close 2DaysAfterEarnings:Long Calls    -1   MSFT  16-Jun-17   \n",
       "31 2017-07-24  Close 2DaysAfterEarnings:Long Calls    -1   MSFT  15-Sep-17   \n",
       "33 2017-10-30  Close 2DaysAfterEarnings:Long Calls    -1   MSFT  15-Dec-17   \n",
       "35 2018-02-02  Close 2DaysAfterEarnings:Long Calls    -1   MSFT  16-Mar-18   \n",
       "37 2018-04-30  Close 2DaysAfterEarnings:Long Calls    -1   MSFT  15-Jun-18   \n",
       "39 2018-07-23  Close 2DaysAfterEarnings:Long Calls    -1   MSFT  17-Aug-18   \n",
       "41 2018-10-26  Close 2DaysAfterEarnings:Long Calls    -1   MSFT  21-Dec-18   \n",
       "43 2019-02-01  Close 2DaysAfterEarnings:Long Calls    -1   MSFT  15-Mar-19   \n",
       "45 2019-04-26  Close 2DaysAfterEarnings:Long Calls    -1   MSFT  21-Jun-19   \n",
       "47 2019-07-22  Close 2DaysAfterEarnings:Long Calls    -1   MSFT  16-Aug-19   \n",
       "49 2019-10-25  Close 2DaysAfterEarnings:Long Calls    -1   MSFT  20-Dec-19   \n",
       "51 2020-01-31  Close 2DaysAfterEarnings:Long Calls    -1   MSFT  20-Mar-20   \n",
       "53 2020-05-01  Close 2DaysAfterEarnings:Long Calls    -1   MSFT  19-Jun-20   \n",
       "55 2020-07-24  Close 2DaysAfterEarnings:Long Calls    -1   MSFT  18-Sep-20   \n",
       "57 2020-10-29  Close 2DaysAfterEarnings:Long Calls    -1   MSFT  18-Dec-20   \n",
       "59 2021-01-28  Close 2DaysAfterEarnings:Long Calls    -1   MSFT  19-Mar-21   \n",
       "61 2021-04-29  Close 2DaysAfterEarnings:Long Calls    -1   MSFT  18-Jun-21   \n",
       "63 2021-07-29  Close 2DaysAfterEarnings:Long Calls    -1   MSFT  17-Sep-21   \n",
       "65 2021-10-28  Close 2DaysAfterEarnings:Long Calls    -1   MSFT  17-Dec-21   \n",
       "67 2022-01-27  Close 2DaysAfterEarnings:Long Calls    -1   MSFT  18-Mar-22   \n",
       "69 2022-04-28  Close 2DaysAfterEarnings:Long Calls    -1   MSFT  17-Jun-22   \n",
       "71 2022-07-28  Close 2DaysAfterEarnings:Long Calls    -1   MSFT  16-Sep-22   \n",
       "73 2022-10-27  Close 2DaysAfterEarnings:Long Calls    -1   MSFT  16-Dec-22   \n",
       "75 2023-01-26  Close 2DaysAfterEarnings:Long Calls    -1   MSFT  17-Mar-23   \n",
       "77 2023-04-27  Close 2DaysAfterEarnings:Long Calls    -1   MSFT  16-Jun-23   \n",
       "79 2023-07-27  Close 2DaysAfterEarnings:Long Calls    -1   MSFT  15-Sep-23   \n",
       "\n",
       "    Strike  Type Trade Price  Profit/Loss Stock Price Adjusted Stock Price  \\\n",
       "1     34.0  Call        1.88         89.0       35.57                29.79   \n",
       "3     37.0  Call        0.78        -38.0       36.03                30.40   \n",
       "5     41.0  Call        1.02          1.0       40.87                34.75   \n",
       "7     43.0  Call        1.72        102.0       44.40                38.01   \n",
       "9     47.0  Call        0.64        -27.0       45.91                39.54   \n",
       "11    48.0  Call        0.06       -101.0       41.19                35.70   \n",
       "13    42.0  Call        5.92        472.0       48.03                41.93   \n",
       "15    46.0  Call        1.27         24.0       46.11                40.52   \n",
       "17    48.0  Call        6.35        506.0       54.25                47.98   \n",
       "19    55.0  Call        1.52         13.0       54.71                48.72   \n",
       "21    55.0  Call        0.34       -157.0       52.11                46.73   \n",
       "23    52.5  Call        3.62        225.0       55.80                50.39   \n",
       "25    57.5  Call        3.75        191.0          61                55.43   \n",
       "27    65.0  Call        1.32         19.0       65.13                59.58   \n",
       "29    67.5  Call        2.43        138.0       69.41                63.88   \n",
       "31    70.0  Call        4.20        213.0       73.60                68.12   \n",
       "33    77.5  Call        6.62        497.0       83.89                78.05   \n",
       "35    90.0  Call        3.72        159.0       91.78                85.83   \n",
       "37    95.0  Call        2.21       -100.0       93.52                87.86   \n",
       "39   100.0  Call        8.32        535.0      107.97               101.87   \n",
       "41   115.0  Call        1.44       -139.0      106.96               101.31   \n",
       "43   105.0  Call        1.92       -141.0      102.78                97.78   \n",
       "45   125.0  Call        6.45        425.0      129.89               124.10   \n",
       "47   140.0  Call        1.77        -66.0      138.43               132.74   \n",
       "49   140.0  Call        4.18        -43.0      140.73               135.41   \n",
       "51   165.0  Call        8.88        434.0      170.23               164.35   \n",
       "53   175.0  Call        8.50        274.0      174.57                  169   \n",
       "55   220.0  Call        3.30       -353.0      201.30               195.42   \n",
       "57   230.0  Call        2.51       -610.0      204.72               199.22   \n",
       "59   225.0  Call          19       1131.0      238.93               233.13   \n",
       "61   265.0  Call        3.05       -318.0      252.51               246.94   \n",
       "63   285.0  Call        8.35        227.0      286.50               280.83   \n",
       "65   305.0  Call       22.60       1557.0      324.35               318.54   \n",
       "67   325.0  Call        5.12       -539.0      299.84               295.01   \n",
       "69   295.0  Call       10.32        -31.0      289.63               285.55   \n",
       "71   275.0  Call       11.73        222.0      276.41               273.18   \n",
       "73   240.0  Call        5.75       -416.0      226.75               224.58   \n",
       "75   240.0  Call       14.25        714.0         248               246.32   \n",
       "77   300.0  Call          14        444.0      304.83               303.53   \n",
       "79   345.0  Call        6.88       -298.0      330.72               330.02   \n",
       "\n",
       "    CumSum   SPY Price  SPY_buy_hold  \n",
       "1     89.0  176.229996          0.00  \n",
       "3     51.0  178.009995         20.20  \n",
       "5     52.0  186.880005        120.86  \n",
       "7    154.0  198.649994        254.44  \n",
       "9    127.0  196.160004        226.18  \n",
       "11    26.0  200.139999        271.35  \n",
       "13   498.0  210.770004        391.99  \n",
       "15   522.0  210.179993        385.29  \n",
       "17  1028.0  207.000000        349.20  \n",
       "19  1041.0  193.649994        197.70  \n",
       "21   884.0  208.610001        367.47  \n",
       "23  1109.0  216.270004        454.41  \n",
       "25  1300.0  214.889999        438.74  \n",
       "27  1319.0  227.550003        582.42  \n",
       "29  1457.0  238.679993        708.73  \n",
       "31  1670.0  246.820007        801.11  \n",
       "33  2167.0  256.750000        913.81  \n",
       "35  2326.0  275.450012       1126.03  \n",
       "37  2226.0  264.510010       1001.87  \n",
       "39  2761.0  280.200012       1179.94  \n",
       "41  2622.0  265.329987       1011.18  \n",
       "43  2481.0  270.059998       1064.86  \n",
       "45  2906.0  293.410004       1329.85  \n",
       "47  2840.0  297.899994       1380.81  \n",
       "49  2797.0  301.600006       1422.80  \n",
       "51  3231.0  321.730011       1651.25  \n",
       "53  3505.0  282.790009       1209.33  \n",
       "55  3152.0  320.880005       1641.60  \n",
       "57  2542.0  329.980011       1744.88  \n",
       "59  3673.0  377.630005       2285.65  \n",
       "61  3355.0  420.059998       2767.18  \n",
       "63  3582.0  440.649994       3000.85  \n",
       "65  5139.0  458.320007       3201.38  \n",
       "67  4600.0  431.239990       2894.06  \n",
       "69  4569.0  427.809998       2855.13  \n",
       "71  4791.0  406.070007       2608.41  \n",
       "73  4375.0  379.980011       2312.32  \n",
       "75  5089.0  404.750000       2593.43  \n",
       "77  5533.0  412.410004       2680.36  \n",
       "79  5235.0         NaN           NaN  "
      ]
     },
     "execution_count": 127,
     "metadata": {},
     "output_type": "execute_result"
    }
   ],
   "source": [
    "df_chart_comp\n"
   ]
  },
  {
   "cell_type": "code",
   "execution_count": 134,
   "metadata": {},
   "outputs": [],
   "source": [
    "df_chart_comp.to_excel('BuyBeforeEarnings\\output\\BBE_analysis.xlsx')"
   ]
  },
  {
   "cell_type": "code",
   "execution_count": null,
   "metadata": {},
   "outputs": [],
   "source": []
  },
  {
   "cell_type": "code",
   "execution_count": 131,
   "metadata": {},
   "outputs": [
    {
     "data": {
      "application/vnd.plotly.v1+json": {
       "config": {
        "plotlyServerURL": "https://plot.ly"
       },
       "data": [
        {
         "hovertemplate": "Legend=CumSum<br>Date=%{x}<br>Value=%{y}<extra></extra>",
         "legendgroup": "CumSum",
         "line": {
          "color": "#636efa",
          "dash": "solid"
         },
         "marker": {
          "symbol": "circle"
         },
         "mode": "lines",
         "name": "CumSum",
         "orientation": "v",
         "showlegend": true,
         "type": "scatter",
         "x": [
          "2013-10-28T00:00:00",
          "2014-01-27T00:00:00",
          "2014-04-28T00:00:00",
          "2014-07-24T00:00:00",
          "2014-10-27T00:00:00",
          "2015-01-28T00:00:00",
          "2015-04-27T00:00:00",
          "2015-07-23T00:00:00",
          "2015-10-26T00:00:00",
          "2016-02-01T00:00:00",
          "2016-04-25T00:00:00",
          "2016-07-21T00:00:00",
          "2016-10-24T00:00:00",
          "2017-01-30T00:00:00",
          "2017-05-01T00:00:00",
          "2017-07-24T00:00:00",
          "2017-10-30T00:00:00",
          "2018-02-02T00:00:00",
          "2018-04-30T00:00:00",
          "2018-07-23T00:00:00",
          "2018-10-26T00:00:00",
          "2019-02-01T00:00:00",
          "2019-04-26T00:00:00",
          "2019-07-22T00:00:00",
          "2019-10-25T00:00:00",
          "2020-01-31T00:00:00",
          "2020-05-01T00:00:00",
          "2020-07-24T00:00:00",
          "2020-10-29T00:00:00",
          "2021-01-28T00:00:00",
          "2021-04-29T00:00:00",
          "2021-07-29T00:00:00",
          "2021-10-28T00:00:00",
          "2022-01-27T00:00:00",
          "2022-04-28T00:00:00",
          "2022-07-28T00:00:00",
          "2022-10-27T00:00:00",
          "2023-01-26T00:00:00",
          "2023-04-27T00:00:00",
          "2023-07-27T00:00:00"
         ],
         "xaxis": "x",
         "y": [
          89,
          51,
          52,
          154,
          127,
          26,
          498,
          522,
          1028,
          1041,
          884,
          1109,
          1300,
          1319,
          1457,
          1670,
          2167,
          2326,
          2226,
          2761,
          2622,
          2481,
          2906,
          2840,
          2797,
          3231,
          3505,
          3152,
          2542,
          3673,
          3355,
          3582,
          5139,
          4600,
          4569,
          4791,
          4375,
          5089,
          5533,
          5235
         ],
         "yaxis": "y"
        },
        {
         "hovertemplate": "Legend=SPY_buy_hold<br>Date=%{x}<br>Value=%{y}<extra></extra>",
         "legendgroup": "SPY_buy_hold",
         "line": {
          "color": "#EF553B",
          "dash": "solid"
         },
         "marker": {
          "symbol": "circle"
         },
         "mode": "lines",
         "name": "SPY_buy_hold",
         "orientation": "v",
         "showlegend": true,
         "type": "scatter",
         "x": [
          "2013-10-28T00:00:00",
          "2014-01-27T00:00:00",
          "2014-04-28T00:00:00",
          "2014-07-24T00:00:00",
          "2014-10-27T00:00:00",
          "2015-01-28T00:00:00",
          "2015-04-27T00:00:00",
          "2015-07-23T00:00:00",
          "2015-10-26T00:00:00",
          "2016-02-01T00:00:00",
          "2016-04-25T00:00:00",
          "2016-07-21T00:00:00",
          "2016-10-24T00:00:00",
          "2017-01-30T00:00:00",
          "2017-05-01T00:00:00",
          "2017-07-24T00:00:00",
          "2017-10-30T00:00:00",
          "2018-02-02T00:00:00",
          "2018-04-30T00:00:00",
          "2018-07-23T00:00:00",
          "2018-10-26T00:00:00",
          "2019-02-01T00:00:00",
          "2019-04-26T00:00:00",
          "2019-07-22T00:00:00",
          "2019-10-25T00:00:00",
          "2020-01-31T00:00:00",
          "2020-05-01T00:00:00",
          "2020-07-24T00:00:00",
          "2020-10-29T00:00:00",
          "2021-01-28T00:00:00",
          "2021-04-29T00:00:00",
          "2021-07-29T00:00:00",
          "2021-10-28T00:00:00",
          "2022-01-27T00:00:00",
          "2022-04-28T00:00:00",
          "2022-07-28T00:00:00",
          "2022-10-27T00:00:00",
          "2023-01-26T00:00:00",
          "2023-04-27T00:00:00",
          "2023-07-27T00:00:00"
         ],
         "xaxis": "x",
         "y": [
          0,
          20.2,
          120.86,
          254.44,
          226.18,
          271.35,
          391.99,
          385.29,
          349.2,
          197.7,
          367.47,
          454.41,
          438.74,
          582.42,
          708.73,
          801.11,
          913.81,
          1126.03,
          1001.87,
          1179.94,
          1011.18,
          1064.86,
          1329.85,
          1380.81,
          1422.8,
          1651.25,
          1209.33,
          1641.6,
          1744.88,
          2285.65,
          2767.18,
          3000.85,
          3201.38,
          2894.06,
          2855.13,
          2608.41,
          2312.32,
          2593.43,
          2680.36,
          null
         ],
         "yaxis": "y"
        }
       ],
       "layout": {
        "legend": {
         "title": {
          "text": "Legend"
         },
         "tracegroupgap": 0
        },
        "template": {
         "data": {
          "bar": [
           {
            "error_x": {
             "color": "#2a3f5f"
            },
            "error_y": {
             "color": "#2a3f5f"
            },
            "marker": {
             "line": {
              "color": "#E5ECF6",
              "width": 0.5
             },
             "pattern": {
              "fillmode": "overlay",
              "size": 10,
              "solidity": 0.2
             }
            },
            "type": "bar"
           }
          ],
          "barpolar": [
           {
            "marker": {
             "line": {
              "color": "#E5ECF6",
              "width": 0.5
             },
             "pattern": {
              "fillmode": "overlay",
              "size": 10,
              "solidity": 0.2
             }
            },
            "type": "barpolar"
           }
          ],
          "carpet": [
           {
            "aaxis": {
             "endlinecolor": "#2a3f5f",
             "gridcolor": "white",
             "linecolor": "white",
             "minorgridcolor": "white",
             "startlinecolor": "#2a3f5f"
            },
            "baxis": {
             "endlinecolor": "#2a3f5f",
             "gridcolor": "white",
             "linecolor": "white",
             "minorgridcolor": "white",
             "startlinecolor": "#2a3f5f"
            },
            "type": "carpet"
           }
          ],
          "choropleth": [
           {
            "colorbar": {
             "outlinewidth": 0,
             "ticks": ""
            },
            "type": "choropleth"
           }
          ],
          "contour": [
           {
            "colorbar": {
             "outlinewidth": 0,
             "ticks": ""
            },
            "colorscale": [
             [
              0,
              "#0d0887"
             ],
             [
              0.1111111111111111,
              "#46039f"
             ],
             [
              0.2222222222222222,
              "#7201a8"
             ],
             [
              0.3333333333333333,
              "#9c179e"
             ],
             [
              0.4444444444444444,
              "#bd3786"
             ],
             [
              0.5555555555555556,
              "#d8576b"
             ],
             [
              0.6666666666666666,
              "#ed7953"
             ],
             [
              0.7777777777777778,
              "#fb9f3a"
             ],
             [
              0.8888888888888888,
              "#fdca26"
             ],
             [
              1,
              "#f0f921"
             ]
            ],
            "type": "contour"
           }
          ],
          "contourcarpet": [
           {
            "colorbar": {
             "outlinewidth": 0,
             "ticks": ""
            },
            "type": "contourcarpet"
           }
          ],
          "heatmap": [
           {
            "colorbar": {
             "outlinewidth": 0,
             "ticks": ""
            },
            "colorscale": [
             [
              0,
              "#0d0887"
             ],
             [
              0.1111111111111111,
              "#46039f"
             ],
             [
              0.2222222222222222,
              "#7201a8"
             ],
             [
              0.3333333333333333,
              "#9c179e"
             ],
             [
              0.4444444444444444,
              "#bd3786"
             ],
             [
              0.5555555555555556,
              "#d8576b"
             ],
             [
              0.6666666666666666,
              "#ed7953"
             ],
             [
              0.7777777777777778,
              "#fb9f3a"
             ],
             [
              0.8888888888888888,
              "#fdca26"
             ],
             [
              1,
              "#f0f921"
             ]
            ],
            "type": "heatmap"
           }
          ],
          "heatmapgl": [
           {
            "colorbar": {
             "outlinewidth": 0,
             "ticks": ""
            },
            "colorscale": [
             [
              0,
              "#0d0887"
             ],
             [
              0.1111111111111111,
              "#46039f"
             ],
             [
              0.2222222222222222,
              "#7201a8"
             ],
             [
              0.3333333333333333,
              "#9c179e"
             ],
             [
              0.4444444444444444,
              "#bd3786"
             ],
             [
              0.5555555555555556,
              "#d8576b"
             ],
             [
              0.6666666666666666,
              "#ed7953"
             ],
             [
              0.7777777777777778,
              "#fb9f3a"
             ],
             [
              0.8888888888888888,
              "#fdca26"
             ],
             [
              1,
              "#f0f921"
             ]
            ],
            "type": "heatmapgl"
           }
          ],
          "histogram": [
           {
            "marker": {
             "pattern": {
              "fillmode": "overlay",
              "size": 10,
              "solidity": 0.2
             }
            },
            "type": "histogram"
           }
          ],
          "histogram2d": [
           {
            "colorbar": {
             "outlinewidth": 0,
             "ticks": ""
            },
            "colorscale": [
             [
              0,
              "#0d0887"
             ],
             [
              0.1111111111111111,
              "#46039f"
             ],
             [
              0.2222222222222222,
              "#7201a8"
             ],
             [
              0.3333333333333333,
              "#9c179e"
             ],
             [
              0.4444444444444444,
              "#bd3786"
             ],
             [
              0.5555555555555556,
              "#d8576b"
             ],
             [
              0.6666666666666666,
              "#ed7953"
             ],
             [
              0.7777777777777778,
              "#fb9f3a"
             ],
             [
              0.8888888888888888,
              "#fdca26"
             ],
             [
              1,
              "#f0f921"
             ]
            ],
            "type": "histogram2d"
           }
          ],
          "histogram2dcontour": [
           {
            "colorbar": {
             "outlinewidth": 0,
             "ticks": ""
            },
            "colorscale": [
             [
              0,
              "#0d0887"
             ],
             [
              0.1111111111111111,
              "#46039f"
             ],
             [
              0.2222222222222222,
              "#7201a8"
             ],
             [
              0.3333333333333333,
              "#9c179e"
             ],
             [
              0.4444444444444444,
              "#bd3786"
             ],
             [
              0.5555555555555556,
              "#d8576b"
             ],
             [
              0.6666666666666666,
              "#ed7953"
             ],
             [
              0.7777777777777778,
              "#fb9f3a"
             ],
             [
              0.8888888888888888,
              "#fdca26"
             ],
             [
              1,
              "#f0f921"
             ]
            ],
            "type": "histogram2dcontour"
           }
          ],
          "mesh3d": [
           {
            "colorbar": {
             "outlinewidth": 0,
             "ticks": ""
            },
            "type": "mesh3d"
           }
          ],
          "parcoords": [
           {
            "line": {
             "colorbar": {
              "outlinewidth": 0,
              "ticks": ""
             }
            },
            "type": "parcoords"
           }
          ],
          "pie": [
           {
            "automargin": true,
            "type": "pie"
           }
          ],
          "scatter": [
           {
            "fillpattern": {
             "fillmode": "overlay",
             "size": 10,
             "solidity": 0.2
            },
            "type": "scatter"
           }
          ],
          "scatter3d": [
           {
            "line": {
             "colorbar": {
              "outlinewidth": 0,
              "ticks": ""
             }
            },
            "marker": {
             "colorbar": {
              "outlinewidth": 0,
              "ticks": ""
             }
            },
            "type": "scatter3d"
           }
          ],
          "scattercarpet": [
           {
            "marker": {
             "colorbar": {
              "outlinewidth": 0,
              "ticks": ""
             }
            },
            "type": "scattercarpet"
           }
          ],
          "scattergeo": [
           {
            "marker": {
             "colorbar": {
              "outlinewidth": 0,
              "ticks": ""
             }
            },
            "type": "scattergeo"
           }
          ],
          "scattergl": [
           {
            "marker": {
             "colorbar": {
              "outlinewidth": 0,
              "ticks": ""
             }
            },
            "type": "scattergl"
           }
          ],
          "scattermapbox": [
           {
            "marker": {
             "colorbar": {
              "outlinewidth": 0,
              "ticks": ""
             }
            },
            "type": "scattermapbox"
           }
          ],
          "scatterpolar": [
           {
            "marker": {
             "colorbar": {
              "outlinewidth": 0,
              "ticks": ""
             }
            },
            "type": "scatterpolar"
           }
          ],
          "scatterpolargl": [
           {
            "marker": {
             "colorbar": {
              "outlinewidth": 0,
              "ticks": ""
             }
            },
            "type": "scatterpolargl"
           }
          ],
          "scatterternary": [
           {
            "marker": {
             "colorbar": {
              "outlinewidth": 0,
              "ticks": ""
             }
            },
            "type": "scatterternary"
           }
          ],
          "surface": [
           {
            "colorbar": {
             "outlinewidth": 0,
             "ticks": ""
            },
            "colorscale": [
             [
              0,
              "#0d0887"
             ],
             [
              0.1111111111111111,
              "#46039f"
             ],
             [
              0.2222222222222222,
              "#7201a8"
             ],
             [
              0.3333333333333333,
              "#9c179e"
             ],
             [
              0.4444444444444444,
              "#bd3786"
             ],
             [
              0.5555555555555556,
              "#d8576b"
             ],
             [
              0.6666666666666666,
              "#ed7953"
             ],
             [
              0.7777777777777778,
              "#fb9f3a"
             ],
             [
              0.8888888888888888,
              "#fdca26"
             ],
             [
              1,
              "#f0f921"
             ]
            ],
            "type": "surface"
           }
          ],
          "table": [
           {
            "cells": {
             "fill": {
              "color": "#EBF0F8"
             },
             "line": {
              "color": "white"
             }
            },
            "header": {
             "fill": {
              "color": "#C8D4E3"
             },
             "line": {
              "color": "white"
             }
            },
            "type": "table"
           }
          ]
         },
         "layout": {
          "annotationdefaults": {
           "arrowcolor": "#2a3f5f",
           "arrowhead": 0,
           "arrowwidth": 1
          },
          "autotypenumbers": "strict",
          "coloraxis": {
           "colorbar": {
            "outlinewidth": 0,
            "ticks": ""
           }
          },
          "colorscale": {
           "diverging": [
            [
             0,
             "#8e0152"
            ],
            [
             0.1,
             "#c51b7d"
            ],
            [
             0.2,
             "#de77ae"
            ],
            [
             0.3,
             "#f1b6da"
            ],
            [
             0.4,
             "#fde0ef"
            ],
            [
             0.5,
             "#f7f7f7"
            ],
            [
             0.6,
             "#e6f5d0"
            ],
            [
             0.7,
             "#b8e186"
            ],
            [
             0.8,
             "#7fbc41"
            ],
            [
             0.9,
             "#4d9221"
            ],
            [
             1,
             "#276419"
            ]
           ],
           "sequential": [
            [
             0,
             "#0d0887"
            ],
            [
             0.1111111111111111,
             "#46039f"
            ],
            [
             0.2222222222222222,
             "#7201a8"
            ],
            [
             0.3333333333333333,
             "#9c179e"
            ],
            [
             0.4444444444444444,
             "#bd3786"
            ],
            [
             0.5555555555555556,
             "#d8576b"
            ],
            [
             0.6666666666666666,
             "#ed7953"
            ],
            [
             0.7777777777777778,
             "#fb9f3a"
            ],
            [
             0.8888888888888888,
             "#fdca26"
            ],
            [
             1,
             "#f0f921"
            ]
           ],
           "sequentialminus": [
            [
             0,
             "#0d0887"
            ],
            [
             0.1111111111111111,
             "#46039f"
            ],
            [
             0.2222222222222222,
             "#7201a8"
            ],
            [
             0.3333333333333333,
             "#9c179e"
            ],
            [
             0.4444444444444444,
             "#bd3786"
            ],
            [
             0.5555555555555556,
             "#d8576b"
            ],
            [
             0.6666666666666666,
             "#ed7953"
            ],
            [
             0.7777777777777778,
             "#fb9f3a"
            ],
            [
             0.8888888888888888,
             "#fdca26"
            ],
            [
             1,
             "#f0f921"
            ]
           ]
          },
          "colorway": [
           "#636efa",
           "#EF553B",
           "#00cc96",
           "#ab63fa",
           "#FFA15A",
           "#19d3f3",
           "#FF6692",
           "#B6E880",
           "#FF97FF",
           "#FECB52"
          ],
          "font": {
           "color": "#2a3f5f"
          },
          "geo": {
           "bgcolor": "white",
           "lakecolor": "white",
           "landcolor": "#E5ECF6",
           "showlakes": true,
           "showland": true,
           "subunitcolor": "white"
          },
          "hoverlabel": {
           "align": "left"
          },
          "hovermode": "closest",
          "mapbox": {
           "style": "light"
          },
          "paper_bgcolor": "white",
          "plot_bgcolor": "#E5ECF6",
          "polar": {
           "angularaxis": {
            "gridcolor": "white",
            "linecolor": "white",
            "ticks": ""
           },
           "bgcolor": "#E5ECF6",
           "radialaxis": {
            "gridcolor": "white",
            "linecolor": "white",
            "ticks": ""
           }
          },
          "scene": {
           "xaxis": {
            "backgroundcolor": "#E5ECF6",
            "gridcolor": "white",
            "gridwidth": 2,
            "linecolor": "white",
            "showbackground": true,
            "ticks": "",
            "zerolinecolor": "white"
           },
           "yaxis": {
            "backgroundcolor": "#E5ECF6",
            "gridcolor": "white",
            "gridwidth": 2,
            "linecolor": "white",
            "showbackground": true,
            "ticks": "",
            "zerolinecolor": "white"
           },
           "zaxis": {
            "backgroundcolor": "#E5ECF6",
            "gridcolor": "white",
            "gridwidth": 2,
            "linecolor": "white",
            "showbackground": true,
            "ticks": "",
            "zerolinecolor": "white"
           }
          },
          "shapedefaults": {
           "line": {
            "color": "#2a3f5f"
           }
          },
          "ternary": {
           "aaxis": {
            "gridcolor": "white",
            "linecolor": "white",
            "ticks": ""
           },
           "baxis": {
            "gridcolor": "white",
            "linecolor": "white",
            "ticks": ""
           },
           "bgcolor": "#E5ECF6",
           "caxis": {
            "gridcolor": "white",
            "linecolor": "white",
            "ticks": ""
           }
          },
          "title": {
           "x": 0.05
          },
          "xaxis": {
           "automargin": true,
           "gridcolor": "white",
           "linecolor": "white",
           "ticks": "",
           "title": {
            "standoff": 15
           },
           "zerolinecolor": "white",
           "zerolinewidth": 2
          },
          "yaxis": {
           "automargin": true,
           "gridcolor": "white",
           "linecolor": "white",
           "ticks": "",
           "title": {
            "standoff": 15
           },
           "zerolinecolor": "white",
           "zerolinewidth": 2
          }
         }
        },
        "title": {
         "text": "Cumulative Sum & Value of SPY Shares over Date"
        },
        "xaxis": {
         "anchor": "y",
         "domain": [
          0,
          1
         ],
         "title": {
          "text": "Date"
         }
        },
        "yaxis": {
         "anchor": "x",
         "domain": [
          0,
          1
         ],
         "title": {
          "text": "Value"
         }
        }
       }
      }
     },
     "metadata": {},
     "output_type": "display_data"
    }
   ],
   "source": [
    "fig = px.line(df_chart_comp, x='Date', y=['CumSum', 'SPY_buy_hold'], \n",
    "              labels={'value': 'Value', 'variable': 'Legend'},\n",
    "              title='Cumulative Sum & Value of SPY Shares over Date')\n",
    "\n",
    "fig.show()\n"
   ]
  },
  {
   "attachments": {},
   "cell_type": "markdown",
   "metadata": {},
   "source": [
    "## Metrics"
   ]
  },
  {
   "attachments": {},
   "cell_type": "markdown",
   "metadata": {},
   "source": [
    "### Annualized return"
   ]
  },
  {
   "cell_type": "code",
   "execution_count": 152,
   "metadata": {},
   "outputs": [
    {
     "data": {
      "text/plain": [
       "1.3401805235228919"
      ]
     },
     "execution_count": 152,
     "metadata": {},
     "output_type": "execute_result"
    }
   ],
   "source": [
    "# calculations for SPY\n",
    "# Drop rows with NaN values in 'SPY Price' column\n",
    "spy_starting_price = df_chart_comp['SPY Price'].iloc[0]\n",
    "df_chart_comp_cleaned = df_chart_comp.dropna(subset=['SPY Price'])\n",
    "\n",
    "# Get the new ending price of SPY\n",
    "spy_ending_price_cleaned = df_chart_comp_cleaned['SPY Price'].iloc[-1]\n",
    "\n",
    "# Recalculate the total return for SPY\n",
    "spy_total_return_cleaned = (spy_ending_price_cleaned / spy_starting_price) - 1\n",
    "\n",
    "spy_total_return_cleaned\n"
   ]
  },
  {
   "cell_type": "code",
   "execution_count": 157,
   "metadata": {},
   "outputs": [
    {
     "data": {
      "text/plain": [
       "52.13"
      ]
     },
     "execution_count": 157,
     "metadata": {},
     "output_type": "execute_result"
    }
   ],
   "source": [
    "### Annualized return\n",
    "total_return = df_chart_comp['Profit/Loss'].sum()\n",
    "# Calculate the total number of days the strategy ran\n",
    "num_days = (df_chart_comp['Date'].iloc[-1] - df_chart_comp['Date'].iloc[0]).days\n",
    "\n",
    "# Calculate the annualized return using the total return and number of days\n",
    "annualized_return = ((1 + total_return / df_chart_comp['CumSum'].iloc[0]) ** (365.0 / num_days)) - 1\n",
    "\n",
    "annualized_return = round(annualized_return*100,2)\n",
    "annualized_return"
   ]
  },
  {
   "cell_type": "code",
   "execution_count": 158,
   "metadata": {},
   "outputs": [
    {
     "data": {
      "text/plain": [
       "9.36"
      ]
     },
     "execution_count": 158,
     "metadata": {},
     "output_type": "execute_result"
    }
   ],
   "source": [
    "### Annualized return SPY\n",
    "# Calculate the total number of days the data covers (for the cleaned data)\n",
    "num_days_spy = (df_chart_comp_cleaned['Date'].iloc[-1] - df_chart_comp_cleaned['Date'].iloc[0]).days\n",
    "\n",
    "# Calculate the annualized return for SPY using the total return and number of days\n",
    "spy_annualized_return = ((1 + spy_total_return_cleaned) ** (365.0 / num_days_spy)) - 1\n",
    "\n",
    "spy_annualized_return =round(spy_annualized_return*100,2)\n",
    "spy_annualized_return\n"
   ]
  },
  {
   "attachments": {},
   "cell_type": "markdown",
   "metadata": {},
   "source": [
    "### Volatility (Standard Deviation):"
   ]
  },
  {
   "cell_type": "code",
   "execution_count": 147,
   "metadata": {},
   "outputs": [
    {
     "data": {
      "text/plain": [
       "46.35"
      ]
     },
     "execution_count": 147,
     "metadata": {},
     "output_type": "execute_result"
    }
   ],
   "source": [
    "# 1. Compute the daily returns\n",
    "df_chart_comp['Daily Returns'] = df_chart_comp['CumSum'].pct_change()\n",
    "\n",
    "# 2. Calculate the standard deviation of these daily returns\n",
    "daily_volatility = df_chart_comp['Daily Returns'].std()\n",
    "\n",
    "# 3. Annualize the standard deviation\n",
    "annualized_volatility = round(daily_volatility * (252**0.5),2)  # Using 252 trading days in a year\n",
    "\n",
    "annualized_volatility\n"
   ]
  },
  {
   "cell_type": "code",
   "execution_count": null,
   "metadata": {},
   "outputs": [],
   "source": []
  },
  {
   "cell_type": "code",
   "execution_count": 166,
   "metadata": {},
   "outputs": [
    {
     "data": {
      "text/plain": [
       "-0.17493188010899183"
      ]
     },
     "execution_count": 166,
     "metadata": {},
     "output_type": "execute_result"
    }
   ],
   "source": [
    "# 1. Create a new column for cumulative balance\n",
    "df_chart_comp['Cumulative Balance'] = init_cap + df_chart_comp['Profit/Loss'].cumsum()\n",
    "\n",
    "# 2. Calculate running max for the cumulative balance\n",
    "running_max_balance = df_chart_comp['Cumulative Balance'].cummax()\n",
    "\n",
    "# 3. Calculate drawdowns as the decline from the running max balance\n",
    "drawdowns_balance = (df_chart_comp['Cumulative Balance'] - running_max_balance) / running_max_balance\n",
    "\n",
    "# 4. Identify the maximum drawdown\n",
    "max_drawdown_balance = drawdowns_balance.min()\n",
    "\n",
    "max_drawdown_balance\n"
   ]
  },
  {
   "attachments": {},
   "cell_type": "markdown",
   "metadata": {},
   "source": [
    "### consecutive loss trades\n",
    " "
   ]
  },
  {
   "cell_type": "code",
   "execution_count": 171,
   "metadata": {},
   "outputs": [
    {
     "data": {
      "text/plain": [
       "2"
      ]
     },
     "execution_count": 171,
     "metadata": {},
     "output_type": "execute_result"
    }
   ],
   "source": [
    "# 1. Create a binary column for loss days\n",
    "df_chart_comp['Loss Day'] = (df_chart_comp['Profit/Loss'] < 0).astype(int)\n",
    "\n",
    "# 2. Calculate the cumulative sum of loss days, but reset to zero whenever a non-loss day is encountered\n",
    "df_chart_comp['Consecutive Loss Days'] = df_chart_comp['Loss Day'].groupby((df_chart_comp['Loss Day'] == 0).cumsum()).cumsum()\n",
    "\n",
    "# 3. Find the maximum number of consecutive loss days\n",
    "max_consecutive_loss_days = df_chart_comp['Consecutive Loss Days'].max()\n",
    "\n",
    "max_consecutive_loss_days\n"
   ]
  },
  {
   "cell_type": "code",
   "execution_count": null,
   "metadata": {},
   "outputs": [],
   "source": []
  },
  {
   "cell_type": "code",
   "execution_count": null,
   "metadata": {},
   "outputs": [],
   "source": []
  },
  {
   "cell_type": "code",
   "execution_count": null,
   "metadata": {},
   "outputs": [],
   "source": []
  },
  {
   "cell_type": "code",
   "execution_count": null,
   "metadata": {},
   "outputs": [],
   "source": []
  },
  {
   "cell_type": "code",
   "execution_count": 165,
   "metadata": {},
   "outputs": [],
   "source": [
    "#df_chart_comp_cleaned"
   ]
  },
  {
   "attachments": {},
   "cell_type": "markdown",
   "metadata": {},
   "source": [
    "## sharpe ratio"
   ]
  },
  {
   "cell_type": "code",
   "execution_count": 163,
   "metadata": {},
   "outputs": [
    {
     "name": "stderr",
     "output_type": "stream",
     "text": [
      "C:\\Users\\Vova\\AppData\\Local\\Temp\\ipykernel_13344\\1792305581.py:1: SettingWithCopyWarning:\n",
      "\n",
      "\n",
      "A value is trying to be set on a copy of a slice from a DataFrame.\n",
      "Try using .loc[row_indexer,col_indexer] = value instead\n",
      "\n",
      "See the caveats in the documentation: https://pandas.pydata.org/pandas-docs/stable/user_guide/indexing.html#returning-a-view-versus-a-copy\n",
      "\n"
     ]
    }
   ],
   "source": [
    "\n",
    "\n",
    "df_chart_comp_cleaned['Year'] = df_chart_comp_cleaned['Date'].dt.year\n",
    "\n",
    "\n",
    "df_annual = df_chart_comp_cleaned.groupby('Year')['Profit/Loss'].sum().reset_index()\n"
   ]
  },
  {
   "cell_type": "code",
   "execution_count": 22,
   "metadata": {},
   "outputs": [],
   "source": []
  },
  {
   "cell_type": "code",
   "execution_count": 164,
   "metadata": {},
   "outputs": [
    {
     "ename": "KeyError",
     "evalue": "'Annual Profit'",
     "output_type": "error",
     "traceback": [
      "\u001b[1;31m---------------------------------------------------------------------------\u001b[0m",
      "\u001b[1;31mKeyError\u001b[0m                                  Traceback (most recent call last)",
      "File \u001b[1;32mc:\\Program Files\\Python310\\lib\\site-packages\\pandas\\core\\indexes\\base.py:3803\u001b[0m, in \u001b[0;36mIndex.get_loc\u001b[1;34m(self, key, method, tolerance)\u001b[0m\n\u001b[0;32m   3802\u001b[0m \u001b[39mtry\u001b[39;00m:\n\u001b[1;32m-> 3803\u001b[0m     \u001b[39mreturn\u001b[39;00m \u001b[39mself\u001b[39;49m\u001b[39m.\u001b[39;49m_engine\u001b[39m.\u001b[39;49mget_loc(casted_key)\n\u001b[0;32m   3804\u001b[0m \u001b[39mexcept\u001b[39;00m \u001b[39mKeyError\u001b[39;00m \u001b[39mas\u001b[39;00m err:\n",
      "File \u001b[1;32mc:\\Program Files\\Python310\\lib\\site-packages\\pandas\\_libs\\index.pyx:138\u001b[0m, in \u001b[0;36mpandas._libs.index.IndexEngine.get_loc\u001b[1;34m()\u001b[0m\n",
      "File \u001b[1;32mc:\\Program Files\\Python310\\lib\\site-packages\\pandas\\_libs\\index.pyx:165\u001b[0m, in \u001b[0;36mpandas._libs.index.IndexEngine.get_loc\u001b[1;34m()\u001b[0m\n",
      "File \u001b[1;32mpandas\\_libs\\hashtable_class_helper.pxi:5745\u001b[0m, in \u001b[0;36mpandas._libs.hashtable.PyObjectHashTable.get_item\u001b[1;34m()\u001b[0m\n",
      "File \u001b[1;32mpandas\\_libs\\hashtable_class_helper.pxi:5753\u001b[0m, in \u001b[0;36mpandas._libs.hashtable.PyObjectHashTable.get_item\u001b[1;34m()\u001b[0m\n",
      "\u001b[1;31mKeyError\u001b[0m: 'Annual Profit'",
      "\nThe above exception was the direct cause of the following exception:\n",
      "\u001b[1;31mKeyError\u001b[0m                                  Traceback (most recent call last)",
      "Cell \u001b[1;32mIn[164], line 1\u001b[0m\n\u001b[1;32m----> 1\u001b[0m average_annual \u001b[39m=\u001b[39m df_annual[\u001b[39m'\u001b[39;49m\u001b[39mAnnual Profit\u001b[39;49m\u001b[39m'\u001b[39;49m]\u001b[39m.\u001b[39mmean()\n",
      "File \u001b[1;32mc:\\Program Files\\Python310\\lib\\site-packages\\pandas\\core\\frame.py:3804\u001b[0m, in \u001b[0;36mDataFrame.__getitem__\u001b[1;34m(self, key)\u001b[0m\n\u001b[0;32m   3802\u001b[0m \u001b[39mif\u001b[39;00m \u001b[39mself\u001b[39m\u001b[39m.\u001b[39mcolumns\u001b[39m.\u001b[39mnlevels \u001b[39m>\u001b[39m \u001b[39m1\u001b[39m:\n\u001b[0;32m   3803\u001b[0m     \u001b[39mreturn\u001b[39;00m \u001b[39mself\u001b[39m\u001b[39m.\u001b[39m_getitem_multilevel(key)\n\u001b[1;32m-> 3804\u001b[0m indexer \u001b[39m=\u001b[39m \u001b[39mself\u001b[39;49m\u001b[39m.\u001b[39;49mcolumns\u001b[39m.\u001b[39;49mget_loc(key)\n\u001b[0;32m   3805\u001b[0m \u001b[39mif\u001b[39;00m is_integer(indexer):\n\u001b[0;32m   3806\u001b[0m     indexer \u001b[39m=\u001b[39m [indexer]\n",
      "File \u001b[1;32mc:\\Program Files\\Python310\\lib\\site-packages\\pandas\\core\\indexes\\base.py:3805\u001b[0m, in \u001b[0;36mIndex.get_loc\u001b[1;34m(self, key, method, tolerance)\u001b[0m\n\u001b[0;32m   3803\u001b[0m     \u001b[39mreturn\u001b[39;00m \u001b[39mself\u001b[39m\u001b[39m.\u001b[39m_engine\u001b[39m.\u001b[39mget_loc(casted_key)\n\u001b[0;32m   3804\u001b[0m \u001b[39mexcept\u001b[39;00m \u001b[39mKeyError\u001b[39;00m \u001b[39mas\u001b[39;00m err:\n\u001b[1;32m-> 3805\u001b[0m     \u001b[39mraise\u001b[39;00m \u001b[39mKeyError\u001b[39;00m(key) \u001b[39mfrom\u001b[39;00m \u001b[39merr\u001b[39;00m\n\u001b[0;32m   3806\u001b[0m \u001b[39mexcept\u001b[39;00m \u001b[39mTypeError\u001b[39;00m:\n\u001b[0;32m   3807\u001b[0m     \u001b[39m# If we have a listlike key, _check_indexing_error will raise\u001b[39;00m\n\u001b[0;32m   3808\u001b[0m     \u001b[39m#  InvalidIndexError. Otherwise we fall through and re-raise\u001b[39;00m\n\u001b[0;32m   3809\u001b[0m     \u001b[39m#  the TypeError.\u001b[39;00m\n\u001b[0;32m   3810\u001b[0m     \u001b[39mself\u001b[39m\u001b[39m.\u001b[39m_check_indexing_error(key)\n",
      "\u001b[1;31mKeyError\u001b[0m: 'Annual Profit'"
     ]
    }
   ],
   "source": [
    "average_annual = df_annual['Annual Profit'].mean()"
   ]
  },
  {
   "cell_type": "code",
   "execution_count": 25,
   "metadata": {},
   "outputs": [],
   "source": [
    "std_dev_annual_return = df_annual['Annual Profit'].std()"
   ]
  },
  {
   "cell_type": "code",
   "execution_count": 26,
   "metadata": {},
   "outputs": [
    {
     "data": {
      "text/plain": [
       "132.46090332279525"
      ]
     },
     "execution_count": 26,
     "metadata": {},
     "output_type": "execute_result"
    }
   ],
   "source": [
    "std_dev_annual_return"
   ]
  },
  {
   "cell_type": "code",
   "execution_count": 30,
   "metadata": {},
   "outputs": [],
   "source": [
    "risk_free_rate = 5.0"
   ]
  },
  {
   "cell_type": "code",
   "execution_count": 31,
   "metadata": {},
   "outputs": [
    {
     "data": {
      "text/plain": [
       "1.3657546217107686"
      ]
     },
     "execution_count": 31,
     "metadata": {},
     "output_type": "execute_result"
    }
   ],
   "source": [
    "# Calculate the annualized Sharpe Ratio\n",
    "annualized_sharpe_ratio = (average_annual - risk_free_rate) / std_dev_annual_return\n",
    "annualized_sharpe_ratio"
   ]
  },
  {
   "attachments": {},
   "cell_type": "markdown",
   "metadata": {},
   "source": [
    "## Sortino Ratio"
   ]
  },
  {
   "cell_type": "code",
   "execution_count": 33,
   "metadata": {},
   "outputs": [
    {
     "data": {
      "text/html": [
       "<div>\n",
       "<style scoped>\n",
       "    .dataframe tbody tr th:only-of-type {\n",
       "        vertical-align: middle;\n",
       "    }\n",
       "\n",
       "    .dataframe tbody tr th {\n",
       "        vertical-align: top;\n",
       "    }\n",
       "\n",
       "    .dataframe thead th {\n",
       "        text-align: right;\n",
       "    }\n",
       "</style>\n",
       "<table border=\"1\" class=\"dataframe\">\n",
       "  <thead>\n",
       "    <tr style=\"text-align: right;\">\n",
       "      <th></th>\n",
       "      <th>Year</th>\n",
       "      <th>Annual Profit</th>\n",
       "    </tr>\n",
       "  </thead>\n",
       "  <tbody>\n",
       "    <tr>\n",
       "      <th>0</th>\n",
       "      <td>2013</td>\n",
       "      <td>79.0</td>\n",
       "    </tr>\n",
       "    <tr>\n",
       "      <th>1</th>\n",
       "      <td>2014</td>\n",
       "      <td>205.0</td>\n",
       "    </tr>\n",
       "    <tr>\n",
       "      <th>2</th>\n",
       "      <td>2015</td>\n",
       "      <td>21.0</td>\n",
       "    </tr>\n",
       "    <tr>\n",
       "      <th>3</th>\n",
       "      <td>2016</td>\n",
       "      <td>266.0</td>\n",
       "    </tr>\n",
       "    <tr>\n",
       "      <th>4</th>\n",
       "      <td>2017</td>\n",
       "      <td>193.0</td>\n",
       "    </tr>\n",
       "    <tr>\n",
       "      <th>5</th>\n",
       "      <td>2018</td>\n",
       "      <td>72.0</td>\n",
       "    </tr>\n",
       "    <tr>\n",
       "      <th>6</th>\n",
       "      <td>2019</td>\n",
       "      <td>177.0</td>\n",
       "    </tr>\n",
       "    <tr>\n",
       "      <th>7</th>\n",
       "      <td>2020</td>\n",
       "      <td>32.0</td>\n",
       "    </tr>\n",
       "    <tr>\n",
       "      <th>8</th>\n",
       "      <td>2021</td>\n",
       "      <td>392.0</td>\n",
       "    </tr>\n",
       "    <tr>\n",
       "      <th>9</th>\n",
       "      <td>2022</td>\n",
       "      <td>411.0</td>\n",
       "    </tr>\n",
       "    <tr>\n",
       "      <th>10</th>\n",
       "      <td>2023</td>\n",
       "      <td>197.0</td>\n",
       "    </tr>\n",
       "  </tbody>\n",
       "</table>\n",
       "</div>"
      ],
      "text/plain": [
       "    Year  Annual Profit\n",
       "0   2013           79.0\n",
       "1   2014          205.0\n",
       "2   2015           21.0\n",
       "3   2016          266.0\n",
       "4   2017          193.0\n",
       "5   2018           72.0\n",
       "6   2019          177.0\n",
       "7   2020           32.0\n",
       "8   2021          392.0\n",
       "9   2022          411.0\n",
       "10  2023          197.0"
      ]
     },
     "execution_count": 33,
     "metadata": {},
     "output_type": "execute_result"
    }
   ],
   "source": [
    "df_annual"
   ]
  }
 ],
 "metadata": {
  "kernelspec": {
   "display_name": "Python 3",
   "language": "python",
   "name": "python3"
  },
  "language_info": {
   "codemirror_mode": {
    "name": "ipython",
    "version": 3
   },
   "file_extension": ".py",
   "mimetype": "text/x-python",
   "name": "python",
   "nbconvert_exporter": "python",
   "pygments_lexer": "ipython3",
   "version": "3.10.4"
  },
  "orig_nbformat": 4
 },
 "nbformat": 4,
 "nbformat_minor": 2
}
